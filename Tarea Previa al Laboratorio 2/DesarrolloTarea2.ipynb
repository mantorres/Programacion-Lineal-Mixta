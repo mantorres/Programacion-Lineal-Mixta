{
 "cells": [
  {
   "cell_type": "code",
   "execution_count": 1,
   "metadata": {},
   "outputs": [
    {
     "name": "stdout",
     "output_type": "stream",
     "text": [
      "Set parameter Username\n",
      "Academic license - for non-commercial use only - expires 2023-03-09\n"
     ]
    },
    {
     "name": "stderr",
     "output_type": "stream",
     "text": [
      "\u001b[32m\u001b[1m    Updating\u001b[22m\u001b[39m registry at `C:\\Users\\Personal\\.julia\\registries\\General.toml`\n",
      "\u001b[32m\u001b[1m   Resolving\u001b[22m\u001b[39m package versions...\n",
      "\u001b[32m\u001b[1m  No Changes\u001b[22m\u001b[39m to `C:\\Users\\Personal\\.julia\\environments\\v1.7\\Project.toml`\n",
      "\u001b[32m\u001b[1m  No Changes\u001b[22m\u001b[39m to `C:\\Users\\Personal\\.julia\\environments\\v1.7\\Manifest.toml`\n"
     ]
    },
    {
     "data": {
      "text/plain": [
       "Gurobi.Env(Ptr{Nothing} @0x0000000042c76250, false, 0)"
      ]
     },
     "execution_count": 1,
     "metadata": {},
     "output_type": "execute_result"
    }
   ],
   "source": [
    "using Pkg\n",
    "Pkg.add(\"Distributions\")\n",
    "using JuMP, Gurobi, LinearAlgebra,Combinatorics, DelimitedFiles, Statistics, Distributions\n",
    "# Abrir un solo ambiente de Gurobi, Jupyter se marea si se crean demasiados modelos durante en una misma celda.\n",
    "const GUROBI_ENV = Gurobi.Env()"
   ]
  },
  {
   "cell_type": "markdown",
   "metadata": {},
   "source": [
    "El problema que queremos resolver es:\n",
    "\\begin{equation}\n",
    "    \\overline{\\mathcal{P}}:\\quad \\max\\{g^{t}z : z\\in Q, z\\leq d\\},\n",
    "\\end{equation}\n",
    "donde $Q := \\text{conv}(A)$, para $A$ una matriz con $m$ filas y $n$ columnas\n",
    "\n",
    "## Problema 1\n",
    "\n",
    "Demuestre que el problema $\\overline{\\mathcal{P}}$ es equivalente a\n",
    "\\begin{equation}\n",
    "    \\mathcal{P}:\\quad \\max\\{(g^{t}A)x : \\sum_{j=1}^{n}x_{j} = 1,\\ Ax\\leq d,\\ x\\geq0\\}.\n",
    "\\end{equation}\n",
    "\n",
    "**Demostración:**  Notemos que\n",
    "\\begin{equation}\n",
    "    \\left.\\begin{array}{c}x\\geq0\\\\\\displaystyle\\sum_{j=1}^{n}x_{j}=1\\end{array}\\right\\}\n",
    "    \\iff\n",
    "    \\left\\{\\begin{array}{c}0\\leq x\\leq 1\\\\\\displaystyle\\sum_{j=1}^{n}x_{j}=1\\end{array}\\right.\n",
    "\\end{equation}\n",
    "\n",
    "Además como $Q:=\\text{conv}(A)$, lo escribimos como\n",
    "\\begin{equation}\n",
    "    Q = \\{y\\in\\mathbb{R}^{m} : Ax = y,\\ 0\\leq x\\leq 1,\\ \\sum_{j=1}^{n}x_{j}=1\\}.\n",
    "\\end{equation}\n",
    "\n",
    "Por lo tanto, es evidente que reordenando el conjunto de la función a optimizar podemos ver la equivalencia entre los problemas deseados, en efecto:\n",
    "\\begin{eqnarray*}\n",
    "    \\overline{\\mathcal{P}} \n",
    "    &=&    \\max\\{g^{t}z : z\\in Q,\\ z\\leq d\\}                                         \\\\\n",
    "    &=&    \\max\\{g^{t}z : Ax = z,\\ 0\\leq x\\leq 1,\\ \\sum_{j=1}^{n}x_{j}=1,\\ z\\leq d\\} \\\\\n",
    "    &=&    \\max\\{g^{t}Ax :0\\leq x\\leq 1,\\ \\sum_{j=1}^{n}x_{j}=1,\\ Ax\\leq d\\}         \\\\\n",
    "    &=&    \\max\\{g^{t}Ax :0\\leq x,\\ \\sum_{j=1}^{n}x_{j}=1,\\ Ax\\leq d\\}         \\\\\n",
    "    &=& \\mathcal{P}. \\qquad \\blacksquare\n",
    "\\end{eqnarray*}"
   ]
  },
  {
   "cell_type": "markdown",
   "metadata": {},
   "source": [
    "## Problema 2\n",
    "Usando *Julia/JuMP/GUROBI* programe el problema $\\mathcal{P}$. Para ello, debe implementarlo en la función *modTI(A,d,g)* del notebook adjunto. Recibe como input una matriz $A$ de $n$ filas y $m$ columnas, junto con vectores $d,g$ de $n$ filas. Debe retornar e lmodelo planteado."
   ]
  },
  {
   "cell_type": "code",
   "execution_count": 2,
   "metadata": {},
   "outputs": [
    {
     "data": {
      "text/plain": [
       "modTI (generic function with 2 methods)"
      ]
     },
     "execution_count": 2,
     "metadata": {},
     "output_type": "execute_result"
    }
   ],
   "source": [
    "#===========================================================\n",
    "Formato de objetos de un problema de optimizacion\n",
    "===========================================================#\n",
    "#     @variable(modelo, variables_con_sus_dominios, )\n",
    "#     @objective(modelo, Min, expresion_de_la_funcion_objetivo)\n",
    "#     @constraints(modelo, begin\n",
    "#         primeraRestriccion ...\n",
    "#     end)\n",
    "function modTI(A,d,g,verboso=false)\n",
    "    #===========================================================\n",
    "    Inputs       =  A es una matriz de n x m, d y g son vectores \n",
    "                    de tamaño n.\n",
    "    Outputs      =  Modelo que maximiza la funcion.\n",
    "    Descripcion  =  Problema \\mathcal{P}.\n",
    "    ===========================================================#\n",
    "    modelo = Model(optimizer_with_attributes(()->\n",
    "            Gurobi.Optimizer(GUROBI_ENV),\"Presolve\"=>0, \n",
    "            \"Cuts\"=> 0, \"Heuristics\"=> 0, \"Threads\"=>1))\n",
    "    if !verboso\n",
    "        set_silent(modelo)\n",
    "    end\n",
    "    #===========================================================\n",
    "    Variables\n",
    "    ===========================================================#    \n",
    "    @variable(modelo, 0 <= x[1:size(A)[2]])\n",
    "    #===========================================================\n",
    "    Restricciones\n",
    "    ===========================================================#\n",
    "    # Restriccion que indica que la suma de ponderadores es 1\n",
    "    @constraint(modelo, sum(x[i] for i in 1:size(A)[2]) == 1)\n",
    "    # Restriccion que indica que Ax <= d\n",
    "    for i in 1:size(d)[1]\n",
    "        @constraint(modelo, dot(A[i,:], x) <= d[i])\n",
    "    end\n",
    "    #===========================================================\n",
    "    Funcion objetivo\n",
    "    ===========================================================#\n",
    "    @objective(modelo, Max, dot(g,A*x))\n",
    "    return modelo\n",
    "end"
   ]
  },
  {
   "cell_type": "markdown",
   "metadata": {},
   "source": [
    "## Problema 3\n",
    "En el archivo *instancias.zip* se le entregan 11 matrices $A_{i}$ distintas, cada cual tiene $i$ filas y $2i$ columnas, con $i=5,\\dots,15$, y sus entradas son solo $-1,0$ o $1$.\n",
    "\n",
    "Para cada una de estas matrices $A_{i}$, defina y calcule (1) el vector $d_{A_{i}}\\in\\mathbb{R}^{i}$ tal que: $d_{A_{i}}(j)$ es el promedio de la $j$-ésima columna par de $A_{i}$, y (2) el vector $g_{A_{i}}\\in\\mathbb{R}^{i}$ tal que $g_{A_{i}}(j)$ es el pronmedio de la $j$-ésima columna impar de $A_{i}$. Para ello, debe completar el código respectivo en las funciones auxiliares *getd(A)* y *getg(A)* para obtener los vectores *d* y *g*, respectivamente, asumiendo que la entrada $A$ tiene $i$ filas y $2i$ colunas.\n",
    "\n",
    "Una vez definida las funciones *getd* y *getg*, ejecute la función *getsol( )* para obtener el valor de $\\mathcal{P}$ con las matrices $A$ de las instancias dadas, junto a los vectores $d_{A}$ y $g_{A}$."
   ]
  },
  {
   "cell_type": "code",
   "execution_count": 3,
   "metadata": {},
   "outputs": [
    {
     "data": {
      "text/plain": [
       "getd (generic function with 1 method)"
      ]
     },
     "execution_count": 3,
     "metadata": {},
     "output_type": "execute_result"
    }
   ],
   "source": [
    "function getd(A)\n",
    "    #===========================================================\n",
    "    Inputs       =  A es una matriz de i x 2i, d y g son \n",
    "                    vectores de tamaño n.\n",
    "    Output       = Retorna un vector de tamaño i\n",
    "    Descriopcion = Dada una matriz A de i filas y 2i columnas, \n",
    "                   calcula d como se especifica en el enunciado\n",
    "    ===========================================================#\n",
    "    # Obtenemos el tamaño de la matriz\n",
    "    n = size(A)[1] \n",
    "    # Definimos un vector d\n",
    "    d = zeros(n)\n",
    "    for j in 1:n\n",
    "        d[j] = mean(A[:,2*j])\n",
    "    end\n",
    "    output = d\n",
    "    return output\n",
    "end"
   ]
  },
  {
   "cell_type": "code",
   "execution_count": 10,
   "metadata": {},
   "outputs": [
    {
     "data": {
      "text/plain": [
       "getg (generic function with 1 method)"
      ]
     },
     "execution_count": 10,
     "metadata": {},
     "output_type": "execute_result"
    }
   ],
   "source": [
    "function getg(A)\n",
    "    #===========================================================\n",
    "    Inputs       =  A es una matriz de i x 2i, d y g son \n",
    "                    vectores de tamaño n.\n",
    "    Output       = Retorna un vector de tamaño i\n",
    "    Descriopcion = Dada una matriz A de i filas y 2i columnas, \n",
    "                   calcula g como se especifica en el enunciado\n",
    "    ===========================================================#\n",
    "    # Obtenemos el tamaño de la matriz\n",
    "    n = size(A)[1] \n",
    "    # Definimos un vector d\n",
    "    g = zeros(n)\n",
    "    for j in 1:n\n",
    "        g[j] = mean(A[:,2*j-1])\n",
    "    end\n",
    "    output = g\n",
    "    return output\n",
    "end"
   ]
  },
  {
   "cell_type": "code",
   "execution_count": 5,
   "metadata": {},
   "outputs": [
    {
     "name": "stdout",
     "output_type": "stream",
     "text": [
      "[11.0 5.5; 22.0 16.5]"
     ]
    }
   ],
   "source": [
    "# Test de los metodos getd() y getg()\n",
    "A = [1 2 3 4; \n",
    "    10 20 30 40]\n",
    "show([getd(A)  getg(A)])"
   ]
  },
  {
   "cell_type": "code",
   "execution_count": 6,
   "metadata": {},
   "outputs": [
    {
     "data": {
      "text/plain": [
       "getsol (generic function with 1 method)"
      ]
     },
     "execution_count": 6,
     "metadata": {},
     "output_type": "execute_result"
    }
   ],
   "source": [
    "#Funcion para cargar instancias A, calcular d y g, obtener el modelo y su valor en el optimo.\n",
    "function getsol()\n",
    "    for i in 1:11\n",
    "        println(\"INSTANCIA \"* string(i))\n",
    "        nm = \"instancia_\" * string(i) * \".txt\"\n",
    "        A=readdlm(nm, ' ', Int, '\\n')\n",
    "        #print(A)\n",
    "        d = getd(A)\n",
    "        #print(d)\n",
    "        g = getg(A)\n",
    "        #print(g)\n",
    "        #println(A)\n",
    "        modelo = modTI(A,d,g);\n",
    "        optimize!(modelo);\n",
    "        if termination_status(modelo) == MOI.OPTIMAL\n",
    "            print(\"El valor objetivo es: \")\n",
    "            println(objective_value(modelo))\n",
    "        end\n",
    "    end\n",
    "    return\n",
    "end"
   ]
  },
  {
   "cell_type": "code",
   "execution_count": 7,
   "metadata": {},
   "outputs": [
    {
     "name": "stdout",
     "output_type": "stream",
     "text": [
      "INSTANCIA 1\n",
      "Set parameter Presolve to value 0\n",
      "Set parameter Cuts to value 0\n",
      "Set parameter Heuristics to value 0\n",
      "Set parameter Threads to value 1\n",
      "El valor objetivo es: -0.06000000000000004\n",
      "INSTANCIA 2\n",
      "Set parameter Presolve to value 0\n",
      "Set parameter Cuts to value 0\n",
      "Set parameter Heuristics to value 0\n",
      "Set parameter Threads to value 1\n",
      "El valor objetivo es: -0.05555555555555569\n",
      "INSTANCIA 3\n",
      "Set parameter Presolve to value 0\n",
      "Set parameter Cuts to value 0\n",
      "Set parameter Heuristics to value 0\n",
      "Set parameter Threads to value 1\n",
      "El valor objetivo es: 0.14285714285714285\n",
      "INSTANCIA 4\n",
      "Set parameter Presolve to value 0\n",
      "Set parameter Cuts to value 0\n",
      "Set parameter Heuristics to value 0\n",
      "Set parameter Threads to value 1\n",
      "El valor objetivo es: 1.375\n",
      "INSTANCIA 5\n",
      "Set parameter Presolve to value 0\n",
      "Set parameter Cuts to value 0\n",
      "Set parameter Heuristics to value 0\n",
      "Set parameter Threads to value 1\n",
      "El valor objetivo es: 1.1049382716049383\n",
      "INSTANCIA 6\n",
      "Set parameter Presolve to value 0\n",
      "Set parameter Cuts to value 0\n",
      "Set parameter Heuristics to value 0\n",
      "Set parameter Threads to value 1\n",
      "INSTANCIA 7\n",
      "Set parameter Presolve to value 0\n",
      "Set parameter Cuts to value 0\n",
      "Set parameter Heuristics to value 0\n",
      "Set parameter Threads to value 1\n",
      "El valor objetivo es: 0.2852299215935578\n",
      "INSTANCIA 8\n",
      "Set parameter Presolve to value 0\n",
      "Set parameter Cuts to value 0\n",
      "Set parameter Heuristics to value 0\n",
      "Set parameter Threads to value 1\n",
      "El valor objetivo es: 0.4282407407407408\n",
      "INSTANCIA 9\n",
      "Set parameter Presolve to value 0\n",
      "Set parameter Cuts to value 0\n",
      "Set parameter Heuristics to value 0\n",
      "Set parameter Threads to value 1\n",
      "El valor objetivo es: 0.5502958579881656\n",
      "INSTANCIA 10\n",
      "Set parameter Presolve to value 0\n",
      "Set parameter Cuts to value 0\n",
      "Set parameter Heuristics to value 0\n",
      "Set parameter Threads to value 1\n",
      "El valor objetivo es: 0.6403061224489797\n",
      "INSTANCIA 11\n",
      "Set parameter Presolve to value 0\n",
      "Set parameter Cuts to value 0\n",
      "Set parameter Heuristics to value 0\n",
      "Set parameter Threads to value 1\n",
      "El valor objetivo es: 0.19724033181446435\n"
     ]
    }
   ],
   "source": [
    "#Ejecute get_sol()\n",
    "getsol()"
   ]
  },
  {
   "cell_type": "markdown",
   "metadata": {},
   "source": [
    "## Problema 4\n",
    "Suponga que es necesario agregar $p$ columnas a la matriz $A$, dadas por una matriz $B$. Usando la solución óptima $\\overline{x}$ del problema original, constuya una solución factible del nuevo problema\n",
    "\\begin{equation}\n",
    "    \\mathcal{P}^{+}: \\quad \\max\\{ (g^{t}A')u : \\sum_{j=1}^{n+p} u_{j} = 1,\\ A'u\\leq d, u\\geq 0\\},\n",
    "\\end{equation}\n",
    "donde $A'$ es la matriz que tiene tanto las columnas de $A$ como las de $B$, osea $A'=[A|B]$."
   ]
  },
  {
   "cell_type": "markdown",
   "metadata": {},
   "source": [
    "**Solución:** Sea $\\displaystyle x \\in \\arg\\max\\{ q^{t}Ax : \\sum_{j=1}^{n} x_{j} = 1,\\ Ax\\leq d, x\\geq 0\\}$, notemos que\n",
    "\\begin{equation}\n",
    "    u :=\n",
    "    \\begin{pmatrix}\n",
    "        x\\\\\n",
    "        0_{p}\n",
    "    \\end{pmatrix}\n",
    "\\end{equation}\n",
    "es tal que\n",
    "\\begin{eqnarray*}\n",
    "    \\sum_{j=1}^{n} x_{j} + \\sum_{j=1}^{p} 0 = 1,\\qquad\n",
    "    [A|B]u = Ax + B0_{p} = Ax \\leq d,\\qquad\n",
    "    u\\geq0,\n",
    "\\end{eqnarray*}\n",
    "entonces $u$ es un punto factible de $\\mathcal{P}^{+}$."
   ]
  },
  {
   "cell_type": "markdown",
   "metadata": {},
   "source": [
    "**Demostración alternativa:** Sea $x$ solución óptima de $\\mathcal{P}$, por lo tanto\n",
    "\\begin{eqnarray*}\n",
    "    \\sum_{j=1}^{n} x_{j} &=& 1\\\\\n",
    "    x_{j} &\\geq& 0,\n",
    "\\end{eqnarray*}\n",
    "notemos que para el caso base en que $p=1$ sigue que podemos extender los ponderadores convexos mediante\n",
    "\\begin{eqnarray*}\n",
    "    u_{j}^{1} = \n",
    "    \\begin{cases}\n",
    "        \\dfrac{x_{j}}{u_{n+1}^{1}}                        & j < n,\\\\\n",
    "        \\displaystyle 1 - \\sum_{k=1}^{n}u_{j}^{1}         & j = n+1.\n",
    "    \\end{cases}\n",
    "\\end{eqnarray*}\n",
    "\n",
    "Luego, de forma recursiva tenemos que la $p$-ésima extensión depende de la $(p-1)$-ésima extensión, en efecto, \n",
    "\\begin{eqnarray*}\n",
    "    u_{j}^{p} =\n",
    "    \\begin{cases}\n",
    "        \\dfrac{u_{j}^{p-1}}{u_{n+p}^{p}}                   & j < n+p,\\\\\n",
    "        \\displaystyle 1 - u_{j}^{p}                        & j = n+p.\n",
    "    \\end{cases}\n",
    "\\end{eqnarray*}\n",
    "\n",
    "Es evidente que para $p\\geq1$, la $p$-ésima extensión convexa cumple que\n",
    "\\begin{eqnarray*}\n",
    "    (\\forall j=1,\\dots,n+p),\\ u_{j}^{p} \\geq0 \\quad\\text{y}\\quad \\sum_{j=1}^{n+p} u_{j}^{p} = 1.\n",
    "\\end{eqnarray*}\n",
    "\n",
    "Finalmente veamos que\n",
    "\\begin{equation}\n",
    "    Ax \\leq d \\Longrightarrow [A,B]u^{p} \\leq d.\n",
    "\\end{equation}\n",
    "\n",
    "En efecto, razonando de igual manera, escribimos $A = (A_{j})_{j=1}^{n}$ y $B = (B_{j})_{j=1}^{p}\n",
    "$ las colecciones de vectores columnas de $A$ y $B$ respectivamente, tenemos que para $p=1$ consideramos la primera extensión $u^{1} = (u_{j}^{1})_{j=1}^{n+1}$, entonces\n",
    "\\begin{eqnarray*}\n",
    "    B_{1}u_{n+1}^{1} + \\sum_{j=1}^{n} A_{j}u_{j}^{1}\n",
    "    &=& B_{1}u_{n+1}^{1} + \\frac{1-u_{n+1}^{1}}{1-u_{n+1}^{1}} \\sum_{j=1}^{n} A_{j}u_{j}^{1}\\\\\n",
    "    &=& B_{1}u_{n+1}^{1} + (1-u_{n+1}^{1})\\sum_{j=1}^{n} \\frac{u_{j}^{1}}{1-u_{n+1}^{1}} A_{j},\n",
    "\\end{eqnarray*}\n",
    "donde tenemos que $\\left(\\frac{u_{j}^{1}}{1-u_{n+1}^{1}}\\right)_{j=1}^{n}$ es factible para $\\mathcal{P}$, y por lo tanto\n",
    "\\begin{eqnarray*}\n",
    "    \\sum_{j=1}^{n} \\frac{u_{j}^{1}}{1-u_{n+1}^{1}} A_{j} \\leq d,\n",
    "\\end{eqnarray*}\n",
    "por lo tanto (*)\n",
    "\\begin{eqnarray*}\n",
    "    B_{1}u_{n+1}^{1} + \\sum_{j=1}^{n} A_{j}u_{j}^{1} \n",
    "    &=&    B_{1}u_{n+1}^{1} + (1-u_{n+1}^{1})\\sum_{j=1}^{n} \\frac{u_{j}^{1}}{1-u_{n+1}^{1}} A_{j}\\\\\n",
    "    &\\leq& u_{n+1}^{1}d + (1-u_{n+1}^{1})d \\\\\n",
    "    &=&    (u_{n+1}^{1} + 1-u_{n+1}^{1}) d \\\\ \n",
    "    &=&    d \n",
    "\\end{eqnarray*}\n",
    "\n",
    "Mientras que para $p\\geq2$ consideramos la $p$-ésima extensión $u^{p} = (u_{j}^{p})_{j=1}^{n+p-1}$, entonces\n",
    "\\begin{eqnarray*}\n",
    "    \\sum_{j=1}^{p}B_{j}u_{n+j}^{p} + \\sum_{j=1}^{n} A_{j}u_{j}^{p}\n",
    "    &=& B_{p}u_{n+p}^{p} + \\frac{1-u_{n+p}^{p}}{1-u_{n+p}^{p}} \\left(\\sum_{j=1}^{n} A_{j}u_{j}^{p} + \\sum_{j=1}^{p-1} B_{j}u_{n+j}^{p}\\right)\\\\\n",
    "    &\\leq& u_{n+p}^{p}d + (1-u_{n+p}^{p})d\\\\\n",
    "    &=&    (u_{n+1}^{p}+1-u_{n+p}^{p}) d\\\\\n",
    "    &=&    d\n",
    "\\end{eqnarray*}    \n",
    "\n",
    "Por lo tanto, hemos escrito $u\\in\\text{fact}(\\mathcal{P}^{+})$ en términos de $x\\in\\text{fact}(\\mathcal{P})$ mediante recursividad. $\\qquad \\blacksquare$"
   ]
  },
  {
   "cell_type": "markdown",
   "metadata": {},
   "source": [
    "## Problema 5\n",
    "Encuentre el dual de $\\mathcal{P}^{+}$ y úselo para proponer un test para decidir si la solución factible propuesta en la parte anterior es óptima.\n",
    "\n",
    "**Preliminar:** Recordemos que la relación entre el problema primal $\\mathcal{P}$ y dual $\\mathcal{D}$ viene dada por\n",
    "\\begin{equation}\n",
    "    (\\mathcal{P})\\ \\max\\{c^{t}x : Ax\\leq b\\} \\qquad (\\mathcal{D})\\ \\min\\{b^{T}y : A^{t}y=c,y\\geq0\\}.   \n",
    "\\end{equation}"
   ]
  },
  {
   "cell_type": "markdown",
   "metadata": {},
   "source": [
    "**Solución:** Tenemos el *problema primal*\n",
    "\\begin{equation}\n",
    "    \\mathcal{P}^{+}: \\quad \\max\\{ (g^{t}A')u : \\sum_{j=1}^{n+p} u_{j} = 1,\\ A'u\\leq d, u\\geq 0\\}.\n",
    "\\end{equation}\n",
    "\n",
    "Es evidente que podemos reformular $\\mathcal{P}^{+}$ puesto que\n",
    "\\begin{equation}\n",
    "    \\sum_{j=1}^{n+p} u_{j} = 1,\\ A'u\\leq d, u\\geq 0 \n",
    "    \\underset{\\begin{subarray}{c}\\text{Escribiendo}\\\\ \\text{bloques}\\end{subarray}}{\\iff}\n",
    "    \\begin{pmatrix}\n",
    "        A'&\\Theta_{n+p}&\\Theta_{n+p}\\\\\n",
    "        \\Theta_{n+p}&-I_{n+p}&\\Theta_{n+p}\\\\\n",
    "        \\theta_{n+p}^{t}&\\theta_{n+p}^{t}&1_{n+p}^{t}\\\\\n",
    "        \\theta_{n+p}^{t}&\\theta_{n+p}^{t}&-1_{n+p}^{t}\n",
    "    \\end{pmatrix}\n",
    "    \\begin{pmatrix}\n",
    "        u\\\\\n",
    "        u\\\\\n",
    "        u\n",
    "    \\end{pmatrix}\n",
    "    \\leq\n",
    "    \\begin{pmatrix}\n",
    "        d\\\\\n",
    "        \\theta_{n+p}\\\\\n",
    "        1\\\\\n",
    "        1\n",
    "    \\end{pmatrix}\n",
    "    \\underset{\\begin{subarray}{c}\\text{Representación}\\\\\\text{conveniente}\\end{subarray}}{\\iff}\n",
    "    \\begin{pmatrix}\n",
    "        A'\\\\\n",
    "        -I_{n+p}\\\\\n",
    "        1_{n+p}^{t}\\\\\n",
    "        -1_{n+p}^{t}\n",
    "    \\end{pmatrix}\n",
    "    u\n",
    "    \\leq\n",
    "    \\begin{pmatrix}\n",
    "        d\\\\\n",
    "        0_{n+p}\\\\\n",
    "        1\\\\\n",
    "        1\n",
    "    \\end{pmatrix}\n",
    "\\end{equation}\n",
    "donde $\\theta_{n+p} = (0_{i})_{i=1}^{n+p}$, $\\Theta_{n+p} = (0_{ij})_{i,j=1}^{n+p}$, $1_{n+p} = (1_{i})_{i=1}^{n+p}$ e $I_{n+p} = (1_{ij})_{i,j=1}^{n+p}$, donde hemos usado que\n",
    "\\begin{equation}\n",
    "    \\sum_{j=1}^{n+p} u_{j} = 1 \\iff \n",
    "    \\sum_{j=1}^{n+p} u_{j} \\leq 1,\\ \\sum_{j=1}^{n+p} u_{j} \\leq -1.\n",
    "\\end{equation}\n",
    "\n",
    "Sean \n",
    "\\begin{eqnarray*}\n",
    "    \\gamma^{t} = q^{t}A'\n",
    "    ,\\qquad \n",
    "    \\alpha =\n",
    "    \\begin{pmatrix}\n",
    "        A'\\\\\n",
    "        -I_{n+p}\\\\\n",
    "        1_{n+p}^{t}\\\\\n",
    "        -1_{n+p}^{t}\n",
    "    \\end{pmatrix}\n",
    "    ,\\qquad\n",
    "    \\beta =\n",
    "    \\begin{pmatrix}\n",
    "        d\\\\\n",
    "        0_{n+p}\\\\\n",
    "        1\\\\\n",
    "        1\n",
    "    \\end{pmatrix},\n",
    "\\end{eqnarray*}\n",
    "entonces\n",
    "\\begin{equation}\n",
    "    \\mathcal{P}^{+}: \\quad \\max\\{\\gamma^{t}u : \\alpha u \\leq \\beta\\}.\n",
    "\\end{equation}\n",
    "\n",
    "Finalmente, se concluye que \n",
    "\\begin{equation}\n",
    "    \\mathcal{D}^{+}: \\quad \\min\\{\\beta^{t}v : \\alpha^{t}v = \\gamma,\\ v\\geq0\\}.\n",
    "\\end{equation}"
   ]
  },
  {
   "cell_type": "markdown",
   "metadata": {},
   "source": [
    "Para saber cuando una solución es óptima nos basta con estudiar la condición de *holgura complementaria*, esto es que $\\overline{u}$ y $\\overline{v}$ son óptimos de $\\mathcal{P}^{+}$ y $\\mathcal{D}^{+}$ respectivamente, ssi\n",
    "\\begin{equation}\n",
    "    (\\forall i =1,\\dots,m+(n+p) + 2),\\qquad \\overline{v}_{i} (\\alpha_{i} \\overline{u} - \\beta_{i}) = 0,\n",
    "\\end{equation}\n",
    "donde $\\alpha_{i}$ corresponde a la fila $i$-ésima de la matriz $\\alpha$. \n",
    "\n",
    "Veamos ahora un test para determinar cuando la solución factible $u = \\begin{pmatrix}x \\\\ 0_{p}\\end{pmatrix}$  es óptima, usando la condición de *holgura complementaria* sigue que para $\\overline{v}$ solución óptima de $\\mathcal{D}^{+}$:\n",
    "\\begin{equation}\n",
    "    \\begin{array}{lrcl}\n",
    "        (\\forall i=1,\\dots,m),          & \\overline{v}_{i}(A_{i}x + B_{i}0 - d_{i})                               &=& 0\\\\\n",
    "        (\\forall i=1,\\dots,n),          & -\\overline{v}_{m+i}x_{i}                                                &=& 0\\\\\n",
    "        (\\forall i=1,\\dots,p),          & \\overline{v}_{m+n+i} \\cdot 0                                            &=& 0\\\\\n",
    "                                        & \\overline{v}_{m+n+p+1}\\left(\\displaystyle\\sum_{j=1}^{m}x_{j} - 1\\right) &=& 0\\\\\n",
    "                                        & \\overline{v}_{m+n+p+2}\\left(-\\displaystyle\\sum_{j=1}^{m}x_{j} - 1\\right)&=& 0,\n",
    "    \\end{array}\n",
    "\\end{equation}\n",
    "lo cual, al ser simplificado lo podemos expresar como\n",
    "\\begin{equation}\n",
    "    \\begin{array}{lrcl}\n",
    "        (\\forall i=1,\\dots,m),          & \\overline{v}_{i}(A_{i}x - d_{i})                                        &=& 0\\\\\n",
    "        (\\forall i=1,\\dots,n),          & \\overline{v}_{m+i}x_{i}                                                 &=& 0\\\\\n",
    "                                        & \\overline{v}_{m+n+p+1}\\left(\\displaystyle\\sum_{j=1}^{m}x_{j} - 1\\right) &=& 0\\\\\n",
    "                                        & \\overline{v}_{m+n+p+2}\\left(-\\displaystyle\\sum_{j=1}^{m}x_{j} - 1\\right)&=& 0,\n",
    "    \\end{array}\n",
    " \\end{equation}\n",
    " por lo tanto, basta con obtener un punto óptimo $\\overline{v}$ del problema $\\mathcal{D}^{+}$ y luego *resolver el sistema de ecuaciones lineales* antes presentado, más aún, el punto factible obtenido a partir de $x$ resultará ser óptimo si resulta pertenecer al conjunto solución del sistema de ecuaciones lineales planteado antes."
   ]
  },
  {
   "cell_type": "markdown",
   "metadata": {},
   "source": [
    "## Problema 6\n",
    "\n",
    "Aplique el test a las instancias del **problema 3** para matrices $B(i)$ cuyas columnas corresponden a las indicatrices de todos los subconjuntos de $\\{1,\\dots,i\\}$ con $i-2$ elementos. Es decir, ejecute el programa diseñado en el **problema 2** con las matrices $A' = [A|B]$ tal que $B$ es una matriz que tiene $\\binom{n}{n-2}$ columnas, y cada una de ellas corresponde a la indicatriz de un subconjunto de tamaño $i-2$ de $[i]$ ($i$ es la cantidad de filas de $A$). Por ejemplo, si $i=5$, entonces $\\{1,3,5\\}$ es un subconjunto de tamaño $i-2$ y entonces su columna respectiva en $B$ es $(1,0,1,0,1)^{t}$. Para realizar esto, complete la función *getsolB( )* siguiendo las instrucciones ahí especificadas.\n",
    "\n",
    "En la sección $\\texttt{CDG1}$ debe:\n",
    " - Calcular la matriz B como se define en el enunciado\n",
    " - Definir $A' = [A|B]$.\n",
    " - Calcular $d_{A'}$ y $g_{A'}$.\n",
    " - Obtener el modelo para $A', d_{A'}, g_{A'}$\n",
    "\n",
    "En la sección $\\texttt{CDG2}$ debe realizar el testeo que definió en la $\\textbf{P5}$. Si ya resolvió el primal con $\\texttt{GUROBI}$, investigue como puede obtener el valor del problema dual, junto con el valor de las variables duales en el óptimo. \n",
    "\n",
    "Dentro de $\\texttt{CDG2}$ debe realizar un $\\textit{print}$ para cada instancia, indicando si se cumple el testeo realizando y justificando por qué."
   ]
  },
  {
   "cell_type": "markdown",
   "metadata": {},
   "source": [
    "**Matriz $B$:** Notemos que la matriz $B$ tiene sus filas indexadas por el conjunto $I$ de cardinal $i$, mientras que sus columnas están indexadas por todos los subconjuntos de $I$ de cardinal $i-2$, osea $B$ posee $\\binom{i}{i-2}$ columnas. Notemos que cada columna posee $2$ ceros, de hecho, podemos entender la matriz $B$ como la matriz conformada por todos los vectores de $1$ y $0$ que poseen exactamente dos $0$s, osea\n",
    "\\begin{equation}\n",
    "    B =\n",
    "    \\begin{pmatrix}\n",
    "        0&\\cdots&\\cdots&1\\\\\n",
    "        0&\\cdots&\\cdots&1\\\\\n",
    "        1&\\cdots&\\cdots&1\\\\\n",
    "        \\vdots&\\ddots&\\ddots&\\vdots\\\\\n",
    "        1&\\cdots&\\cdots&0\\\\\n",
    "        1&\\cdots&\\cdots&0\\\\\n",
    "    \\end{pmatrix} \\in \\mathcal{M}_{|I|\\times\\left|\\binom{i}{i-2}\\right|}(\\{0,1\\}).\n",
    "\\end{equation}\n",
    "Para calcular la matriz $B$ usamos el paquete *combinatorics*."
   ]
  },
  {
   "cell_type": "code",
   "execution_count": 8,
   "metadata": {},
   "outputs": [
    {
     "data": {
      "text/plain": [
       "getsolB (generic function with 1 method)"
      ]
     },
     "execution_count": 8,
     "metadata": {},
     "output_type": "execute_result"
    }
   ],
   "source": [
    "#Funcion para cargar instancias A, calcular B, definir A' = [A|B] d_ y g, obtener el modelo y su valor en el optimo.\n",
    "function getsolB()\n",
    "    for i in 1:11\n",
    "        println(\"INSTANCIA \"* string(i))\n",
    "        nm = \"instancia_\" * string(i) * \".txt\"\n",
    "        A=readdlm(nm, ' ', Int, '\\n')\n",
    "        \n",
    "        #-----------------------------------------------------\n",
    "        #    CDG1\n",
    "        #-----------------------------------------------------\n",
    "        \n",
    "        optimize!(modelo);\n",
    "        if termination_status(modelo) == MOI.OPTIMAL\n",
    "            #------------------------------------------\n",
    "            #     CDG2\n",
    "            #------------------------------------------\n",
    "        end\n",
    "    \n",
    "    end\n",
    "    return\n",
    "end"
   ]
  },
  {
   "cell_type": "code",
   "execution_count": 9,
   "metadata": {},
   "outputs": [
    {
     "name": "stdout",
     "output_type": "stream",
     "text": [
      "INSTANCIA 1\n"
     ]
    },
    {
     "ename": "LoadError",
     "evalue": "UndefVarError: modelo not defined",
     "output_type": "error",
     "traceback": [
      "UndefVarError: modelo not defined",
      "",
      "Stacktrace:",
      " [1] getsolB()",
      "   @ Main .\\In[8]:13",
      " [2] top-level scope",
      "   @ In[9]:3",
      " [3] eval",
      "   @ .\\boot.jl:373 [inlined]",
      " [4] include_string(mapexpr::typeof(REPL.softscope), mod::Module, code::String, filename::String)",
      "   @ Base .\\loading.jl:1196"
     ]
    }
   ],
   "source": [
    "#Ejecute getsolB\n",
    "\n",
    "getsolB()"
   ]
  }
 ],
 "metadata": {
  "kernelspec": {
   "display_name": "Julia 1.7.2",
   "language": "julia",
   "name": "julia-1.7"
  },
  "language_info": {
   "file_extension": ".jl",
   "mimetype": "application/julia",
   "name": "julia",
   "version": "1.7.2"
  }
 },
 "nbformat": 4,
 "nbformat_minor": 4
}
