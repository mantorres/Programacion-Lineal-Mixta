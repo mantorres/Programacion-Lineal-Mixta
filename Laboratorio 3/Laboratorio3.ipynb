{
 "cells": [
  {
   "cell_type": "markdown",
   "metadata": {
    "slideshow": {
     "slide_type": "-"
    }
   },
   "source": [
    "# MA4702 Laboratorio 3 2022\n",
    "## Generación de Columnas: Problema sobre Flujo de Costo Mínimo\n",
    "## Integrantes\n",
    "\n",
    "- Diego Cespedes\n",
    "- Gonzalo Ovalle\n",
    "- Manuel Torres\n",
    "- Cynthia Vega\n",
    "\n",
    "## Observaciones\n",
    "\n",
    "Si tiene alguna observación a la corrección escríbala acá (claridad del enunciado, díficultades con Julia u otros)."
   ]
  },
  {
   "cell_type": "markdown",
   "metadata": {},
   "source": [
    "# 1. Preparación\n",
    "\n",
    "Usaremos los paquetes JuMP, Gurobi. Descomente los siguientes comandos si no tiene los paquetes y asegúrese de tener la última versión de JuMP corriendo. Vuelvalos a comentar una vez que los ejecute."
   ]
  },
  {
   "cell_type": "code",
   "execution_count": 32,
   "metadata": {},
   "outputs": [
    {
     "name": "stdout",
     "output_type": "stream",
     "text": [
      "\u001b[32m\u001b[1m      Status\u001b[22m\u001b[39m `C:\\Users\\Personal\\.julia\\environments\\v1.7\\Project.toml`\n",
      " \u001b[90m [4076af6c] \u001b[39mJuMP v1.0.0\n"
     ]
    },
    {
     "name": "stderr",
     "output_type": "stream",
     "text": [
      "\u001b[32m\u001b[1m    Updating\u001b[22m\u001b[39m registry at `C:\\Users\\Personal\\.julia\\registries\\General.toml`\n",
      "\u001b[32m\u001b[1m   Installed\u001b[22m\u001b[39m PDMats ─────────── v0.11.8\n",
      "\u001b[32m\u001b[1m   Installed\u001b[22m\u001b[39m Qt5Base_jll ────── v5.15.3+1\n",
      "\u001b[32m\u001b[1m   Installed\u001b[22m\u001b[39m NaNMath ────────── v1.0.0\n",
      "\u001b[32m\u001b[1m   Installed\u001b[22m\u001b[39m StatsAPI ───────── v1.3.0\n",
      "\u001b[32m\u001b[1m   Installed\u001b[22m\u001b[39m DiffRules ──────── v1.11.0\n",
      "\u001b[32m\u001b[1m   Installed\u001b[22m\u001b[39m Preferences ────── v1.3.0\n",
      "\u001b[32m\u001b[1m   Installed\u001b[22m\u001b[39m Parsers ────────── v2.3.1\n",
      "\u001b[32m\u001b[1m   Installed\u001b[22m\u001b[39m StaticArrays ───── v1.4.4\n",
      "\u001b[32m\u001b[1m   Installed\u001b[22m\u001b[39m LogExpFunctions ── v0.3.14\n",
      "\u001b[32m\u001b[1m   Installed\u001b[22m\u001b[39m DataAPI ────────── v1.10.0\n",
      "\u001b[32m\u001b[1m   Installed\u001b[22m\u001b[39m StructArrays ───── v0.6.6\n",
      "\u001b[32m\u001b[1m   Installed\u001b[22m\u001b[39m Latexify ───────── v0.15.15\n",
      "\u001b[32m\u001b[1m   Installed\u001b[22m\u001b[39m ForwardDiff ────── v0.10.27\n",
      "\u001b[32m\u001b[1m   Installed\u001b[22m\u001b[39m MathOptInterface ─ v1.2.0\n",
      "\u001b[32m\u001b[1m  No Changes\u001b[22m\u001b[39m to `C:\\Users\\Personal\\.julia\\environments\\v1.7\\Project.toml`\n",
      "\u001b[32m\u001b[1m    Updating\u001b[22m\u001b[39m `C:\\Users\\Personal\\.julia\\environments\\v1.7\\Manifest.toml`\n",
      " \u001b[90m [9a962f9c] \u001b[39m\u001b[93m↑ DataAPI v1.9.0 ⇒ v1.10.0\u001b[39m\n",
      " \u001b[90m [b552c78f] \u001b[39m\u001b[93m↑ DiffRules v1.10.0 ⇒ v1.11.0\u001b[39m\n",
      " \u001b[90m [f6369f11] \u001b[39m\u001b[93m↑ ForwardDiff v0.10.25 ⇒ v0.10.27\u001b[39m\n",
      " \u001b[90m [23fbe1c1] \u001b[39m\u001b[93m↑ Latexify v0.15.14 ⇒ v0.15.15\u001b[39m\n",
      " \u001b[90m [2ab3a3ac] \u001b[39m\u001b[93m↑ LogExpFunctions v0.3.12 ⇒ v0.3.14\u001b[39m\n",
      " \u001b[90m [b8f27783] \u001b[39m\u001b[93m↑ MathOptInterface v1.1.2 ⇒ v1.2.0\u001b[39m\n",
      " \u001b[90m [77ba4419] \u001b[39m\u001b[93m↑ NaNMath v0.3.7 ⇒ v1.0.0\u001b[39m\n",
      " \u001b[90m [90014a1f] \u001b[39m\u001b[93m↑ PDMats v0.11.7 ⇒ v0.11.8\u001b[39m\n",
      " \u001b[90m [69de0a69] \u001b[39m\u001b[93m↑ Parsers v2.2.4 ⇒ v2.3.1\u001b[39m\n",
      " \u001b[90m [21216c6a] \u001b[39m\u001b[93m↑ Preferences v1.2.5 ⇒ v1.3.0\u001b[39m\n",
      " \u001b[90m [90137ffa] \u001b[39m\u001b[93m↑ StaticArrays v1.4.3 ⇒ v1.4.4\u001b[39m\n",
      " \u001b[90m [82ae8749] \u001b[39m\u001b[93m↑ StatsAPI v1.2.2 ⇒ v1.3.0\u001b[39m\n",
      " \u001b[90m [09ab397b] \u001b[39m\u001b[93m↑ StructArrays v0.6.5 ⇒ v0.6.6\u001b[39m\n",
      " \u001b[90m [ea2cea3b] \u001b[39m\u001b[93m↑ Qt5Base_jll v5.15.3+0 ⇒ v5.15.3+1\u001b[39m\n",
      "\u001b[32m\u001b[1mPrecompiling\u001b[22m\u001b[39m project...\n",
      "\u001b[33m  ✓ \u001b[39m\u001b[90mNaNMath\u001b[39m\n",
      "\u001b[32m  ✓ \u001b[39m\u001b[90mPDMats\u001b[39m\n",
      "\u001b[32m  ✓ \u001b[39m\u001b[90mDataAPI\u001b[39m\n",
      "\u001b[32m  ✓ \u001b[39m\u001b[90mStatsAPI\u001b[39m\n",
      "\u001b[33m  ✓ \u001b[39m\u001b[90mPreferences\u001b[39m\n",
      "\u001b[33m  ✓ \u001b[39m\u001b[90mParsers\u001b[39m\n",
      "\u001b[32m  ✓ \u001b[39m\u001b[90mLatexify\u001b[39m\n",
      "\u001b[33m  ✓ \u001b[39m\u001b[90mLogExpFunctions\u001b[39m\n",
      "\u001b[32m  ✓ \u001b[39m\u001b[90mTables\u001b[39m\n",
      "\u001b[32m  ✓ \u001b[39m\u001b[90mMissings\u001b[39m\n",
      "\u001b[33m  ✓ \u001b[39m\u001b[90mJLLWrappers\u001b[39m\n",
      "\u001b[32m  ✓ \u001b[39m\u001b[90mRecipesPipeline\u001b[39m\n",
      "\u001b[33m  ✓ \u001b[39m\u001b[90mStaticArrays\u001b[39m\n",
      "\u001b[32m  ✓ \u001b[39m\u001b[90mEarCut_jll\u001b[39m\n",
      "\u001b[33m  ✓ \u001b[39m\u001b[90mJSON\u001b[39m\n",
      "\u001b[32m  ✓ \u001b[39m\u001b[90mOpenSSL_jll\u001b[39m\n",
      "\u001b[32m  ✓ \u001b[39m\u001b[90mOpus_jll\u001b[39m\n",
      "\u001b[32m  ✓ \u001b[39m\u001b[90mStatsBase\u001b[39m\n",
      "\u001b[32m  ✓ \u001b[39m\u001b[90mRmath_jll\u001b[39m\n",
      "\u001b[32m  ✓ \u001b[39m\u001b[90mJpegTurbo_jll\u001b[39m\n",
      "\u001b[32m  ✓ \u001b[39m\u001b[90mOgg_jll\u001b[39m\n",
      "\u001b[32m  ✓ \u001b[39m\u001b[90mXorg_libXau_jll\u001b[39m\n",
      "\u001b[32m  ✓ \u001b[39m\u001b[90mXorg_xtrans_jll\u001b[39m\n",
      "\u001b[32m  ✓ \u001b[39m\u001b[90mXorg_libXdmcp_jll\u001b[39m\n",
      "\u001b[32m  ✓ \u001b[39m\u001b[90mlibpng_jll\u001b[39m\n",
      "\u001b[32m  ✓ \u001b[39m\u001b[90mx265_jll\u001b[39m\n",
      "\u001b[32m  ✓ \u001b[39m\u001b[90mlibfdk_aac_jll\u001b[39m\n",
      "\u001b[32m  ✓ \u001b[39m\u001b[90mLibmount_jll\u001b[39m\n",
      "\u001b[32m  ✓ \u001b[39m\u001b[90mx264_jll\u001b[39m\n",
      "\u001b[32m  ✓ \u001b[39m\u001b[90mZstd_jll\u001b[39m\n",
      "\u001b[32m  ✓ \u001b[39m\u001b[90mGraphite2_jll\u001b[39m\n",
      "\u001b[32m  ✓ \u001b[39m\u001b[90mPCRE_jll\u001b[39m\n",
      "\u001b[32m  ✓ \u001b[39m\u001b[90mLibiconv_jll\u001b[39m\n",
      "\u001b[32m  ✓ \u001b[39m\u001b[90mLibffi_jll\u001b[39m\n",
      "\u001b[33m  ✓ \u001b[39m\u001b[90mBzip2_jll\u001b[39m\n",
      "\u001b[32m  ✓ \u001b[39m\u001b[90mExpat_jll\u001b[39m\n",
      "\u001b[33m  ✓ \u001b[39m\u001b[90mlibsodium_jll\u001b[39m\n",
      "\u001b[32m  ✓ \u001b[39m\u001b[90mLibgpg_error_jll\u001b[39m\n",
      "\u001b[32m  ✓ \u001b[39m\u001b[90mGLPK_jll\u001b[39m\n",
      "\u001b[32m  ✓ \u001b[39m\u001b[90mWayland_protocols_jll\u001b[39m\n",
      "\u001b[32m  ✓ \u001b[39m\u001b[90mLZO_jll\u001b[39m\n",
      "\u001b[32m  ✓ \u001b[39m\u001b[90mLAME_jll\u001b[39m\n",
      "\u001b[33m  ✓ \u001b[39m\u001b[90mOpenSpecFun_jll\u001b[39m\n",
      "\u001b[32m  ✓ \u001b[39m\u001b[90mPixman_jll\u001b[39m\n",
      "\u001b[32m  ✓ \u001b[39m\u001b[90mXorg_libpthread_stubs_jll\u001b[39m\n",
      "\u001b[32m  ✓ \u001b[39m\u001b[90mLERC_jll\u001b[39m\n",
      "\u001b[32m  ✓ \u001b[39m\u001b[90mFriBidi_jll\u001b[39m\n",
      "\u001b[32m  ✓ \u001b[39m\u001b[90mLibuuid_jll\u001b[39m\n",
      "\u001b[33m  ✓ \u001b[39m\u001b[90mDiffResults\u001b[39m\n",
      "\u001b[32m  ✓ \u001b[39m\u001b[90mContour\u001b[39m\n",
      "\u001b[33m  ✓ \u001b[39m\u001b[90mConda\u001b[39m\n",
      "\u001b[32m  ✓ \u001b[39m\u001b[90mStructArrays\u001b[39m\n",
      "\u001b[33m  ✓ \u001b[39m\u001b[90mBenchmarkTools\u001b[39m\n",
      "\u001b[32m  ✓ \u001b[39m\u001b[90mRmath\u001b[39m\n",
      "\u001b[32m  ✓ \u001b[39m\u001b[90mlibvorbis_jll\u001b[39m\n",
      "\u001b[33m  ✓ \u001b[39m\u001b[90mCodecBzip2\u001b[39m\n",
      "\u001b[32m  ✓ \u001b[39m\u001b[90mXML2_jll\u001b[39m\n",
      "\u001b[32m  ✓ \u001b[39m\u001b[90mFreeType2_jll\u001b[39m\n",
      "\u001b[33m  ✓ \u001b[39m\u001b[90mZeroMQ_jll\u001b[39m\n",
      "\u001b[32m  ✓ \u001b[39m\u001b[90mLibgcrypt_jll\u001b[39m\n",
      "\u001b[32m  ✓ \u001b[39m\u001b[90mLibtiff_jll\u001b[39m\n",
      "\u001b[33m  ✓ \u001b[39m\u001b[90mSpecialFunctions\u001b[39m\n",
      "\u001b[32m  ✓ \u001b[39m\u001b[90mGettext_jll\u001b[39m\n",
      "\u001b[32m  ✓ \u001b[39m\u001b[90mWayland_jll\u001b[39m\n",
      "\u001b[32m  ✓ \u001b[39m\u001b[90mFontconfig_jll\u001b[39m\n",
      "\u001b[32m  ✓ \u001b[39m\u001b[90mGeometryBasics\u001b[39m\n",
      "\u001b[32m  ✓ \u001b[39m\u001b[90mXSLT_jll\u001b[39m\n",
      "\u001b[33m  ✓ \u001b[39m\u001b[90mZMQ\u001b[39m\n",
      "\u001b[33m  ✓ \u001b[39m\u001b[90mDiffRules\u001b[39m\n",
      "\u001b[32m  ✓ \u001b[39m\u001b[90mGlib_jll\u001b[39m\n",
      "\u001b[32m  ✓ \u001b[39m\u001b[90mXorg_libxcb_jll\u001b[39m\n",
      "\u001b[32m  ✓ \u001b[39m\u001b[90mStatsFuns\u001b[39m\n",
      "\u001b[33m  ✓ \u001b[39mIJulia\n",
      "\u001b[32m  ✓ \u001b[39m\u001b[90mXorg_xcb_util_jll\u001b[39m\n",
      "\u001b[32m  ✓ \u001b[39m\u001b[90mXorg_libX11_jll\u001b[39m\n",
      "\u001b[33m  ✓ \u001b[39m\u001b[90mForwardDiff\u001b[39m\n",
      "\u001b[32m  ✓ \u001b[39m\u001b[90mXorg_xcb_util_image_jll\u001b[39m\n",
      "\u001b[32m  ✓ \u001b[39m\u001b[90mXorg_xcb_util_renderutil_jll\u001b[39m\n",
      "\u001b[32m  ✓ \u001b[39m\u001b[90mXorg_xcb_util_keysyms_jll\u001b[39m\n",
      "\u001b[32m  ✓ \u001b[39m\u001b[90mXorg_xcb_util_wm_jll\u001b[39m\n",
      "\u001b[32m  ✓ \u001b[39m\u001b[90mXorg_libXfixes_jll\u001b[39m\n",
      "\u001b[32m  ✓ \u001b[39m\u001b[90mXorg_libxkbfile_jll\u001b[39m\n",
      "\u001b[32m  ✓ \u001b[39m\u001b[90mXorg_libXext_jll\u001b[39m\n",
      "\u001b[32m  ✓ \u001b[39mDistributions\n",
      "\u001b[32m  ✓ \u001b[39m\u001b[90mXorg_libXrender_jll\u001b[39m\n",
      "\u001b[32m  ✓ \u001b[39m\u001b[90mXorg_xkbcomp_jll\u001b[39m\n",
      "\u001b[32m  ✓ \u001b[39m\u001b[90mLibglvnd_jll\u001b[39m\n",
      "\u001b[32m  ✓ \u001b[39m\u001b[90mXorg_libXinerama_jll\u001b[39m\n",
      "\u001b[32m  ✓ \u001b[39m\u001b[90mXorg_libXi_jll\u001b[39m\n",
      "\u001b[32m  ✓ \u001b[39m\u001b[90mCairo_jll\u001b[39m\n",
      "\u001b[32m  ✓ \u001b[39m\u001b[90mXorg_libXcursor_jll\u001b[39m\n",
      "\u001b[32m  ✓ \u001b[39m\u001b[90mXorg_libXrandr_jll\u001b[39m\n",
      "\u001b[32m  ✓ \u001b[39m\u001b[90mXorg_xkeyboard_config_jll\u001b[39m\n",
      "\u001b[32m  ✓ \u001b[39m\u001b[90mHarfBuzz_jll\u001b[39m\n",
      "\u001b[32m  ✓ \u001b[39m\u001b[90mGLFW_jll\u001b[39m\n",
      "\u001b[32m  ✓ \u001b[39m\u001b[90mxkbcommon_jll\u001b[39m\n",
      "\u001b[32m  ✓ \u001b[39m\u001b[90mlibass_jll\u001b[39m\n",
      "\u001b[32m  ✓ \u001b[39m\u001b[90mQt5Base_jll\u001b[39m\n",
      "\u001b[32m  ✓ \u001b[39m\u001b[90mFFMPEG_jll\u001b[39m\n",
      "\u001b[32m  ✓ \u001b[39m\u001b[90mFFMPEG\u001b[39m\n",
      "\u001b[32m  ✓ \u001b[39m\u001b[90mGR_jll\u001b[39m\n",
      "\u001b[32m  ✓ \u001b[39m\u001b[90mGR\u001b[39m\n",
      "\u001b[33m  ✓ \u001b[39m\u001b[90mMathOptInterface\u001b[39m\n",
      "\u001b[33m  ✓ \u001b[39mGurobi\n",
      "\u001b[32m  ✓ \u001b[39mGLPK\n",
      "\u001b[33m  ✓ \u001b[39mJuMP\n",
      "\u001b[32m  ✓ \u001b[39mPlots\n",
      "  107 dependencies successfully precompiled in 152 seconds (56 already precompiled)\n",
      "  \u001b[33m23\u001b[39m dependencies precompiled but different versions are currently loaded. Restart julia to access the new versions\n",
      "┌ Info: We haven't cleaned this depot up for a bit, running Pkg.gc()...\n",
      "└ @ Pkg C:\\buildbot\\worker\\package_win64\\build\\usr\\share\\julia\\stdlib\\v1.7\\Pkg\\src\\Pkg.jl:639\n",
      "\u001b[32m\u001b[1m      Active\u001b[22m\u001b[39m manifest files: 1 found\n",
      "\u001b[32m\u001b[1m      Active\u001b[22m\u001b[39m artifact files: 74 found\n",
      "\u001b[32m\u001b[1m      Active\u001b[22m\u001b[39m scratchspaces: 5 found\n",
      "\u001b[32m\u001b[1m     Deleted\u001b[22m\u001b[39m 12 package installations (25.727 MiB)\n",
      "\u001b[32m\u001b[1m   Resolving\u001b[22m\u001b[39m package versions...\n",
      "\u001b[32m\u001b[1m   Installed\u001b[22m\u001b[39m Inflate ─────── v0.1.2\n",
      "\u001b[32m\u001b[1m   Installed\u001b[22m\u001b[39m SimpleTraits ── v0.9.4\n",
      "\u001b[32m\u001b[1m   Installed\u001b[22m\u001b[39m ArnoldiMethod ─ v0.1.0\n",
      "\u001b[32m\u001b[1m   Installed\u001b[22m\u001b[39m LightGraphs ─── v1.3.5\n",
      "\u001b[32m\u001b[1m    Updating\u001b[22m\u001b[39m `C:\\Users\\Personal\\.julia\\environments\\v1.7\\Project.toml`\n",
      " \u001b[90m [093fc24a] \u001b[39m\u001b[92m+ LightGraphs v1.3.5\u001b[39m\n",
      "\u001b[32m\u001b[1m    Updating\u001b[22m\u001b[39m `C:\\Users\\Personal\\.julia\\environments\\v1.7\\Manifest.toml`\n",
      " \u001b[90m [ec485272] \u001b[39m\u001b[92m+ ArnoldiMethod v0.1.0\u001b[39m\n",
      " \u001b[90m [d25df0c9] \u001b[39m\u001b[92m+ Inflate v0.1.2\u001b[39m\n",
      " \u001b[90m [093fc24a] \u001b[39m\u001b[92m+ LightGraphs v1.3.5\u001b[39m\n",
      " \u001b[90m [699a6c99] \u001b[39m\u001b[92m+ SimpleTraits v0.9.4\u001b[39m\n",
      "\u001b[32m\u001b[1mPrecompiling\u001b[22m\u001b[39m project...\n",
      "\u001b[32m  ✓ \u001b[39m\u001b[90mInflate\u001b[39m\n",
      "\u001b[32m  ✓ \u001b[39m\u001b[90mSimpleTraits\u001b[39m\n",
      "\u001b[32m  ✓ \u001b[39m\u001b[90mArnoldiMethod\u001b[39m\n",
      "\u001b[32m  ✓ \u001b[39mLightGraphs\n",
      "  4 dependencies successfully precompiled in 9 seconds (163 already precompiled)\n"
     ]
    }
   ],
   "source": [
    "#import Pkg; Pkg.update(\"JuMP\"); Pkg.status(\"JuMP\"); Pkg.add(\"LightGraphs\");"
   ]
  },
  {
   "cell_type": "code",
   "execution_count": 34,
   "metadata": {},
   "outputs": [
    {
     "name": "stdout",
     "output_type": "stream",
     "text": [
      "Set parameter Username\n",
      "Academic license - for non-commercial use only - expires 2023-03-09\n"
     ]
    },
    {
     "name": "stderr",
     "output_type": "stream",
     "text": [
      "┌ Info: Precompiling LightGraphs [093fc24a-ae57-5d10-9952-331d41423f4d]\n",
      "└ @ Base loading.jl:1423\n",
      "\u001b[33m\u001b[1m┌ \u001b[22m\u001b[39m\u001b[33m\u001b[1mWarning: \u001b[22m\u001b[39mModule StaticArrays with build ID 150854491537301 is missing from the cache.\n",
      "\u001b[33m\u001b[1m│ \u001b[22m\u001b[39mThis may mean StaticArrays [90137ffa-7385-5640-81b9-e52037218182] does not support precompilation but is imported by a module that does.\n",
      "\u001b[33m\u001b[1m└ \u001b[22m\u001b[39m\u001b[90m@ Base loading.jl:1107\u001b[39m\n",
      "\u001b[33m\u001b[1m┌ \u001b[22m\u001b[39m\u001b[33m\u001b[1mWarning: \u001b[22m\u001b[39mModule StaticArrays with build ID 150854491537301 is missing from the cache.\n",
      "\u001b[33m\u001b[1m│ \u001b[22m\u001b[39mThis may mean StaticArrays [90137ffa-7385-5640-81b9-e52037218182] does not support precompilation but is imported by a module that does.\n",
      "\u001b[33m\u001b[1m└ \u001b[22m\u001b[39m\u001b[90m@ Base loading.jl:1107\u001b[39m\n",
      "┌ Info: Skipping precompilation since __precompile__(false). Importing LightGraphs [093fc24a-ae57-5d10-9952-331d41423f4d].\n",
      "└ @ Base loading.jl:1124\n",
      "┌ Info: Precompiling ArnoldiMethod [ec485272-7323-5ecc-a04f-4719b315124d]\n",
      "└ @ Base loading.jl:1423\n",
      "\u001b[33m\u001b[1m┌ \u001b[22m\u001b[39m\u001b[33m\u001b[1mWarning: \u001b[22m\u001b[39mModule StaticArrays with build ID 150854491537301 is missing from the cache.\n",
      "\u001b[33m\u001b[1m│ \u001b[22m\u001b[39mThis may mean StaticArrays [90137ffa-7385-5640-81b9-e52037218182] does not support precompilation but is imported by a module that does.\n",
      "\u001b[33m\u001b[1m└ \u001b[22m\u001b[39m\u001b[90m@ Base loading.jl:1107\u001b[39m\n",
      "┌ Info: Skipping precompilation since __precompile__(false). Importing ArnoldiMethod [ec485272-7323-5ecc-a04f-4719b315124d].\n",
      "└ @ Base loading.jl:1124\n"
     ]
    },
    {
     "data": {
      "text/plain": [
       "Gurobi.Env(Ptr{Nothing} @0x00000000014138e0, false, 0)"
      ]
     },
     "execution_count": 34,
     "metadata": {},
     "output_type": "execute_result"
    }
   ],
   "source": [
    "using JuMP, Gurobi, LightGraphs\n",
    "# Abrir un solo ambiente de Gurobi, Jupyter se marea si se crean demasiados modelos durante en una misma celda.\n",
    "const GUROBI_ENV = Gurobi.Env()"
   ]
  },
  {
   "cell_type": "markdown",
   "metadata": {},
   "source": [
    "# 2. Funciones Auxiliares\n",
    "\n",
    "Puede obtener la instancia de prueba para sus programas gracias a la siguiente función:"
   ]
  },
  {
   "cell_type": "code",
   "execution_count": 35,
   "metadata": {},
   "outputs": [
    {
     "data": {
      "text/plain": [
       "instancia (generic function with 1 method)"
      ]
     },
     "execution_count": 35,
     "metadata": {},
     "output_type": "execute_result"
    }
   ],
   "source": [
    "# Crea la instancia de prueba para el problema de flujo de costo mínimo.\n",
    "function instancia()\n",
    "    N=10\n",
    "    d=10\n",
    "    c = [25 27 11 25 19 18 14 7 14 3000; 17 14 5 14 30 14 19 27 28 22; 24 11 5 24 24 4 23 23 20 3; 14 17 14 6 1 12 17 22 1 3; 15 30 17 15 9 28 20 20 10 22; 21 9 14 3 18 13 14 1 19 30; 20 18 29 4 18 19 26 5 20 4; 25 14 5 24 5 10 29 21 27 18; 5 17 17 4 17 4 3 17 14 16; 21 11 1 30 17 1 19 14 14 8]\n",
    "    u = [2 2 3 1 4 1 3 1 4 10; 4 3 2 4 4 1 1 2 3 2; 3 3 1 3 4 2 3 3 3 4; 4 4 3 4 3 3 4 2 4 3; 3 3 2 2 2 4 1 3 4 4; 2 2 4 1 2 4 2 1 2 1; 4 4 1 3 2 1 2 3 1 2; 1 4 1 4 3 4 3 2 1 2; 1 2 2 4 4 4 1 2 3 2; 1 2 3 3 1 3 1 1 2 3]\n",
    "    s = 1\n",
    "    t = N\n",
    "    return N,d,u,c,s,t\n",
    "end"
   ]
  },
  {
   "cell_type": "markdown",
   "metadata": {},
   "source": [
    "# 3. Problemas\n",
    "\n",
    "Escriba sus respuestas aquí, tanto los códigos en Julia como respuestas a preguntas en Markdown.\n",
    "\n",
    "## P1\n",
    "Puede apoyarse libremente en el siguiente template."
   ]
  },
  {
   "cell_type": "code",
   "execution_count": 71,
   "metadata": {},
   "outputs": [
    {
     "data": {
      "text/plain": [
       "resolverFlujoCostoMinimo (generic function with 1 method)"
      ]
     },
     "execution_count": 71,
     "metadata": {},
     "output_type": "execute_result"
    }
   ],
   "source": [
    "function resolverFlujoCostoMinimo(N,d,u,c,s,t)\n",
    "    modelo = Model(optimizer_with_attributes(() -> Gurobi.Optimizer(GUROBI_ENV), \"Presolve\"=>0, \"Cuts\"=>0, \"Heuristics\"=>0, \"Threads\"=>1))\n",
    "    set_silent(modelo)\n",
    "    # Renombrar parametros para usarlos\n",
    "    cantidad_de_vertices = N\n",
    "    \"\"\"Variables\"\"\"\n",
    "    @variable(modelo, f[i in 1:cantidad_de_vertices, j in 1:cantidad_de_vertices])\n",
    "    \"\"\"Restricciones\"\"\"\n",
    "    for i in 1:cantidad_de_vertices, j in 1:cantidad_de_vertices\n",
    "        # El flujo en una arista es acotado superiormente por su capacidad \n",
    "        @constraint(modelo, f[i,j] <= u[i,j])\n",
    "        # El flujo en una arista es no negativo\n",
    "        @constraint(modelo, f[i,j] >= 0)\n",
    "    end\n",
    "    # Restriccion de los cortes fuera del nodo inicial\n",
    "    for i in 1:cantidad_de_vertices-1\n",
    "        if i != s\n",
    "            @constraint(modelo, sum(f[i,j] for j in 1:cantidad_de_vertices) - sum(f[j,i] for j in 1:cantidad_de_vertices) == 0)\n",
    "        end\n",
    "    end\n",
    "    # Restriccion del corte en el nodo inicial\n",
    "    @constraint(modelo, sum(f[s,j] for j in 1:cantidad_de_vertices) - sum(f[j,s] for j in 1:cantidad_de_vertices) == d)\n",
    "    \"\"\"Funcion objetivo y optimizer\"\"\"\n",
    "    @objective(modelo, Min, sum(f[i,j]*c[i,j] for i in 1:cantidad_de_vertices, j in 1:cantidad_de_vertices))\n",
    "    optimize!(modelo);\n",
    "    \n",
    "    return objective_value(modelo), value.(modelo[:f])\n",
    "end"
   ]
  },
  {
   "cell_type": "code",
   "execution_count": 72,
   "metadata": {},
   "outputs": [
    {
     "name": "stdout",
     "output_type": "stream",
     "text": [
      "Set parameter Presolve to value 0\n",
      "Set parameter Cuts to value 0\n",
      "Set parameter Heuristics to value 0\n",
      "Set parameter Threads to value 1\n",
      "  0.259522 seconds (271.97 k allocations: 14.801 MiB, 99.35% compilation time)\n",
      "El valor es: 186.0"
     ]
    }
   ],
   "source": [
    "N,d,u,c,s,t = instancia()\n",
    "@time valor, flujo = resolverFlujoCostoMinimo(N,d,u,c,s,t)\n",
    "print(\"El valor es: \", valor)"
   ]
  },
  {
   "cell_type": "markdown",
   "metadata": {},
   "source": [
    "## P2\n",
    "Puede apoyarse libremente en el siguiente template."
   ]
  },
  {
   "cell_type": "code",
   "execution_count": 90,
   "metadata": {},
   "outputs": [
    {
     "data": {
      "text/plain": [
       "estar (generic function with 1 method)"
      ]
     },
     "execution_count": 90,
     "metadata": {},
     "output_type": "execute_result"
    }
   ],
   "source": [
    "function estar(i,j,camino)\n",
    "        n=length(camino)\n",
    "        valor=0\n",
    "        for k in 1:n-1\n",
    "            if i==camino[k] && j==camino[k+1]\n",
    "                valor=1 \n",
    "            end\n",
    "        end\n",
    "    return valor\n",
    "end"
   ]
  },
  {
   "cell_type": "code",
   "execution_count": 100,
   "metadata": {},
   "outputs": [
    {
     "data": {
      "text/plain": [
       "costocamino (generic function with 1 method)"
      ]
     },
     "execution_count": 100,
     "metadata": {},
     "output_type": "execute_result"
    }
   ],
   "source": [
    "function costocamino(camino)\n",
    "    suma=0\n",
    "    for i in 1:length(camino)-1\n",
    "        suma = suma + c[i,i+1]\n",
    "    end\n",
    "    return suma\n",
    "end    "
   ]
  },
  {
   "cell_type": "code",
   "execution_count": 101,
   "metadata": {},
   "outputs": [
    {
     "data": {
      "text/plain": [
       "32"
      ]
     },
     "execution_count": 101,
     "metadata": {},
     "output_type": "execute_result"
    }
   ],
   "source": [
    "costocamino([1,2,3])"
   ]
  },
  {
   "cell_type": "code",
   "execution_count": 120,
   "metadata": {},
   "outputs": [
    {
     "data": {
      "text/plain": [
       "resolverProblemaMaestro (generic function with 1 method)"
      ]
     },
     "execution_count": 120,
     "metadata": {},
     "output_type": "execute_result"
    }
   ],
   "source": [
    "function resolverProblemaMaestro(N,d,u,c,s,t,Caminos)\n",
    "    maestro = Model(optimizer_with_attributes( () -> Gurobi.Optimizer(GUROBI_ENV), \"Presolve\"=>0, \"Cuts\"=>0, \"Heuristics\"=>0, \"Threads\"=>1)) \n",
    "    set_silent(maestro)\n",
    "\n",
    "#     @variable\n",
    "#     @objective\n",
    "#     @constraints\n",
    "    cantidad_de_vertices = N\n",
    "    \"\"\"Variables\"\"\"\n",
    "    \n",
    "    @variable(maestro, lambda[P in 1:length(Caminos)])\n",
    "    \"\"\"Restricciones\"\"\"\n",
    "    # Restriccion 1\n",
    "    @constraint(maestro, sum(lambda[i] for i in 1:length(Caminos)) == d)\n",
    "    # Restriccion 2\n",
    "    for i in 1:cantidad_de_vertices, j in 1:cantidad_de_vertices\n",
    "        @constraint(maestro, sum( -estar(i,j,k)*lambda[k] for k in 1:length(Caminos)) >= - u[i,j])\n",
    "    end\n",
    "        \n",
    "    \n",
    "    # Restriccion 3\n",
    "    \"\"\"Funcion objetivo y solver\"\"\"\n",
    "    @objective(maestro, Min, sum( lambda[k]*costocamino(Caminos[k]) for k  in 1:length(Caminos)))\n",
    "    \n",
    "    \n",
    "    # Paso 2. Resolución.\n",
    "    optimize!(maestro)\n",
    "    if termination_status(maestro) != MOI.OPTIMAL\n",
    "        @warn(\"No hay optimo\")\n",
    "    end\n",
    "    valor_objetivo = objective_value(maestro)\n",
    "    λvalues = value.(maestro[:lambda])\n",
    "    yvalues = dual.(maestro[:capacidad])\n",
    "    zvalues = dual.(maestro[:demanda])\n",
    "    return valor_objetivo, λvalues, yvalues, zvalues\n",
    "end\n"
   ]
  },
  {
   "cell_type": "code",
   "execution_count": null,
   "metadata": {},
   "outputs": [],
   "source": []
  },
  {
   "cell_type": "markdown",
   "metadata": {},
   "source": [
    "## P3\n",
    "Puede apoyarse libremente en el siguiente template."
   ]
  },
  {
   "cell_type": "code",
   "execution_count": 121,
   "metadata": {},
   "outputs": [
    {
     "data": {
      "text/plain": [
       "reconstruirFlujo (generic function with 2 methods)"
      ]
     },
     "execution_count": 121,
     "metadata": {},
     "output_type": "execute_result"
    }
   ],
   "source": [
    "function reconstruirFlujo(Caminos,λvalues,N)\n",
    "    F = zeros(N,N)\n",
    "    for i in 1:N, j in 1:N\n",
    "        f(i,j)= sum(lambda[P]*estar(i,j,P) for P in Caminos)\n",
    "    end\n",
    "    return F , lambdas\n",
    "end"
   ]
  },
  {
   "cell_type": "markdown",
   "metadata": {},
   "source": [
    "## P4\n",
    "Puede apoyarse libremente en el siguiente template."
   ]
  },
  {
   "cell_type": "code",
   "execution_count": 122,
   "metadata": {},
   "outputs": [
    {
     "data": {
      "text/plain": [
       "resolverProblemaPricing (generic function with 1 method)"
      ]
     },
     "execution_count": 122,
     "metadata": {},
     "output_type": "execute_result"
    }
   ],
   "source": [
    "\n",
    "\n",
    "\n",
    "\n",
    "function resolverProblemaPricing(N,c,s,t,zvalues,yvalues)\n",
    "    l=zeros(N,N)\n",
    "    for i in 1:N,j in 1:N\n",
    "        l[i,j]=c[i,j]+y[i,j]\n",
    "    end\n",
    "    M=zeros(Int64,N,N)\n",
    "    for i in 1:N\n",
    "        for j in 1:N\n",
    "            M[i,j]=1\n",
    "        end\n",
    "    end\n",
    "    G      = DiGraph(M)\n",
    "    arbol  = dijkstra_shortest_paths(G, s, l)\n",
    "    corto  = arbol[t]\n",
    "    optimo = zvalues-corto\n",
    "    camino=enumerate_paths(arbol,t)\n",
    "\n",
    "    if optimo <= 0\n",
    "        return true, []\n",
    "    else\n",
    "        #Luego de resolver el pricing, puede serle útil investigae sobre la función enumerate_paths(arbol,t), que devuelve el único s-t camino en la forma que queremos.\n",
    "        return false, camino\n",
    "    end\n",
    "end"
   ]
  },
  {
   "cell_type": "markdown",
   "metadata": {},
   "source": [
    "## P5\n",
    "Puede apoyarse libremente en el siguiente template."
   ]
  },
  {
   "cell_type": "code",
   "execution_count": 123,
   "metadata": {},
   "outputs": [
    {
     "data": {
      "text/plain": [
       "resolverGeneracionColumnas (generic function with 1 method)"
      ]
     },
     "execution_count": 123,
     "metadata": {},
     "output_type": "execute_result"
    }
   ],
   "source": [
    "function resolverGeneracionColumnas(N,d,u,c,s,t)\n",
    "    Caminos=Vector{Int}[]\n",
    "    push!(Caminos, [s,t])\n",
    "    \n",
    "    maxcols=300 # damos una cota en el número de columnas a usar.\n",
    "\n",
    "    while length(Caminos) <= maxcols \n",
    "        println(string(\"Iteración:\", length(Caminos)))\n",
    "        \n",
    "        # Paso 1. Resolver problema maestro\n",
    "        valor_objetivo, λvalues, yvalues, zvalues = resolverProblemaMaestro(N,d,u,c,s,t,Caminos)\n",
    "        \n",
    "        # Paso 2. Resolver problema pricing\n",
    "        bool, nuevo_camino = resolverProblemaPricing(N,c,s,t,zvalues,yvalues)\n",
    "                \n",
    "        # Paso 3. Revisar si óptimo global o si se necesita un nuevo camino\n",
    "        if bool\n",
    "            println(\"Óptimo\")\n",
    "            return Caminos, λvalues, valor_objetivo\n",
    "        else\n",
    "            push!(Caminos, nuevo_camino)\n",
    "        end\n",
    "    end\n",
    "    \n",
    "    # Se alcanzó el número de iteraciones\n",
    "    println(\"Subóptimo\")\n",
    "    return Caminos, λvalues, valor_objetivo\n",
    "end"
   ]
  },
  {
   "cell_type": "code",
   "execution_count": 124,
   "metadata": {},
   "outputs": [
    {
     "name": "stdout",
     "output_type": "stream",
     "text": [
      "Iteración:1\n"
     ]
    },
    {
     "ename": "LoadError",
     "evalue": "KeyError: key :λ not found",
     "output_type": "error",
     "traceback": [
      "KeyError: key :λ not found",
      "",
      "Stacktrace:",
      " [1] getindex(m::Model, name::Symbol)",
      "   @ JuMP C:\\Users\\Personal\\.julia\\packages\\JuMP\\0C6kd\\src\\JuMP.jl:1265",
      " [2] resolverProblemaMaestro(N::Int64, d::Int64, u::Matrix{Int64}, c::Matrix{Int64}, s::Int64, t::Int64, Caminos::Vector{Vector{Int64}})",
      "   @ Main .\\In[120]:32",
      " [3] resolverGeneracionColumnas(N::Int64, d::Int64, u::Matrix{Int64}, c::Matrix{Int64}, s::Int64, t::Int64)",
      "   @ Main .\\In[123]:11",
      " [4] top-level scope",
      "   @ .\\timing.jl:220 [inlined]",
      " [5] top-level scope",
      "   @ .\\In[124]:0",
      " [6] eval",
      "   @ .\\boot.jl:373 [inlined]",
      " [7] include_string(mapexpr::typeof(REPL.softscope), mod::Module, code::String, filename::String)",
      "   @ Base .\\loading.jl:1196"
     ]
    },
    {
     "name": "stdout",
     "output_type": "stream",
     "text": [
      "Set parameter Presolve to value 0\n",
      "Set parameter Cuts to value 0\n",
      "Set parameter Heuristics to value 0\n",
      "Set parameter Threads to value 1\n"
     ]
    }
   ],
   "source": [
    "N,d,u,c,s,t = instancia()\n",
    "@time Caminos, λvalues, valor_objetivo = resolverGeneracionColumnas(N,d,u,c,s,t)\n",
    "print(\"El valor es: \", valor_objetivo)\n",
    "\n"
   ]
  },
  {
   "cell_type": "code",
   "execution_count": null,
   "metadata": {},
   "outputs": [],
   "source": []
  }
 ],
 "metadata": {
  "kernelspec": {
   "display_name": "Julia 1.7.2",
   "language": "julia",
   "name": "julia-1.7"
  },
  "language_info": {
   "file_extension": ".jl",
   "mimetype": "application/julia",
   "name": "julia",
   "version": "1.7.2"
  }
 },
 "nbformat": 4,
 "nbformat_minor": 4
}
