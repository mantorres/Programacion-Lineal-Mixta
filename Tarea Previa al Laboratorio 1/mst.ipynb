{
 "cells": [
  {
   "cell_type": "code",
   "execution_count": 174,
   "metadata": {},
   "outputs": [],
   "source": [
    "#!/bin/julia\n",
    "using Printf, DelimitedFiles, LinearAlgebra;"
   ]
  },
  {
   "cell_type": "code",
   "execution_count": 320,
   "metadata": {},
   "outputs": [
    {
     "data": {
      "text/plain": [
       "actualizar_corte (generic function with 2 methods)"
      ]
     },
     "execution_count": 320,
     "metadata": {},
     "output_type": "execute_result"
    }
   ],
   "source": [
    "function identificar_nodo_no_cubierto(nodos_cubiertos, arista)\n",
    "    nodo1 = arista[1]\n",
    "    nodo2 = arista[2]\n",
    "    if nodo1 in nodos_cubiertos\n",
    "        output = nodo2\n",
    "    end\n",
    "    if nodo2 in nodos_cubiertos\n",
    "        output = nodo1\n",
    "    end\n",
    "return output\n",
    "end\n",
    "function actualizar_corte(nodo, corte, W)\n",
    "    numero_de_filas = size(W)[1]\n",
    "    #==============================================================\n",
    "    Buscamos todas las aristas del nodo \"nodo\"\n",
    "    _______________________________________________________________\n",
    "    Recorremos todas las aristas, si alguno de sus dos nodos \n",
    "    coincide con el nodo involucrado entonces guardamos la arista\n",
    "    ==============================================================#\n",
    "    # Definimos el arreglo para guardar las aristas del nodo\n",
    "    aristas_del_nodo = []\n",
    "    # Recorremos todas las aristas y guardamos las aristas del nodo\n",
    "    for i in 1:numero_de_filas\n",
    "        # Recorrer columnas 1 y 2 de la matriz (en esas columnas se guardan los nodos)\n",
    "        for j in 1:2 # Revisamos ambos nodos para cada arista\n",
    "            #@show aristas_del_nodo\n",
    "            if nodo == W[i,j]\n",
    "                if j==1\n",
    "                    append!(aristas_del_nodo , [ [nodo, W[i,2], W[i,3]] ])\n",
    "                    #println(\"Actualizacion aristas_del_nodo\")\n",
    "                    #@show aristas_del_nodo\n",
    "                end\n",
    "                if j==2\n",
    "                    append!(aristas_del_nodo , [ [W[i,1], nodo, W[i,3]] ])\n",
    "                    #println(\"Actualizacion de aristas_del_nodo\")\n",
    "                    #@show aristas_del_nodo\n",
    "                end\n",
    "            end\n",
    "        end \n",
    "    end  \n",
    "    #==============================================================\n",
    "    Comparamos las aristas incidentes en el nodo con las aristas\n",
    "    que ya se encuentran en el corte.\n",
    "    _______________________________________________________________\n",
    "    -Si la arista se encuentra en el corte Y es una arista \n",
    "    adyacente al nodo entonces se quita del corte.\n",
    "    -Si la arista no se encuentra en el corte Y es una arista\n",
    "    adyacente al nodo entonces se añade al corte\n",
    "    ==============================================================#\n",
    "    for i in 1:length(aristas_del_nodo)\n",
    "        if aristas_del_nodo[i] in corte\n",
    "            deleteat!(corte, findall(x->x == aristas_del_nodo[i],corte)) #asquito\n",
    "        else\n",
    "            append!(corte,[aristas_del_nodo[i]])\n",
    "        end     \n",
    "    end\n",
    "    # elemento a retornar\n",
    "    output = corte\n",
    "return output\n",
    "end"
   ]
  },
  {
   "cell_type": "code",
   "execution_count": 313,
   "metadata": {},
   "outputs": [
    {
     "data": {
      "text/plain": [
       "2-element Vector{Vector{Int64}}:\n",
       " [2, 3, 8]\n",
       " [7, 1, 2]"
      ]
     },
     "execution_count": 313,
     "metadata": {},
     "output_type": "execute_result"
    }
   ],
   "source": [
    "# Test a la funcion que actualiza el corte\n",
    "actualizar_corte(1,[[1, 2, 1], [2,3,8]],W1)"
   ]
  },
  {
   "cell_type": "code",
   "execution_count": 314,
   "metadata": {},
   "outputs": [
    {
     "data": {
      "text/plain": [
       "8-element Vector{Vector{Int64}}:\n",
       " [1, 2, 9]\n",
       " [1, 3, 9]\n",
       " [1, 10, 18]\n",
       " [3, 4, 9]\n",
       " [4, 5, 8]\n",
       " [4, 7, 7]\n",
       " [4, 9, 9]\n",
       " [4, 10, 10]"
      ]
     },
     "execution_count": 314,
     "metadata": {},
     "output_type": "execute_result"
    }
   ],
   "source": [
    "# Test a la funcion que actualiza el corte\n",
    "actualizar_corte(4, [[1, 2, 9], [1, 3, 9], [1, 4, 8], [1, 10, 18]], W2)"
   ]
  },
  {
   "cell_type": "code",
   "execution_count": 287,
   "metadata": {},
   "outputs": [
    {
     "data": {
      "text/plain": [
       "funMST1 (generic function with 1 method)"
      ]
     },
     "execution_count": 287,
     "metadata": {},
     "output_type": "execute_result"
    }
   ],
   "source": [
    "function funMST1(W)\n",
    "    # Obtener las dimensiones de la matriz\n",
    "    numero_de_filas = size(W)[1]\n",
    "    numero_de_columnas = size(W)[2] # Siempre es 3 XD\n",
    "    \n",
    "    # Definir un nodo raiz (esto se hace sin perdida de generalidad, da lo mismo quien es la raiz)\n",
    "    raiz = W[1,1]\n",
    "    \n",
    "    # Definir conjuntos para guardar el arbol, nodos y aristas. Definir variable para guardar el peso del arbol cubridor\n",
    "    nodos_cubiertos = [] # Guarda numeros enteros, que corresponde a la etiqueta/nombre del nodo\n",
    "    aristas_cubridoras = [] # Guarda arreglos [a,b,c] donde a y b son los nodos y c es el peso de la arista\n",
    "    corte_de_los_nodos_cubiertos = [] # Guarda arreglos [a,b,c] donde a y b son los nodos y c es el peso de la arista\n",
    "    \n",
    "    # Funcion de costo del arbol cubridor\n",
    "    wMin = 0.\n",
    "    \n",
    "    # Añadir la raiz al conjunto de los nodos cubiertos\n",
    "    append!(nodos_cubiertos , [raiz]) # Notacionalmente corresponde a \"nodos_cubiertos \\cup []\"\"\n",
    "    \n",
    "    #===============================================================================\n",
    "    Caso base: Añadir aristas del corte de la raiz al corte de los nodos cubiertos\n",
    "    ===============================================================================#\n",
    "    append!(corte_de_los_nodos_cubiertos , [ [raiz,W[1,2],W[1,3]] ])\n",
    "    # Recorrer filas de la matriz a partir de la segunda fila, esto es, cada fila es una arista donde se guarda [nodo1, nodo2, peso]\n",
    "    for i in 2:numero_de_filas\n",
    "        # Recorrer columnas de la matriz\n",
    "        for j in 1:2 # Revisamos ambos nodos para cada arista\n",
    "            # Si alguno de los nodos es la raiz se añade\n",
    "            if raiz == W[i,j]\n",
    "                if j==1\n",
    "                    append!(corte_de_los_nodos_cubiertos , [ [raiz,W[i,2],W[i,3]] ])\n",
    "                end\n",
    "                if j==2\n",
    "                    append!(corte_de_los_nodos_cubiertos , [ [W[i,1],raiz,W[i,3]] ])\n",
    "                end\n",
    "            end\n",
    "        end \n",
    "    end \n",
    "    \n",
    "    @show raiz\n",
    "    while corte_de_los_nodos_cubiertos != []\n",
    "        println(\"======================================\")\n",
    "        # Definimos parametros auxiliares para recorrer el corte\n",
    "        peso_arista_actual = 10000000.\n",
    "        indice_arista_cubridora = 0\n",
    "        # Recorrer cada arista del corte\n",
    "        k = firstindex(W)\n",
    "        for k in 1:length(corte_de_los_nodos_cubiertos)\n",
    "            # Elegir la arista de peso minimo\n",
    "            if corte_de_los_nodos_cubiertos[k][3] <= peso_arista_actual\n",
    "                peso_arista_actual = corte_de_los_nodos_cubiertos[k][3]\n",
    "                indice_arista_cubridora = k\n",
    "            end\n",
    "        end \n",
    "        \n",
    "        #==============================================\n",
    "        Actualizar el arbol cubridor de peso minimo\n",
    "        ==============================================#\n",
    "        # Nuevo nodo cubierto\n",
    "        nodo = identificar_nodo_no_cubierto(nodos_cubiertos, corte_de_los_nodos_cubiertos[indice_arista_cubridora])\n",
    "        println(\"El nuevo nodo que se cubre:\")\n",
    "        @show nodo\n",
    "        # Agregar la arista de peso minimo al arbol\n",
    "        append!(aristas_cubridoras, [corte_de_los_nodos_cubiertos[indice_arista_cubridora]])\n",
    "        # Agregar el nuevo nodo cubierto\n",
    "        append!(nodos_cubiertos, nodo)\n",
    "        # Actualizamos el peso del arbol cubridor\n",
    "        wMin = wMin + peso_arista_actual\n",
    "        \n",
    "        #==============================================\n",
    "        Actualizar el corte de los nodos cubiertos,\n",
    "        para ello usamos una funcion auxiliar\n",
    "        ==============================================#\n",
    "        println(\"Corte antes de actualizar:\")\n",
    "        @show corte_de_los_nodos_cubiertos\n",
    "        corte_de_los_nodos_cubiertos = actualizar_corte(nodo, corte_de_los_nodos_cubiertos, W)\n",
    "        println(\"Corte despues de actualizar:\")\n",
    "        @show corte_de_los_nodos_cubiertos\n",
    "    end \n",
    "    println(\"======================================\")\n",
    "    println(\"El peso minimo es:\")\n",
    "return( wMin )\n",
    "end"
   ]
  },
  {
   "cell_type": "code",
   "execution_count": 296,
   "metadata": {},
   "outputs": [
    {
     "data": {
      "text/plain": [
       "8×3 Matrix{Int64}:\n",
       " 1  2  1\n",
       " 2  3  1\n",
       " 3  4  3\n",
       " 4  5  1\n",
       " 5  6  1\n",
       " 6  7  1\n",
       " 7  1  2\n",
       " 3  5  1"
      ]
     },
     "execution_count": 296,
     "metadata": {},
     "output_type": "execute_result"
    }
   ],
   "source": [
    "# Mostrar la matriz 1\n",
    "W1"
   ]
  },
  {
   "cell_type": "code",
   "execution_count": 297,
   "metadata": {},
   "outputs": [
    {
     "name": "stdout",
     "output_type": "stream",
     "text": [
      "raiz = 1\n",
      "======================================\n",
      "El nuevo nodo que se cubre:\n",
      "nodo = 2\n",
      "Corte antes de actualizar:\n",
      "corte_de_los_nodos_cubiertos = Any[[1, 2, 1], [7, 1, 2]]\n",
      "Corte despues de actualizar:\n",
      "corte_de_los_nodos_cubiertos = Any[[7, 1, 2], [2, 3, 1]]\n",
      "======================================\n",
      "El nuevo nodo que se cubre:\n",
      "nodo = 3\n",
      "Corte antes de actualizar:\n",
      "corte_de_los_nodos_cubiertos = Any[[7, 1, 2], [2, 3, 1]]\n",
      "Corte despues de actualizar:\n",
      "corte_de_los_nodos_cubiertos = Any[[7, 1, 2], [3, 4, 3], [3, 5, 1]]\n",
      "======================================\n",
      "El nuevo nodo que se cubre:\n",
      "nodo = 5\n",
      "Corte antes de actualizar:\n",
      "corte_de_los_nodos_cubiertos = Any[[7, 1, 2], [3, 4, 3], [3, 5, 1]]\n",
      "Corte despues de actualizar:\n",
      "corte_de_los_nodos_cubiertos = Any[[7, 1, 2], [3, 4, 3], [4, 5, 1], [5, 6, 1]]\n",
      "======================================\n",
      "El nuevo nodo que se cubre:\n",
      "nodo = 6\n",
      "Corte antes de actualizar:\n",
      "corte_de_los_nodos_cubiertos = Any[[7, 1, 2], [3, 4, 3], [4, 5, 1], [5, 6, 1]]\n",
      "Corte despues de actualizar:\n",
      "corte_de_los_nodos_cubiertos = Any[[7, 1, 2], [3, 4, 3], [4, 5, 1], [6, 7, 1]]\n",
      "======================================\n",
      "El nuevo nodo que se cubre:\n",
      "nodo = 7\n",
      "Corte antes de actualizar:\n",
      "corte_de_los_nodos_cubiertos = Any[[7, 1, 2], [3, 4, 3], [4, 5, 1], [6, 7, 1]]\n",
      "Corte despues de actualizar:\n",
      "corte_de_los_nodos_cubiertos = Any[[3, 4, 3], [4, 5, 1]]\n",
      "======================================\n",
      "El nuevo nodo que se cubre:\n",
      "nodo = 4\n",
      "Corte antes de actualizar:\n",
      "corte_de_los_nodos_cubiertos = Any[[3, 4, 3], [4, 5, 1]]\n",
      "Corte despues de actualizar:\n",
      "corte_de_los_nodos_cubiertos = Any[]\n",
      "======================================\n",
      "El peso minimo es:\n"
     ]
    },
    {
     "data": {
      "text/plain": [
       "6.0"
      ]
     },
     "execution_count": 297,
     "metadata": {},
     "output_type": "execute_result"
    }
   ],
   "source": [
    "W1=readdlm(\"instancia1.txt\", ',', Int, '\\n')\n",
    "funMST1(W1)"
   ]
  },
  {
   "cell_type": "code",
   "execution_count": 294,
   "metadata": {},
   "outputs": [
    {
     "data": {
      "text/plain": [
       "21×3 Matrix{Int64}:\n",
       " 1   2   9\n",
       " 1   3   9\n",
       " 1   4   8\n",
       " 1  10  18\n",
       " 2   3   3\n",
       " 2   6   6\n",
       " 3   4   9\n",
       " 3   5   2\n",
       " 3   6   4\n",
       " 4   5   8\n",
       " 4   7   7\n",
       " 4   9   9\n",
       " 4  10  10\n",
       " 5   6   2\n",
       " 5   7   9\n",
       " 6   7   9\n",
       " 7   8   4\n",
       " 7   9   5\n",
       " 8   9   1\n",
       " 8  10   4\n",
       " 9  10   3"
      ]
     },
     "execution_count": 294,
     "metadata": {},
     "output_type": "execute_result"
    }
   ],
   "source": [
    "# Mostrar la matriz W2\n",
    "W2"
   ]
  },
  {
   "cell_type": "code",
   "execution_count": 312,
   "metadata": {},
   "outputs": [
    {
     "name": "stdout",
     "output_type": "stream",
     "text": [
      "raiz = 1\n",
      "======================================\n",
      "El nuevo nodo que se cubre:\n",
      "nodo = 4\n",
      "Corte antes de actualizar:\n",
      "corte_de_los_nodos_cubiertos = Any[[1, 2, 9], [1, 3, 9], [1, 4, 8], [1, 10, 18]]\n",
      "Corte despues de actualizar:\n",
      "corte_de_los_nodos_cubiertos = Any[[1, 2, 9], [1, 3, 9], [1, 10, 18], [3, 4, 9], [4, 5, 8], [4, 7, 7], [4, 9, 9], [4, 10, 10]]\n",
      "======================================\n",
      "El nuevo nodo que se cubre:\n",
      "nodo = 7\n",
      "Corte antes de actualizar:\n",
      "corte_de_los_nodos_cubiertos = Any[[1, 2, 9], [1, 3, 9], [1, 10, 18], [3, 4, 9], [4, 5, 8], [4, 7, 7], [4, 9, 9], [4, 10, 10]]\n",
      "Corte despues de actualizar:\n",
      "corte_de_los_nodos_cubiertos = Any[[1, 2, 9], [1, 3, 9], [1, 10, 18], [3, 4, 9], [4, 5, 8], [4, 9, 9], [4, 10, 10], [5, 7, 9], [6, 7, 9], [7, 8, 4], [7, 9, 5]]\n",
      "======================================\n",
      "El nuevo nodo que se cubre:\n",
      "nodo = 8\n",
      "Corte antes de actualizar:\n",
      "corte_de_los_nodos_cubiertos = Any[[1, 2, 9], [1, 3, 9], [1, 10, 18], [3, 4, 9], [4, 5, 8], [4, 9, 9], [4, 10, 10], [5, 7, 9], [6, 7, 9], [7, 8, 4], [7, 9, 5]]\n",
      "Corte despues de actualizar:\n",
      "corte_de_los_nodos_cubiertos = Any[[1, 2, 9], [1, 3, 9], [1, 10, 18], [3, 4, 9], [4, 5, 8], [4, 9, 9], [4, 10, 10], [5, 7, 9], [6, 7, 9], [7, 9, 5], [8, 9, 1], [8, 10, 4]]\n",
      "======================================\n",
      "El nuevo nodo que se cubre:\n",
      "nodo = 9\n",
      "Corte antes de actualizar:\n",
      "corte_de_los_nodos_cubiertos = Any[[1, 2, 9], [1, 3, 9], [1, 10, 18], [3, 4, 9], [4, 5, 8], [4, 9, 9], [4, 10, 10], [5, 7, 9], [6, 7, 9], [7, 9, 5], [8, 9, 1], [8, 10, 4]]\n",
      "Corte despues de actualizar:\n",
      "corte_de_los_nodos_cubiertos = Any[[1, 2, 9], [1, 3, 9], [1, 10, 18], [3, 4, 9], [4, 5, 8], [4, 10, 10], [5, 7, 9], [6, 7, 9], [8, 10, 4], [9, 10, 3]]\n",
      "======================================\n",
      "El nuevo nodo que se cubre:\n",
      "nodo = 10\n",
      "Corte antes de actualizar:\n",
      "corte_de_los_nodos_cubiertos = Any[[1, 2, 9], [1, 3, 9], [1, 10, 18], [3, 4, 9], [4, 5, 8], [4, 10, 10], [5, 7, 9], [6, 7, 9], [8, 10, 4], [9, 10, 3]]\n",
      "Corte despues de actualizar:\n",
      "corte_de_los_nodos_cubiertos = Any[[1, 2, 9], [1, 3, 9], [3, 4, 9], [4, 5, 8], [5, 7, 9], [6, 7, 9]]\n",
      "======================================\n",
      "El nuevo nodo que se cubre:\n",
      "nodo = 5\n",
      "Corte antes de actualizar:\n",
      "corte_de_los_nodos_cubiertos = Any[[1, 2, 9], [1, 3, 9], [3, 4, 9], [4, 5, 8], [5, 7, 9], [6, 7, 9]]\n",
      "Corte despues de actualizar:\n",
      "corte_de_los_nodos_cubiertos = Any[[1, 2, 9], [1, 3, 9], [3, 4, 9], [6, 7, 9], [3, 5, 2], [5, 6, 2]]\n",
      "======================================\n",
      "El nuevo nodo que se cubre:\n",
      "nodo = 6\n",
      "Corte antes de actualizar:\n",
      "corte_de_los_nodos_cubiertos = Any[[1, 2, 9], [1, 3, 9], [3, 4, 9], [6, 7, 9], [3, 5, 2], [5, 6, 2]]\n",
      "Corte despues de actualizar:\n",
      "corte_de_los_nodos_cubiertos = Any[[1, 2, 9], [1, 3, 9], [3, 4, 9], [3, 5, 2], [2, 6, 6], [3, 6, 4]]\n",
      "======================================\n",
      "El nuevo nodo que se cubre:\n",
      "nodo = 3\n",
      "Corte antes de actualizar:\n",
      "corte_de_los_nodos_cubiertos = Any[[1, 2, 9], [1, 3, 9], [3, 4, 9], [3, 5, 2], [2, 6, 6], [3, 6, 4]]\n",
      "Corte despues de actualizar:\n",
      "corte_de_los_nodos_cubiertos = Any[[1, 2, 9], [2, 6, 6], [2, 3, 3]]\n",
      "======================================\n",
      "El nuevo nodo que se cubre:\n",
      "nodo = 2\n",
      "Corte antes de actualizar:\n",
      "corte_de_los_nodos_cubiertos = Any[[1, 2, 9], [2, 6, 6], [2, 3, 3]]\n",
      "Corte despues de actualizar:\n",
      "corte_de_los_nodos_cubiertos = Any[]\n",
      "======================================\n",
      "El peso minimo es:\n"
     ]
    },
    {
     "data": {
      "text/plain": [
       "38.0"
      ]
     },
     "execution_count": 312,
     "metadata": {},
     "output_type": "execute_result"
    }
   ],
   "source": [
    "W2=readdlm(\"instancia2.txt\", ',', Int, '\\n')\n",
    "funMST1(W2)"
   ]
  }
 ],
 "metadata": {
  "kernelspec": {
   "display_name": "Julia 1.7.2",
   "language": "julia",
   "name": "julia-1.7"
  },
  "language_info": {
   "file_extension": ".jl",
   "mimetype": "application/julia",
   "name": "julia",
   "version": "1.7.2"
  }
 },
 "nbformat": 4,
 "nbformat_minor": 4
}
