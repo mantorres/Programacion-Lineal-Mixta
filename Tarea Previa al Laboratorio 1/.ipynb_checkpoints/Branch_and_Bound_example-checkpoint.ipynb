{
 "cells": [
  {
   "cell_type": "markdown",
   "metadata": {},
   "source": [
    "# Branch and Bound\n",
    "## Un tutorial del curso MA4702. Universidad de Chile. 2021\n",
    "### Profesor José Soto"
   ]
  },
  {
   "cell_type": "markdown",
   "metadata": {},
   "source": [
    "\n",
    "Uno de los métodos más usados para resolver PLM y otros problemas de optimización es *branch and bound (BnB)*. Se basa en la siguiente idea: \n",
    "\n",
    "\n",
    ">  **IDEA** \n",
    ">\n",
    ">Sea $\\{S_1,\\dots, S_k\\}$ una partición del conjunto factible $S$ de un problema de optimización $z^*=\\max \\{c^Tx\\colon x\\in S\\}$.\n",
    ">\n",
    ">Si $z^*_i=\\max\\{c^Tx\\colon x\\in S_i\\}$ entonces $z^*=\\max_{i\\in [k]}z^*_i.$"
   ]
  },
  {
   "cell_type": "markdown",
   "metadata": {},
   "source": [
    "BnB consiste en particionar el conjunto factible $S$ del problema original en conjuntos más pequeños y resolver luego $\\max c^Tx$ en cada subconjunto de manera recursiva. Si la recursión se pudiera llevar completamente, al final enumeraríamos todos los puntos factibles del problema. Esta idea tiene dos problemas. Primero, si el dominio es infinito entonces esto no es posible. Segundo, incluso si el dominio es finito, esto podría ser extremadamente lento y no difiere en nada de simplemente de simple fuerza bruta. \n",
    "    La idea es que BnB no explore todo el árbol de recursión sino que guarde cotas para los subproblemas que ya ha resuelto y, usando estas cotas determinar que no necesitamos resolver ciertos subproblemas.\n",
    "    Nos enfocaremos en PLM de la forma    \n",
    " $\\begin{aligned}\n",
    "    \\qquad (M)&\\quad\\quad \\max c^Tx\\\\\n",
    "    S&\\colon \\begin{cases}\n",
    "    Ax &\\leq b\\\\\n",
    "    x&\\in \\mathbb{Z}^E\\times \\mathbb{R}^C\n",
    "    \\end{cases}\n",
    "    \\end{aligned}$\n",
    "    \n",
    "donde $A$, $b$, $c$ son a coefiecientes racionales.\n",
    "\n",
    "Llamemos $P=\\{x\\in \\mathbb{R}^{E\\cup C}, Ax\\leq b\\}$ a la *formulacion de $S$ usada*.\n",
    "Luego $S \\subseteq P.$  Como los datos son racionales, el programa lineal relajado\n",
    "\n",
    " $\\begin{aligned}\n",
    "    \\qquad (L)&\\quad \\max c^Tx\\\\\n",
    "    P&\\colon \\begin{cases}\n",
    "    Ax &\\leq b\\\\\n",
    "    x&\\in \\mathbb{R}^{E\\cup C}\n",
    "    \\end{cases}\n",
    "    \\end{aligned}$\n",
    "    \n",
    "es o bien **infactible**, o bien **factible no acotado** o bien **factible acotado** con solución óptima $\\bar{x}\\in P$ racional. En este caso llamamos $\\bar{z}=c^T\\bar{x}$ a su valor.\n",
    "\n",
    "Llamemos $(M_0)$ al PLM inicial, $(P_0)$ a su formulación y $(L_0)$ a su programa lineal relajado.\n",
    "\n",
    "\n",
    "**Supondremos que $(P_0)$ es acotado en la dirección de optimización**. \n",
    "\n",
    "*NOTA: La versión de BnB que describiremos sirve solo para formulaciones acotados en la dirección de optimización*\n"
   ]
  },
  {
   "cell_type": "markdown",
   "metadata": {},
   "source": [
    "***"
   ]
  },
  {
   "cell_type": "markdown",
   "metadata": {},
   "source": [
    "### Incumbente y Árbol BnB para resolver $(M_0)$"
   ]
  },
  {
   "cell_type": "markdown",
   "metadata": {},
   "source": [
    "Para resolver $(M_0)$ mantendremos dos objetos: un incumbente y un árbol.\n",
    "\n",
    "El \\textbf{incumbente} es la solución factible de $(M_0)$ (inicialmente nula) $x^*$ con mayor valor $z^*=c^Tx^*$ encontrada hasta ahora. Su valor es entonces la \\textbf{mejor cota inferior} del problema.\n",
    "\n",
    "El segundo objeto es un **árbol de branch and bound (BnB)** $\\mathcal{T}$ cuyos nodos son de la forma $(M)=(M,U,s)$ con\n",
    "\n",
    "- $M$ un subproblema de $(M)$.\n",
    "- $U=U(M)$ una cota superior del valor de $(M)$.\n",
    "- $s=s(M)$ un **status** que puede ser \n",
    "    - **activo**: Aún no procesado (hoja)\n",
    "    - **ramificado**: Nodo procesado con hijos\n",
    "    - **infactible**: Nodo procesado (hoja) con dominio infactible.\n",
    "    - **dominado**: Nodo procesado (hoja) cuya solución óptima está dominada por el incumbente.\n",
    "    - **entero**: Nodo procesado cuya solución óptima satisface las condiciones de integralidad. En este caso, el nodo además guarda el punto óptimo $\\bar{x}$ y su valor $\\bar{z}=c^T\\bar{x}$.\n",
    "\n",
    "Tanto la cota como el status de un nodo puede cambiar a lo largo del algoritmo.\n",
    "\n",
    "El árbol $\\mathcal{T}$ tiene la siguiente propiedad:\n",
    "\n",
    "> La unión de los dominios de las hojas de cualquier subárbol es el dominio de la raíz del subárbol. Más aún, el óptimo del problema o bien es el incumbente, o bien se encuentra en el dominio de algún nodo activo.\n",
    "\n",
    "En un principio, veremos que el nodo raíz será $(M_0,U_0,\\text{activo})$ donde $M_0$ es el PLM original y $U_0$ es el valor óptimo de su relajación $L_0$. \n",
    "\n",
    "Además del árbol, mantenemos globalmente un punto $x^*$ llamado **incumbente**\n",
    "\n",
    "> El incumbente $x^*$ (inicialmente nulo) es la **mejor solución factible** para $(M_0)$ encontrada hasta el momento. \n",
    "Su valor $z^*=c^Tx^*$ (inicialmente menos infinito) es la **mejor cota inferior** para el valor de $(M_0)$ encontrada hasta el momento.\n",
    "\n",
    "Ya que el valor $U_0$ de la raíz será cota superior, siempre tendremos que:\n",
    "\n",
    "$$z^* \\leq \\text{valor de } M_0 \\leq U_0.$$"
   ]
  },
  {
   "cell_type": "markdown",
   "metadata": {},
   "source": [
    "Durante el algoritmo BnB hay 2 procesos intermedios importantes: \n",
    "* la **creación de un nodo**\n",
    "* la **ramificación de un nodo activo**\n"
   ]
  },
  {
   "cell_type": "markdown",
   "metadata": {},
   "source": [
    "### Proceso 1. Creación de un nodo"
   ]
  },
  {
   "cell_type": "markdown",
   "metadata": {},
   "source": [
    "***Algoritmo***: Creación de un nodo para el subproblema $(M)$\n",
    "\n",
    "1. Resolver la relajación lineal $(L)$ de $(M)$ \n",
    "2. Si $(L)$ es infactible:    &nbsp; &nbsp;  &nbsp; &nbsp; &nbsp;  &nbsp; &nbsp; &nbsp;  &nbsp; &nbsp; &nbsp; &nbsp; &nbsp; &nbsp;  &nbsp; &nbsp; &nbsp; **return** $(M,-\\infty, \\text{infactible})$\n",
    "3. Sea $\\bar{x}$ el punto óptimo de $(L)$ con valor $\\bar{z}=c^T\\bar{x}$.\n",
    "4. Si $\\bar{x}$ es factible en $(M)$  entonces &nbsp; &nbsp; &nbsp;  &nbsp; &nbsp; &nbsp; **return** $(M,\\bar{z}, \\text{entero})$ y recordar $(\\bar{x},\\bar{z})$ en el nodo.\n",
    "5. Si $\\bar{x}$ es infactible en $(M)$ entonces\n",
    "    1. Si $\\bar{z}\\leq z^*$, entonces   &nbsp;  &nbsp; &nbsp; &nbsp;  &nbsp; &nbsp; &nbsp; &nbsp; &nbsp; &nbsp;  &nbsp; &nbsp; &nbsp; **return** $(M,\\bar{z}, \\text{dominado})$\n",
    "    2. Si $\\bar{z}> z^*$, entonces   &nbsp;  &nbsp; &nbsp; &nbsp;  &nbsp; &nbsp; &nbsp; &nbsp; &nbsp; &nbsp;  &nbsp; &nbsp; &nbsp; **return** $(M,\\bar{z}, \\text{activo})$."
   ]
  },
  {
   "cell_type": "markdown",
   "metadata": {},
   "source": [
    "Notamos que:\n",
    "* Si un nodo se declara entero, entonces conocemos su mejor valor factible.\n",
    "* Si un nodo se declara dominado, en su dominio $S$ no pueden haber soluciones enteras mejores que el incumbente, por lo que no es necesario seguir procesándolo.\n",
    "* Si un nodo se declara infactible, no es necesario seguir procesándolo\n",
    "\n",
    "Luego, los únicos subproblemas que podrían tener soluciones enteras mejores que el incumbente actual son aquellos que están activos."
   ]
  },
  {
   "cell_type": "markdown",
   "metadata": {},
   "source": [
    "### Proceso 2. Ramificación de un nodo activo"
   ]
  },
  {
   "cell_type": "markdown",
   "metadata": {},
   "source": [
    "**Algoritmo**: Ramificación de un nodo $(M, U, \\text{activo})$\n",
    "1. Determinar $k\\geq 2$ subproblemas $(M_i)$ cuyos dominios particionen el dominio de $(M)$\n",
    "2. Crear un nodo $(M_i)$ para cada subproblema y colgarlo como hijo de $(M)$.\n",
    "3. Declarar el status de $M$ como ramificado.\n",
    "4. ***Actualizar incumbentes y dominados:*** Esto se realiza si alguno de los hijos de $(M)$ se declara entero. Sea $\\bar{x}$ el punto entero recordado de mayor valor $\\bar{z}$ entre sus hijos. \n",
    "    * Si $\\bar{z}>z^*$ entonces actualizamos el incumbente $(x^*,z^*)\\gets (\\bar{x},\\bar{z})$. Además cada nodo activos $(M',U',\\text{activo})$, con $U'\\leq z^*$ cambia su status a $\\text{dominado}$.\n",
    "5. ***Actualizar cotas superiores:*** Para cada nodo $(M')$ en el camino en el árbol desde $(M)$ hasta la raíz $(M_0)$, $$U(M')\\gets \\min\\{U(M'), \\max\\{U(M'')\\colon (M'') \\text{ hijo de } (M')\\}$$"
   ]
  },
  {
   "cell_type": "markdown",
   "metadata": {},
   "source": [
    "Hay muchas formas de ramificar un nodo. Una forma estándar y simple es hacer **branching en una variable**  \n",
    "> ### Branching en una variable $x_k$ en el nodo $(M)$\n",
    ">    \n",
    ">   Como el óptimo $\\bar{x}\\in P$ de $(L)$ no es factible en $(M)$ debe haber una coordenada $k\\in E$ tal que la variable $\\bar{x}_k$ es fraccional (pero que debería ser entera en $(M)$). Podemos **elegir** una coordenada y definir entonces dos PLM nuevos $(M_1)$ y $(M_2)$ como sigue:\n",
    ">\n",
    ">   \\begin{align*}\n",
    "    S_1&=S\\cap \\{x\\colon x_k \\leq \\lfloor \\bar{x}_k \\rfloor\\}. &S_2&=S\\cap \\{x\\colon x_k \\geq \\lceil \\bar{x}_k \\rceil\\}.\\\\\n",
    "   (M_1)&\\colon \\max\\{c^Tx\\colon x\\in S_1\\}. & (M_2)&\\colon \\max\\{c^Tx\\colon x\\in S_2\\}.\n",
    "    \\end{align*}\n",
    "    "
   ]
  },
  {
   "cell_type": "markdown",
   "metadata": {},
   "source": [
    "## Descripción de BnB"
   ]
  },
  {
   "cell_type": "markdown",
   "metadata": {},
   "source": [
    "Ahora estamos listos para escribir el algoritmo de BnB completo. Como BnB es un método genérico hay algunas instrucciones que no están completamente descritas."
   ]
  },
  {
   "cell_type": "markdown",
   "metadata": {},
   "source": [
    "***Algoritmo:*** Branch and Bound\n",
    "\n",
    "*Entrada*: Un PLM $(M_0)$ **racional** con relajación $(L_0)$ factible acotada.\n",
    "\n",
    "1. Crear incumbente nulo: $x^*\\gets $ *null*, $z^*\\gets -\\infty$.\n",
    "2. **Crear nodo** a partir de $M_0$ y declararlo como raíz de $\\mathcal{T}$.\n",
    "3. Mientras existan nodos activos en $\\mathcal{T}$\n",
    "    1. Si se ha alcanzado un criterio de terminación temprana *PARAR*.\n",
    "    2. *ELEGIR* un nodo activo $(M,U,\\text{activo})$ y ramificarlo.\n",
    "4. **Return** $x^*$.\n",
    "    \t"
   ]
  },
  {
   "cell_type": "markdown",
   "metadata": {},
   "source": [
    "Discutiremos posibles criterios de terminación temprana. Pero si en algún minuto necesitamos terminar, entonces observamos que el valor óptimo de $(M_0)$ siempre está en $[z^*, U(M_0)]$. \n",
    "\n",
    "> IMPORTANTE:\n",
    "> La razón $\\frac{U(M_0)-z^*}{z^*}$ se suele llamar el **GAP de resolución** (en dicho momento).\n",
    ">\n",
    "> Si el gap es 0, el problema está resuelto.\n",
    "\n",
    "Hagamos un ejemplo concreto de BnB usando solo branchings por variables. Luego de ese ejemplo daremos varias observaciones importantes.\n",
    "\n",
    "\n",
    "\n",
    "\n",
    "\n"
   ]
  },
  {
   "cell_type": "markdown",
   "metadata": {},
   "source": [
    "***"
   ]
  },
  {
   "cell_type": "markdown",
   "metadata": {},
   "source": [
    "# EJEMPLO"
   ]
  },
  {
   "cell_type": "markdown",
   "metadata": {},
   "source": [
    "(El árbol de branch and bound está disponible en ucursos)"
   ]
  },
  {
   "cell_type": "markdown",
   "metadata": {},
   "source": [
    " \\begin{align*}\n",
    "    M_0&:\\quad \t\\max 3x+5y\\\\\n",
    "    S_0&:\\quad \\begin{cases}\n",
    "    20y+9x&\\leq 74\\\\\n",
    "    25y+18x&\\leq 105\\\\\n",
    "    x,y&\\geq 0\\\\\n",
    "    x,y&\\in \\mathbb{Z}\n",
    "    \\end{cases}\n",
    "    \\end{align*}"
   ]
  },
  {
   "cell_type": "markdown",
   "metadata": {},
   "source": [
    "Dibujemos el área factible para entender el PL un poco más antes de partir."
   ]
  },
  {
   "cell_type": "code",
   "execution_count": 1,
   "metadata": {},
   "outputs": [
    {
     "name": "stderr",
     "output_type": "stream",
     "text": [
      "┌ Info: For saving to png with the Plotly backend PlotlyBase has to be installed.\n",
      "└ @ Plots C:\\Users\\Jose\\.julia\\packages\\Plots\\z5Msu\\src\\backends.jl:372\n"
     ]
    },
    {
     "data": {
      "application/vnd.plotly.v1+json": {
       "data": [
        {
         "colorbar": {
          "title": ""
         },
         "fill": "tozeroy",
         "fillcolor": "rgba(0, 154, 250, 0.500)",
         "legendgroup": "y1",
         "line": {
          "color": "rgba(0, 154, 250, 1.000)",
          "dash": "solid",
          "shape": "linear",
          "width": 1
         },
         "mode": "lines",
         "name": "y1",
         "showlegend": true,
         "type": "scatter",
         "x": [
          0,
          6
         ],
         "xaxis": "x",
         "y": [
          3.7,
          1
         ],
         "yaxis": "y",
         "zmax": null,
         "zmin": null
        },
        {
         "colorbar": {
          "title": ""
         },
         "fill": "tozeroy",
         "fillcolor": "rgba(227, 111, 71, 0.500)",
         "legendgroup": "y2",
         "line": {
          "color": "rgba(227, 111, 71, 1.000)",
          "dash": "solid",
          "shape": "linear",
          "width": 1
         },
         "mode": "lines",
         "name": "y2",
         "showlegend": true,
         "type": "scatter",
         "x": [
          0,
          6
         ],
         "xaxis": "x",
         "y": [
          4.2,
          -0.12
         ],
         "yaxis": "y",
         "zmax": null,
         "zmin": null
        },
        {
         "colorbar": {
          "title": ""
         },
         "legendgroup": "y3",
         "line": {
          "color": "rgba(62, 164, 78, 1.000)",
          "dash": "solid",
          "shape": "linear",
          "width": 3
         },
         "mode": "lines",
         "name": "y3",
         "showlegend": true,
         "type": "scatter",
         "x": [
          0,
          1
         ],
         "xaxis": "x",
         "y": [
          0,
          1.6666666666666667
         ],
         "yaxis": "y",
         "zmax": null,
         "zmin": null
        }
       ],
       "layout": {
        "annotations": [
         {
          "font": {
           "color": "rgba(0, 0, 0, 1.000)",
           "family": "color",
           "size": 20
          },
          "rotation": 0,
          "showarrow": false,
          "text": "P0",
          "x": 2,
          "xanchor": "center",
          "xref": "x",
          "y": 2,
          "yanchor": "middle",
          "yref": "y"
         }
        ],
        "height": 400,
        "margin": {
         "b": 20,
         "l": 0,
         "r": 0,
         "t": 20
        },
        "paper_bgcolor": "rgba(255, 255, 255, 1.000)",
        "plot_bgcolor": "rgba(255, 255, 255, 1.000)",
        "showlegend": false,
        "width": 600,
        "xaxis": {
         "anchor": "y",
         "domain": [
          0.02137649460484106,
          0.9934383202099737
         ],
         "gridcolor": "rgba(0, 0, 0, 0.100)",
         "gridwidth": 0.5,
         "linecolor": "rgba(0, 0, 0, 1.000)",
         "mirror": false,
         "range": [
          -0.18,
          6.18
         ],
         "showgrid": true,
         "showline": true,
         "showticklabels": true,
         "tickangle": 0,
         "tickcolor": "rgb(0, 0, 0)",
         "tickfont": {
          "color": "rgba(0, 0, 0, 1.000)",
          "family": "sans-serif",
          "size": 11
         },
         "tickmode": "array",
         "ticks": "inside",
         "ticktext": [
          "0",
          "1",
          "2",
          "3",
          "4",
          "5",
          "6"
         ],
         "tickvals": [
          0,
          1,
          2,
          3,
          4,
          5,
          6
         ],
         "title": "",
         "titlefont": {
          "color": "rgba(0, 0, 0, 1.000)",
          "family": "sans-serif",
          "size": 15
         },
         "type": "-",
         "visible": true,
         "zeroline": false,
         "zerolinecolor": "rgba(0, 0, 0, 1.000)"
        },
        "yaxis": {
         "anchor": "x",
         "domain": [
          0.03762029746281716,
          0.9901574803149606
         ],
         "gridcolor": "rgba(0, 0, 0, 0.100)",
         "gridwidth": 0.5,
         "linecolor": "rgba(0, 0, 0, 1.000)",
         "mirror": false,
         "range": [
          -0.2496,
          4.3296
         ],
         "showgrid": true,
         "showline": true,
         "showticklabels": true,
         "tickangle": 0,
         "tickcolor": "rgb(0, 0, 0)",
         "tickfont": {
          "color": "rgba(0, 0, 0, 1.000)",
          "family": "sans-serif",
          "size": 11
         },
         "tickmode": "array",
         "ticks": "inside",
         "ticktext": [
          "0",
          "1",
          "2",
          "3",
          "4"
         ],
         "tickvals": [
          0,
          1,
          2,
          3,
          4
         ],
         "title": "",
         "titlefont": {
          "color": "rgba(0, 0, 0, 1.000)",
          "family": "sans-serif",
          "size": 15
         },
         "type": "-",
         "visible": true,
         "zeroline": false,
         "zerolinecolor": "rgba(0, 0, 0, 1.000)"
        }
       }
      },
      "text/html": [
       "<!DOCTYPE html>\n",
       "<html>\n",
       "    <head>\n",
       "        <title>Plots.jl</title>\n",
       "        <meta http-equiv=\"content-type\" content=\"text/html; charset=UTF-8\">\n",
       "        \n",
       "    </head>\n",
       "    <body>\n",
       "            <div id=\"a84676ba-7d5d-48aa-bc70-3ce9e2844f0f\" style=\"width:600px;height:400px;\"></div>\n",
       "    <script>\n",
       "        requirejs.config({\n",
       "        paths: {\n",
       "            Plotly: 'https://cdn.plot.ly/plotly-1.57.1.min'\n",
       "        }\n",
       "    });\n",
       "    require(['Plotly'], function (Plotly) {\n",
       "\n",
       "    PLOT = document.getElementById('a84676ba-7d5d-48aa-bc70-3ce9e2844f0f');\n",
       "    Plotly.plot(PLOT, [\n",
       "    {\n",
       "        \"xaxis\": \"x\",\n",
       "        \"colorbar\": {\n",
       "            \"title\": \"\"\n",
       "        },\n",
       "        \"fill\": \"tozeroy\",\n",
       "        \"yaxis\": \"y\",\n",
       "        \"x\": [\n",
       "            0.0,\n",
       "            6.0\n",
       "        ],\n",
       "        \"showlegend\": true,\n",
       "        \"mode\": \"lines\",\n",
       "        \"fillcolor\": \"rgba(0, 154, 250, 0.500)\",\n",
       "        \"name\": \"y1\",\n",
       "        \"zmin\": null,\n",
       "        \"legendgroup\": \"y1\",\n",
       "        \"zmax\": null,\n",
       "        \"line\": {\n",
       "            \"color\": \"rgba(0, 154, 250, 1.000)\",\n",
       "            \"shape\": \"linear\",\n",
       "            \"dash\": \"solid\",\n",
       "            \"width\": 1\n",
       "        },\n",
       "        \"y\": [\n",
       "            3.7,\n",
       "            1.0\n",
       "        ],\n",
       "        \"type\": \"scatter\"\n",
       "    },\n",
       "    {\n",
       "        \"xaxis\": \"x\",\n",
       "        \"colorbar\": {\n",
       "            \"title\": \"\"\n",
       "        },\n",
       "        \"fill\": \"tozeroy\",\n",
       "        \"yaxis\": \"y\",\n",
       "        \"x\": [\n",
       "            0.0,\n",
       "            6.0\n",
       "        ],\n",
       "        \"showlegend\": true,\n",
       "        \"mode\": \"lines\",\n",
       "        \"fillcolor\": \"rgba(227, 111, 71, 0.500)\",\n",
       "        \"name\": \"y2\",\n",
       "        \"zmin\": null,\n",
       "        \"legendgroup\": \"y2\",\n",
       "        \"zmax\": null,\n",
       "        \"line\": {\n",
       "            \"color\": \"rgba(227, 111, 71, 1.000)\",\n",
       "            \"shape\": \"linear\",\n",
       "            \"dash\": \"solid\",\n",
       "            \"width\": 1\n",
       "        },\n",
       "        \"y\": [\n",
       "            4.2,\n",
       "            -0.12\n",
       "        ],\n",
       "        \"type\": \"scatter\"\n",
       "    },\n",
       "    {\n",
       "        \"xaxis\": \"x\",\n",
       "        \"colorbar\": {\n",
       "            \"title\": \"\"\n",
       "        },\n",
       "        \"yaxis\": \"y\",\n",
       "        \"x\": [\n",
       "            0.0,\n",
       "            1.0\n",
       "        ],\n",
       "        \"showlegend\": true,\n",
       "        \"mode\": \"lines\",\n",
       "        \"name\": \"y3\",\n",
       "        \"zmin\": null,\n",
       "        \"legendgroup\": \"y3\",\n",
       "        \"zmax\": null,\n",
       "        \"line\": {\n",
       "            \"color\": \"rgba(62, 164, 78, 1.000)\",\n",
       "            \"shape\": \"linear\",\n",
       "            \"dash\": \"solid\",\n",
       "            \"width\": 3\n",
       "        },\n",
       "        \"y\": [\n",
       "            0.0,\n",
       "            1.6666666666666667\n",
       "        ],\n",
       "        \"type\": \"scatter\"\n",
       "    }\n",
       "]\n",
       ", {\n",
       "    \"showlegend\": false,\n",
       "    \"xaxis\": {\n",
       "        \"showticklabels\": true,\n",
       "        \"gridwidth\": 0.5,\n",
       "        \"tickvals\": [\n",
       "            0.0,\n",
       "            1.0,\n",
       "            2.0,\n",
       "            3.0,\n",
       "            4.0,\n",
       "            5.0,\n",
       "            6.0\n",
       "        ],\n",
       "        \"visible\": true,\n",
       "        \"ticks\": \"inside\",\n",
       "        \"range\": [\n",
       "            -0.18,\n",
       "            6.18\n",
       "        ],\n",
       "        \"domain\": [\n",
       "            0.02137649460484106,\n",
       "            0.9934383202099737\n",
       "        ],\n",
       "        \"tickmode\": \"array\",\n",
       "        \"linecolor\": \"rgba(0, 0, 0, 1.000)\",\n",
       "        \"showgrid\": true,\n",
       "        \"title\": \"\",\n",
       "        \"mirror\": false,\n",
       "        \"tickangle\": 0,\n",
       "        \"showline\": true,\n",
       "        \"gridcolor\": \"rgba(0, 0, 0, 0.100)\",\n",
       "        \"titlefont\": {\n",
       "            \"color\": \"rgba(0, 0, 0, 1.000)\",\n",
       "            \"family\": \"sans-serif\",\n",
       "            \"size\": 15\n",
       "        },\n",
       "        \"tickcolor\": \"rgb(0, 0, 0)\",\n",
       "        \"ticktext\": [\n",
       "            \"0\",\n",
       "            \"1\",\n",
       "            \"2\",\n",
       "            \"3\",\n",
       "            \"4\",\n",
       "            \"5\",\n",
       "            \"6\"\n",
       "        ],\n",
       "        \"zeroline\": false,\n",
       "        \"type\": \"-\",\n",
       "        \"tickfont\": {\n",
       "            \"color\": \"rgba(0, 0, 0, 1.000)\",\n",
       "            \"family\": \"sans-serif\",\n",
       "            \"size\": 11\n",
       "        },\n",
       "        \"zerolinecolor\": \"rgba(0, 0, 0, 1.000)\",\n",
       "        \"anchor\": \"y\"\n",
       "    },\n",
       "    \"paper_bgcolor\": \"rgba(255, 255, 255, 1.000)\",\n",
       "    \"annotations\": [\n",
       "        {\n",
       "            \"yanchor\": \"middle\",\n",
       "            \"xanchor\": \"center\",\n",
       "            \"rotation\": -0.0,\n",
       "            \"y\": 2,\n",
       "            \"font\": {\n",
       "                \"color\": \"rgba(0, 0, 0, 1.000)\",\n",
       "                \"family\": \"color\",\n",
       "                \"size\": 20\n",
       "            },\n",
       "            \"yref\": \"y\",\n",
       "            \"showarrow\": false,\n",
       "            \"text\": \"P0\",\n",
       "            \"xref\": \"x\",\n",
       "            \"x\": 2\n",
       "        }\n",
       "    ],\n",
       "    \"height\": 400,\n",
       "    \"margin\": {\n",
       "        \"l\": 0,\n",
       "        \"b\": 20,\n",
       "        \"r\": 0,\n",
       "        \"t\": 20\n",
       "    },\n",
       "    \"plot_bgcolor\": \"rgba(255, 255, 255, 1.000)\",\n",
       "    \"yaxis\": {\n",
       "        \"showticklabels\": true,\n",
       "        \"gridwidth\": 0.5,\n",
       "        \"tickvals\": [\n",
       "            0.0,\n",
       "            1.0,\n",
       "            2.0,\n",
       "            3.0,\n",
       "            4.0\n",
       "        ],\n",
       "        \"visible\": true,\n",
       "        \"ticks\": \"inside\",\n",
       "        \"range\": [\n",
       "            -0.2496,\n",
       "            4.3296\n",
       "        ],\n",
       "        \"domain\": [\n",
       "            0.03762029746281716,\n",
       "            0.9901574803149606\n",
       "        ],\n",
       "        \"tickmode\": \"array\",\n",
       "        \"linecolor\": \"rgba(0, 0, 0, 1.000)\",\n",
       "        \"showgrid\": true,\n",
       "        \"title\": \"\",\n",
       "        \"mirror\": false,\n",
       "        \"tickangle\": 0,\n",
       "        \"showline\": true,\n",
       "        \"gridcolor\": \"rgba(0, 0, 0, 0.100)\",\n",
       "        \"titlefont\": {\n",
       "            \"color\": \"rgba(0, 0, 0, 1.000)\",\n",
       "            \"family\": \"sans-serif\",\n",
       "            \"size\": 15\n",
       "        },\n",
       "        \"tickcolor\": \"rgb(0, 0, 0)\",\n",
       "        \"ticktext\": [\n",
       "            \"0\",\n",
       "            \"1\",\n",
       "            \"2\",\n",
       "            \"3\",\n",
       "            \"4\"\n",
       "        ],\n",
       "        \"zeroline\": false,\n",
       "        \"type\": \"-\",\n",
       "        \"tickfont\": {\n",
       "            \"color\": \"rgba(0, 0, 0, 1.000)\",\n",
       "            \"family\": \"sans-serif\",\n",
       "            \"size\": 11\n",
       "        },\n",
       "        \"zerolinecolor\": \"rgba(0, 0, 0, 1.000)\",\n",
       "        \"anchor\": \"x\"\n",
       "    },\n",
       "    \"width\": 600\n",
       "}\n",
       ");\n",
       "    });\n",
       "    </script>\n",
       "\n",
       "    </body>\n",
       "</html>\n"
      ]
     },
     "execution_count": 1,
     "metadata": {},
     "output_type": "execute_result"
    }
   ],
   "source": [
    "#import Pkg\n",
    "#Pkg.add(\"Plots\")\n",
    "#Pkg.add(\"Plotly\")\n",
    "#Pkg.add(\"PlotlyJS\")\n",
    "\n",
    "using Plots\n",
    "plotly()\n",
    "f(x) = (74-9x)/20\n",
    "g(x) = (105-18x)/25\n",
    "X = [0,6]\n",
    "\n",
    "plot(X, [f,g], fill = (0, 0.5, :auto), leg=false)\n",
    "plot!([0, 1], [0, 5/3], lw=3)\n",
    "\n",
    "annotate!(2, 2, \"P0\", :color, arrow=3)"
   ]
  },
  {
   "cell_type": "markdown",
   "metadata": {},
   "source": [
    "El área café es el área factible $P_0$ de $(M_0)$ y buscamos la mejor solución entera.  Usemos Gurobi para resolver la relajación del problema $(M_0)$. Para esto ejecutemos el siguiente código."
   ]
  },
  {
   "cell_type": "code",
   "execution_count": 8,
   "metadata": {},
   "outputs": [
    {
     "name": "stdout",
     "output_type": "stream",
     "text": [
      "Academic license - for non-commercial use only - expires 2021-05-20\r\n"
     ]
    },
    {
     "name": "stderr",
     "output_type": "stream",
     "text": [
      "WARNING: redefinition of constant GUROBI_ENV. This may fail, cause incorrect answers, or produce other errors.\n"
     ]
    },
    {
     "data": {
      "text/plain": [
       "Gurobi.Env(Ptr{Nothing} @0x00000000436fbf10, false, 0)"
      ]
     },
     "execution_count": 8,
     "metadata": {},
     "output_type": "execute_result"
    }
   ],
   "source": [
    "using JuMP, Gurobi\n",
    "const GUROBI_ENV = Gurobi.Env()"
   ]
  },
  {
   "cell_type": "code",
   "execution_count": 9,
   "metadata": {},
   "outputs": [
    {
     "name": "stdout",
     "output_type": "stream",
     "text": [
      "Academic license - for non-commercial use only - expires 2021-05-20\r\n"
     ]
    },
    {
     "data": {
      "text/latex": [
       "$$ 3 x + 5 y $$"
      ],
      "text/plain": [
       "3 x + 5 y"
      ]
     },
     "execution_count": 9,
     "metadata": {},
     "output_type": "execute_result"
    }
   ],
   "source": [
    "#Creamos el objeto modelo\n",
    "modelo= Model()\n",
    "\n",
    "#Le indicamos a JuMP que el solver a utilizar es Gurobi y eliminamos presolver\n",
    "set_optimizer(modelo, Gurobi.Optimizer)\n",
    "set_optimizer_attributes(modelo, \"outputflag\"=> 0) \n",
    "\n",
    "#declaración de variables de decisión\n",
    "@variable(modelo, x>=0)\n",
    "@variable(modelo, y>=0)\n",
    "\n",
    "#restricciones\n",
    "@constraint(modelo, rest1, 20y + 9x<=74)\n",
    "@constraint(modelo, rest2, 25y+ 18x<=105)\n",
    "\n",
    "#función objetivo\n",
    "@objective(modelo, Max, 3x+5y)"
   ]
  },
  {
   "cell_type": "code",
   "execution_count": 10,
   "metadata": {},
   "outputs": [
    {
     "data": {
      "text/latex": [
       "$$ \\begin{alignat*}{1}\\max\\quad & 3 x + 5 y\\\\\n",
       "\\text{Subject to} \\quad & 9 x + 20 y \\leq 74.0\\\\\n",
       " & 18 x + 25 y \\leq 105.0\\\\\n",
       " & x \\geq 0.0\\\\\n",
       " & y \\geq 0.0\\\\\n",
       "\\end{alignat*}\n",
       " $$"
      ],
      "text/plain": [
       "A JuMP Model\n",
       "Maximization problem with:\n",
       "Variables: 2\n",
       "Objective function type: GenericAffExpr{Float64,VariableRef}\n",
       "`GenericAffExpr{Float64,VariableRef}`-in-`MathOptInterface.LessThan{Float64}`: 2 constraints\n",
       "`VariableRef`-in-`MathOptInterface.GreaterThan{Float64}`: 2 constraints\n",
       "Model mode: AUTOMATIC\n",
       "CachingOptimizer state: EMPTY_OPTIMIZER\n",
       "Solver name: Gurobi\n",
       "Names registered in the model: rest1, rest2, x, y"
      ]
     },
     "execution_count": 10,
     "metadata": {},
     "output_type": "execute_result"
    }
   ],
   "source": [
    "modelo"
   ]
  },
  {
   "cell_type": "code",
   "execution_count": 11,
   "metadata": {},
   "outputs": [
    {
     "data": {
      "text/plain": [
       "OPTIMAL::TerminationStatusCode = 1"
      ]
     },
     "execution_count": 11,
     "metadata": {},
     "output_type": "execute_result"
    }
   ],
   "source": [
    "#resolver (CUIDADO, tenemos outputflag 0)\n",
    "\n",
    "optimize!(modelo)\n",
    "termination_status(modelo)"
   ]
  },
  {
   "cell_type": "code",
   "execution_count": 12,
   "metadata": {},
   "outputs": [
    {
     "name": "stdout",
     "output_type": "stream",
     "text": [
      "z0=19.88888888888889 x0=1.8518518518518516 y0=2.8666666666666667\n"
     ]
    }
   ],
   "source": [
    "#Solucion encontrada: imprimir\n",
    "x0=value(modelo[:x])\n",
    "y0=value(modelo[:y])\n",
    "z0=objective_value(modelo)\n",
    "\n",
    "println(\"z0=\",z0,\" x0=\", x0,\" y0=\", y0)"
   ]
  },
  {
   "cell_type": "markdown",
   "metadata": {},
   "source": [
    " Al resolver la relajación lineal anterior, encontramos que el óptimo del PL asociado es $$p_0=(x_0,y_0)\\approx (1.8518, 2.866), z_0\\approx 19.888.$$"
   ]
  },
  {
   "cell_type": "code",
   "execution_count": 13,
   "metadata": {},
   "outputs": [
    {
     "data": {
      "application/vnd.plotly.v1+json": {
       "data": [
        {
         "colorbar": {
          "title": ""
         },
         "fill": "tozeroy",
         "fillcolor": "rgba(0, 154, 250, 0.500)",
         "legendgroup": "y1",
         "line": {
          "color": "rgba(0, 154, 250, 1.000)",
          "dash": "solid",
          "shape": "linear",
          "width": 1
         },
         "mode": "lines",
         "name": "y1",
         "showlegend": true,
         "type": "scatter",
         "x": [
          0,
          6
         ],
         "xaxis": "x",
         "y": [
          3.7,
          1
         ],
         "yaxis": "y",
         "zmax": null,
         "zmin": null
        },
        {
         "colorbar": {
          "title": ""
         },
         "fill": "tozeroy",
         "fillcolor": "rgba(227, 111, 71, 0.500)",
         "legendgroup": "y2",
         "line": {
          "color": "rgba(227, 111, 71, 1.000)",
          "dash": "solid",
          "shape": "linear",
          "width": 1
         },
         "mode": "lines",
         "name": "y2",
         "showlegend": true,
         "type": "scatter",
         "x": [
          0,
          6
         ],
         "xaxis": "x",
         "y": [
          4.2,
          -0.12
         ],
         "yaxis": "y",
         "zmax": null,
         "zmin": null
        },
        {
         "colorbar": {
          "title": ""
         },
         "legendgroup": "y3",
         "line": {
          "color": "rgba(62, 164, 78, 1.000)",
          "dash": "solid",
          "shape": "linear",
          "width": 3
         },
         "mode": "lines",
         "name": "y3",
         "showlegend": true,
         "type": "scatter",
         "x": [
          0,
          1
         ],
         "xaxis": "x",
         "y": [
          0,
          1.6666666666666667
         ],
         "yaxis": "y",
         "zmax": null,
         "zmin": null
        },
        {
         "colorbar": {
          "title": ""
         },
         "legendgroup": "y4",
         "marker": {
          "color": "rgba(195, 113, 210, 1.000)",
          "line": {
           "color": "rgba(0, 0, 0, 1.000)",
           "width": 1
          },
          "size": 8,
          "symbol": "circle"
         },
         "mode": "markers",
         "name": "y4",
         "showlegend": true,
         "type": "scatter",
         "x": [
          1.8518518518518516
         ],
         "xaxis": "x",
         "y": [
          2.8666666666666667
         ],
         "yaxis": "y",
         "zmax": null,
         "zmin": null
        },
        {
         "colorbar": {
          "title": ""
         },
         "legendgroup": "y5",
         "marker": {
          "color": "rgba(172, 142, 24, 1.000)",
          "line": {
           "color": "rgba(0, 0, 0, 1.000)",
           "width": 1
          },
          "size": 8,
          "symbol": "circle"
         },
         "mode": "markers",
         "name": "y5",
         "showlegend": true,
         "type": "scatter",
         "x": [
          1.8518518518518516
         ],
         "xaxis": "x",
         "y": [
          2.8666666666666667
         ],
         "yaxis": "y",
         "zmax": null,
         "zmin": null
        }
       ],
       "layout": {
        "annotations": [
         {
          "font": {
           "color": "rgba(0, 0, 0, 1.000)",
           "family": "color",
           "size": 20
          },
          "rotation": 0,
          "showarrow": false,
          "text": "P0",
          "x": 2,
          "xanchor": "center",
          "xref": "x",
          "y": 2,
          "yanchor": "middle",
          "yref": "y"
         }
        ],
        "height": 400,
        "margin": {
         "b": 20,
         "l": 0,
         "r": 0,
         "t": 20
        },
        "paper_bgcolor": "rgba(255, 255, 255, 1.000)",
        "plot_bgcolor": "rgba(255, 255, 255, 1.000)",
        "showlegend": false,
        "width": 600,
        "xaxis": {
         "anchor": "y",
         "domain": [
          0.02137649460484106,
          0.9934383202099737
         ],
         "gridcolor": "rgba(0, 0, 0, 0.100)",
         "gridwidth": 0.5,
         "linecolor": "rgba(0, 0, 0, 1.000)",
         "mirror": false,
         "range": [
          -0.18,
          6.18
         ],
         "showgrid": true,
         "showline": true,
         "showticklabels": true,
         "tickangle": 0,
         "tickcolor": "rgb(0, 0, 0)",
         "tickfont": {
          "color": "rgba(0, 0, 0, 1.000)",
          "family": "sans-serif",
          "size": 11
         },
         "tickmode": "array",
         "ticks": "inside",
         "ticktext": [
          "0",
          "1",
          "2",
          "3",
          "4",
          "5",
          "6"
         ],
         "tickvals": [
          0,
          1,
          2,
          3,
          4,
          5,
          6
         ],
         "title": "",
         "titlefont": {
          "color": "rgba(0, 0, 0, 1.000)",
          "family": "sans-serif",
          "size": 15
         },
         "type": "-",
         "visible": true,
         "zeroline": false,
         "zerolinecolor": "rgba(0, 0, 0, 1.000)"
        },
        "yaxis": {
         "anchor": "x",
         "domain": [
          0.03762029746281716,
          0.9901574803149606
         ],
         "gridcolor": "rgba(0, 0, 0, 0.100)",
         "gridwidth": 0.5,
         "linecolor": "rgba(0, 0, 0, 1.000)",
         "mirror": false,
         "range": [
          -0.2496,
          4.3296
         ],
         "showgrid": true,
         "showline": true,
         "showticklabels": true,
         "tickangle": 0,
         "tickcolor": "rgb(0, 0, 0)",
         "tickfont": {
          "color": "rgba(0, 0, 0, 1.000)",
          "family": "sans-serif",
          "size": 11
         },
         "tickmode": "array",
         "ticks": "inside",
         "ticktext": [
          "0",
          "1",
          "2",
          "3",
          "4"
         ],
         "tickvals": [
          0,
          1,
          2,
          3,
          4
         ],
         "title": "",
         "titlefont": {
          "color": "rgba(0, 0, 0, 1.000)",
          "family": "sans-serif",
          "size": 15
         },
         "type": "-",
         "visible": true,
         "zeroline": false,
         "zerolinecolor": "rgba(0, 0, 0, 1.000)"
        }
       }
      },
      "text/html": [
       "<!DOCTYPE html>\n",
       "<html>\n",
       "    <head>\n",
       "        <title>Plots.jl</title>\n",
       "        <meta http-equiv=\"content-type\" content=\"text/html; charset=UTF-8\">\n",
       "        \n",
       "    </head>\n",
       "    <body>\n",
       "            <div id=\"1b602fd9-6422-4e03-81f3-3d6a2d183939\" style=\"width:600px;height:400px;\"></div>\n",
       "    <script>\n",
       "        requirejs.config({\n",
       "        paths: {\n",
       "            Plotly: 'https://cdn.plot.ly/plotly-1.57.1.min'\n",
       "        }\n",
       "    });\n",
       "    require(['Plotly'], function (Plotly) {\n",
       "\n",
       "    PLOT = document.getElementById('1b602fd9-6422-4e03-81f3-3d6a2d183939');\n",
       "    Plotly.plot(PLOT, [\n",
       "    {\n",
       "        \"xaxis\": \"x\",\n",
       "        \"colorbar\": {\n",
       "            \"title\": \"\"\n",
       "        },\n",
       "        \"fill\": \"tozeroy\",\n",
       "        \"yaxis\": \"y\",\n",
       "        \"x\": [\n",
       "            0.0,\n",
       "            6.0\n",
       "        ],\n",
       "        \"showlegend\": true,\n",
       "        \"mode\": \"lines\",\n",
       "        \"fillcolor\": \"rgba(0, 154, 250, 0.500)\",\n",
       "        \"name\": \"y1\",\n",
       "        \"zmin\": null,\n",
       "        \"legendgroup\": \"y1\",\n",
       "        \"zmax\": null,\n",
       "        \"line\": {\n",
       "            \"color\": \"rgba(0, 154, 250, 1.000)\",\n",
       "            \"shape\": \"linear\",\n",
       "            \"dash\": \"solid\",\n",
       "            \"width\": 1\n",
       "        },\n",
       "        \"y\": [\n",
       "            3.7,\n",
       "            1.0\n",
       "        ],\n",
       "        \"type\": \"scatter\"\n",
       "    },\n",
       "    {\n",
       "        \"xaxis\": \"x\",\n",
       "        \"colorbar\": {\n",
       "            \"title\": \"\"\n",
       "        },\n",
       "        \"fill\": \"tozeroy\",\n",
       "        \"yaxis\": \"y\",\n",
       "        \"x\": [\n",
       "            0.0,\n",
       "            6.0\n",
       "        ],\n",
       "        \"showlegend\": true,\n",
       "        \"mode\": \"lines\",\n",
       "        \"fillcolor\": \"rgba(227, 111, 71, 0.500)\",\n",
       "        \"name\": \"y2\",\n",
       "        \"zmin\": null,\n",
       "        \"legendgroup\": \"y2\",\n",
       "        \"zmax\": null,\n",
       "        \"line\": {\n",
       "            \"color\": \"rgba(227, 111, 71, 1.000)\",\n",
       "            \"shape\": \"linear\",\n",
       "            \"dash\": \"solid\",\n",
       "            \"width\": 1\n",
       "        },\n",
       "        \"y\": [\n",
       "            4.2,\n",
       "            -0.12\n",
       "        ],\n",
       "        \"type\": \"scatter\"\n",
       "    },\n",
       "    {\n",
       "        \"xaxis\": \"x\",\n",
       "        \"colorbar\": {\n",
       "            \"title\": \"\"\n",
       "        },\n",
       "        \"yaxis\": \"y\",\n",
       "        \"x\": [\n",
       "            0.0,\n",
       "            1.0\n",
       "        ],\n",
       "        \"showlegend\": true,\n",
       "        \"mode\": \"lines\",\n",
       "        \"name\": \"y3\",\n",
       "        \"zmin\": null,\n",
       "        \"legendgroup\": \"y3\",\n",
       "        \"zmax\": null,\n",
       "        \"line\": {\n",
       "            \"color\": \"rgba(62, 164, 78, 1.000)\",\n",
       "            \"shape\": \"linear\",\n",
       "            \"dash\": \"solid\",\n",
       "            \"width\": 3\n",
       "        },\n",
       "        \"y\": [\n",
       "            0.0,\n",
       "            1.6666666666666667\n",
       "        ],\n",
       "        \"type\": \"scatter\"\n",
       "    },\n",
       "    {\n",
       "        \"xaxis\": \"x\",\n",
       "        \"colorbar\": {\n",
       "            \"title\": \"\"\n",
       "        },\n",
       "        \"yaxis\": \"y\",\n",
       "        \"x\": [\n",
       "            1.8518518518518516\n",
       "        ],\n",
       "        \"showlegend\": true,\n",
       "        \"mode\": \"markers\",\n",
       "        \"name\": \"y4\",\n",
       "        \"zmin\": null,\n",
       "        \"legendgroup\": \"y4\",\n",
       "        \"marker\": {\n",
       "            \"symbol\": \"circle\",\n",
       "            \"color\": \"rgba(195, 113, 210, 1.000)\",\n",
       "            \"line\": {\n",
       "                \"color\": \"rgba(0, 0, 0, 1.000)\",\n",
       "                \"width\": 1\n",
       "            },\n",
       "            \"size\": 8\n",
       "        },\n",
       "        \"zmax\": null,\n",
       "        \"y\": [\n",
       "            2.8666666666666667\n",
       "        ],\n",
       "        \"type\": \"scatter\"\n",
       "    },\n",
       "    {\n",
       "        \"xaxis\": \"x\",\n",
       "        \"colorbar\": {\n",
       "            \"title\": \"\"\n",
       "        },\n",
       "        \"yaxis\": \"y\",\n",
       "        \"x\": [\n",
       "            1.8518518518518516\n",
       "        ],\n",
       "        \"showlegend\": true,\n",
       "        \"mode\": \"markers\",\n",
       "        \"name\": \"y5\",\n",
       "        \"zmin\": null,\n",
       "        \"legendgroup\": \"y5\",\n",
       "        \"marker\": {\n",
       "            \"symbol\": \"circle\",\n",
       "            \"color\": \"rgba(172, 142, 24, 1.000)\",\n",
       "            \"line\": {\n",
       "                \"color\": \"rgba(0, 0, 0, 1.000)\",\n",
       "                \"width\": 1\n",
       "            },\n",
       "            \"size\": 8\n",
       "        },\n",
       "        \"zmax\": null,\n",
       "        \"y\": [\n",
       "            2.8666666666666667\n",
       "        ],\n",
       "        \"type\": \"scatter\"\n",
       "    }\n",
       "]\n",
       ", {\n",
       "    \"showlegend\": false,\n",
       "    \"xaxis\": {\n",
       "        \"showticklabels\": true,\n",
       "        \"gridwidth\": 0.5,\n",
       "        \"tickvals\": [\n",
       "            0.0,\n",
       "            1.0,\n",
       "            2.0,\n",
       "            3.0,\n",
       "            4.0,\n",
       "            5.0,\n",
       "            6.0\n",
       "        ],\n",
       "        \"visible\": true,\n",
       "        \"ticks\": \"inside\",\n",
       "        \"range\": [\n",
       "            -0.18,\n",
       "            6.18\n",
       "        ],\n",
       "        \"domain\": [\n",
       "            0.02137649460484106,\n",
       "            0.9934383202099737\n",
       "        ],\n",
       "        \"tickmode\": \"array\",\n",
       "        \"linecolor\": \"rgba(0, 0, 0, 1.000)\",\n",
       "        \"showgrid\": true,\n",
       "        \"title\": \"\",\n",
       "        \"mirror\": false,\n",
       "        \"tickangle\": 0,\n",
       "        \"showline\": true,\n",
       "        \"gridcolor\": \"rgba(0, 0, 0, 0.100)\",\n",
       "        \"titlefont\": {\n",
       "            \"color\": \"rgba(0, 0, 0, 1.000)\",\n",
       "            \"family\": \"sans-serif\",\n",
       "            \"size\": 15\n",
       "        },\n",
       "        \"tickcolor\": \"rgb(0, 0, 0)\",\n",
       "        \"ticktext\": [\n",
       "            \"0\",\n",
       "            \"1\",\n",
       "            \"2\",\n",
       "            \"3\",\n",
       "            \"4\",\n",
       "            \"5\",\n",
       "            \"6\"\n",
       "        ],\n",
       "        \"zeroline\": false,\n",
       "        \"type\": \"-\",\n",
       "        \"tickfont\": {\n",
       "            \"color\": \"rgba(0, 0, 0, 1.000)\",\n",
       "            \"family\": \"sans-serif\",\n",
       "            \"size\": 11\n",
       "        },\n",
       "        \"zerolinecolor\": \"rgba(0, 0, 0, 1.000)\",\n",
       "        \"anchor\": \"y\"\n",
       "    },\n",
       "    \"paper_bgcolor\": \"rgba(255, 255, 255, 1.000)\",\n",
       "    \"annotations\": [\n",
       "        {\n",
       "            \"yanchor\": \"middle\",\n",
       "            \"xanchor\": \"center\",\n",
       "            \"rotation\": -0.0,\n",
       "            \"y\": 2,\n",
       "            \"font\": {\n",
       "                \"color\": \"rgba(0, 0, 0, 1.000)\",\n",
       "                \"family\": \"color\",\n",
       "                \"size\": 20\n",
       "            },\n",
       "            \"yref\": \"y\",\n",
       "            \"showarrow\": false,\n",
       "            \"text\": \"P0\",\n",
       "            \"xref\": \"x\",\n",
       "            \"x\": 2\n",
       "        }\n",
       "    ],\n",
       "    \"height\": 400,\n",
       "    \"margin\": {\n",
       "        \"l\": 0,\n",
       "        \"b\": 20,\n",
       "        \"r\": 0,\n",
       "        \"t\": 20\n",
       "    },\n",
       "    \"plot_bgcolor\": \"rgba(255, 255, 255, 1.000)\",\n",
       "    \"yaxis\": {\n",
       "        \"showticklabels\": true,\n",
       "        \"gridwidth\": 0.5,\n",
       "        \"tickvals\": [\n",
       "            0.0,\n",
       "            1.0,\n",
       "            2.0,\n",
       "            3.0,\n",
       "            4.0\n",
       "        ],\n",
       "        \"visible\": true,\n",
       "        \"ticks\": \"inside\",\n",
       "        \"range\": [\n",
       "            -0.2496,\n",
       "            4.3296\n",
       "        ],\n",
       "        \"domain\": [\n",
       "            0.03762029746281716,\n",
       "            0.9901574803149606\n",
       "        ],\n",
       "        \"tickmode\": \"array\",\n",
       "        \"linecolor\": \"rgba(0, 0, 0, 1.000)\",\n",
       "        \"showgrid\": true,\n",
       "        \"title\": \"\",\n",
       "        \"mirror\": false,\n",
       "        \"tickangle\": 0,\n",
       "        \"showline\": true,\n",
       "        \"gridcolor\": \"rgba(0, 0, 0, 0.100)\",\n",
       "        \"titlefont\": {\n",
       "            \"color\": \"rgba(0, 0, 0, 1.000)\",\n",
       "            \"family\": \"sans-serif\",\n",
       "            \"size\": 15\n",
       "        },\n",
       "        \"tickcolor\": \"rgb(0, 0, 0)\",\n",
       "        \"ticktext\": [\n",
       "            \"0\",\n",
       "            \"1\",\n",
       "            \"2\",\n",
       "            \"3\",\n",
       "            \"4\"\n",
       "        ],\n",
       "        \"zeroline\": false,\n",
       "        \"type\": \"-\",\n",
       "        \"tickfont\": {\n",
       "            \"color\": \"rgba(0, 0, 0, 1.000)\",\n",
       "            \"family\": \"sans-serif\",\n",
       "            \"size\": 11\n",
       "        },\n",
       "        \"zerolinecolor\": \"rgba(0, 0, 0, 1.000)\",\n",
       "        \"anchor\": \"x\"\n",
       "    },\n",
       "    \"width\": 600\n",
       "}\n",
       ");\n",
       "    });\n",
       "    </script>\n",
       "\n",
       "    </body>\n",
       "</html>\n"
      ]
     },
     "execution_count": 13,
     "metadata": {},
     "output_type": "execute_result"
    }
   ],
   "source": [
    "#Agregar el punto encontrado al grafico\n",
    "scatter!([x0],[y0])"
   ]
  },
  {
   "cell_type": "markdown",
   "metadata": {},
   "source": [
    "> Como el punto no es entero, en el árbol BnB creamos el nodo activo $(M_0, 19.888, \\text{activo})$ como raíz.\n",
    ">\n",
    "> El siguiente paso es ramificar este nodo.\n",
    "\n",
    "Como ambas coordenadas de $(x_0,y_0)$ son fraccionales podemos elegir una, digamos $x$ y **ramificar** de acuerdo a dicha variable, creando dos problemas $M_1$ y $M_2$, con conjuntos factibles \n",
    "$$S_1=S_0\\cap \\{x\\leq \\lfloor x_0\\rfloor\\}$$\n",
    "\n",
    "y\n",
    "\n",
    "$$S_1=S_0\\cap \\{x\\geq \\lceil x_0\\rceil\\}.$$ \n",
    "    \n"
   ]
  },
  {
   "cell_type": "markdown",
   "metadata": {},
   "source": [
    " \\begin{align*}\n",
    " M_1&:\\quad \t\\max 3x+5y & M_2&:\\quad \t\\max 3x+5y\\\\ \n",
    " S_1&:\\quad \\begin{cases}\n",
    " 20y+9x&\\leq 74\\\\\n",
    " 25y+18x&\\leq 105\\\\\n",
    " x&\\leq 1\\\\\n",
    " x,y&\\geq 0\\\\\n",
    " x,y&\\in \\mathbb{Z}\\end{cases}&S_2&:\\quad \\begin{cases}\n",
    " 20y+9x&\\leq 74\\\\\n",
    " 25y+18x&\\leq 105\\\\\n",
    " x&\\geq 2\\\\\n",
    " x,y&\\geq 0\\\\\n",
    " x,y&\\in \\mathbb{Z}\\end{cases}\n",
    " \\end{align*}"
   ]
  },
  {
   "cell_type": "markdown",
   "metadata": {},
   "source": [
    "Creemos entonces los nodos asociados a $(M_1)$ y $(M_2)$, resolviendo sus programas lineales y viendo en que caso nos encontramos"
   ]
  },
  {
   "cell_type": "code",
   "execution_count": 14,
   "metadata": {},
   "outputs": [
    {
     "data": {
      "text/latex": [
       "$$ \\begin{alignat*}{1}\\max\\quad & 3 x + 5 y\\\\\n",
       "\\text{Subject to} \\quad & 9 x + 20 y \\leq 74.0\\\\\n",
       " & 18 x + 25 y \\leq 105.0\\\\\n",
       " & x \\geq 0.0\\\\\n",
       " & y \\geq 0.0\\\\\n",
       "\\end{alignat*}\n",
       " $$"
      ],
      "text/plain": [
       "A JuMP Model\n",
       "Maximization problem with:\n",
       "Variables: 2\n",
       "Objective function type: GenericAffExpr{Float64,VariableRef}\n",
       "`GenericAffExpr{Float64,VariableRef}`-in-`MathOptInterface.LessThan{Float64}`: 2 constraints\n",
       "`VariableRef`-in-`MathOptInterface.GreaterThan{Float64}`: 2 constraints\n",
       "Model mode: AUTOMATIC\n",
       "CachingOptimizer state: ATTACHED_OPTIMIZER\n",
       "Solver name: Gurobi\n",
       "Names registered in the model: rest1, rest2, x, y"
      ]
     },
     "execution_count": 14,
     "metadata": {},
     "output_type": "execute_result"
    }
   ],
   "source": [
    "modelo"
   ]
  },
  {
   "cell_type": "code",
   "execution_count": 15,
   "metadata": {},
   "outputs": [
    {
     "data": {
      "text/latex": [
       "$$ \\begin{alignat*}{1}\\max\\quad & 3 x + 5 y\\\\\n",
       "\\text{Subject to} \\quad & 9 x + 20 y \\leq 74.0\\\\\n",
       " & 18 x + 25 y \\leq 105.0\\\\\n",
       " & x \\geq 0.0\\\\\n",
       " & y \\geq 0.0\\\\\n",
       " & x \\leq 1.0\\\\\n",
       "\\end{alignat*}\n",
       " $$"
      ],
      "text/plain": [
       "A JuMP Model\n",
       "Maximization problem with:\n",
       "Variables: 2\n",
       "Objective function type: GenericAffExpr{Float64,VariableRef}\n",
       "`GenericAffExpr{Float64,VariableRef}`-in-`MathOptInterface.LessThan{Float64}`: 2 constraints\n",
       "`VariableRef`-in-`MathOptInterface.GreaterThan{Float64}`: 2 constraints\n",
       "`VariableRef`-in-`MathOptInterface.LessThan{Float64}`: 1 constraint\n",
       "Model mode: AUTOMATIC\n",
       "CachingOptimizer state: ATTACHED_OPTIMIZER\n",
       "Solver name: Gurobi\n",
       "Names registered in the model: rest1, rest2, x, y"
      ]
     },
     "execution_count": 15,
     "metadata": {},
     "output_type": "execute_result"
    }
   ],
   "source": [
    "#Primero resolvemos M1. M1 es igual a M0 solo que agregamos la cota x<=1\n",
    "set_upper_bound(modelo[:x], 1) \n",
    "\n",
    "#mirar modelo\n",
    "modelo"
   ]
  },
  {
   "cell_type": "code",
   "execution_count": 16,
   "metadata": {},
   "outputs": [
    {
     "data": {
      "text/plain": [
       "OPTIMAL::TerminationStatusCode = 1"
      ]
     },
     "execution_count": 16,
     "metadata": {},
     "output_type": "execute_result"
    }
   ],
   "source": [
    "#resolver\n",
    "optimize!(modelo)\n",
    "termination_status(modelo)"
   ]
  },
  {
   "cell_type": "code",
   "execution_count": 17,
   "metadata": {},
   "outputs": [
    {
     "name": "stdout",
     "output_type": "stream",
     "text": [
      "z1=19.25 x1=1.0 y1=3.25\n"
     ]
    }
   ],
   "source": [
    "x1=value(modelo[:x])\n",
    "y1=value(modelo[:y])\n",
    "z1=objective_value(modelo)\n",
    "\n",
    "println(\"z1=\",z1,\" x1=\", x1,\" y1=\", y1)"
   ]
  },
  {
   "cell_type": "code",
   "execution_count": 18,
   "metadata": {},
   "outputs": [
    {
     "data": {
      "text/latex": [
       "$$ \\begin{alignat*}{1}\\max\\quad & 3 x + 5 y\\\\\n",
       "\\text{Subject to} \\quad & 9 x + 20 y \\leq 74.0\\\\\n",
       " & 18 x + 25 y \\leq 105.0\\\\\n",
       " & x \\geq 2.0\\\\\n",
       " & y \\geq 0.0\\\\\n",
       "\\end{alignat*}\n",
       " $$"
      ],
      "text/plain": [
       "A JuMP Model\n",
       "Maximization problem with:\n",
       "Variables: 2\n",
       "Objective function type: GenericAffExpr{Float64,VariableRef}\n",
       "`GenericAffExpr{Float64,VariableRef}`-in-`MathOptInterface.LessThan{Float64}`: 2 constraints\n",
       "`VariableRef`-in-`MathOptInterface.GreaterThan{Float64}`: 2 constraints\n",
       "Model mode: AUTOMATIC\n",
       "CachingOptimizer state: ATTACHED_OPTIMIZER\n",
       "Solver name: Gurobi\n",
       "Names registered in the model: rest1, rest2, x, y"
      ]
     },
     "execution_count": 18,
     "metadata": {},
     "output_type": "execute_result"
    }
   ],
   "source": [
    "#Ahora resolvamos el modelo 2. Debemos cambiar 0<=x<=1 por x>=2\n",
    "delete_upper_bound(modelo[:x]) \n",
    "set_lower_bound(modelo[:x], 2)\n",
    "\n",
    "#mirar modelo\n",
    "modelo\n",
    "\n",
    "\n"
   ]
  },
  {
   "cell_type": "code",
   "execution_count": 16,
   "metadata": {},
   "outputs": [
    {
     "data": {
      "text/plain": [
       "OPTIMAL::TerminationStatusCode = 1"
      ]
     },
     "execution_count": 16,
     "metadata": {},
     "output_type": "execute_result"
    }
   ],
   "source": [
    "#resolver\n",
    "optimize!(modelo)\n",
    "termination_status(modelo)\n"
   ]
  },
  {
   "cell_type": "code",
   "execution_count": 17,
   "metadata": {},
   "outputs": [
    {
     "name": "stdout",
     "output_type": "stream",
     "text": [
      "z2=19.799999999999997 x2=2.0 y2=2.76\n"
     ]
    }
   ],
   "source": [
    "x2=value(modelo[:x])\n",
    "y2=value(modelo[:y])\n",
    "z2=objective_value(modelo)\n",
    "\n",
    "println(\"z2=\",z2,\" x2=\", x2,\" y2=\", y2)"
   ]
  },
  {
   "cell_type": "markdown",
   "metadata": {},
   "source": [
    "  La solución óptima de la relajación de  $M_1$ es $(x_1,y_1)=(1;3.25)$ de valor $z_1=19.25$, y la solución óptima de la relajación de $M_2$ es $(x_2,y_2)=(2;2.76)$ de valor $z_2=19.8$. Luego ambos nodos se crean activos.\n",
    "  \n",
    "> Terminamos la ramificación:\n",
    "> Se agregan al árbol BnB los nodos $(M_1,19.25,\\text{activo})$ y $(M_2,19.8, \\text{activo})$\n",
    "> Propagamos las cotas. La cota superior de $M_0$ se actualiza de 19.888 a $\\max\\{19.25,19.8\\}=19.8$."
   ]
  },
  {
   "cell_type": "code",
   "execution_count": 18,
   "metadata": {},
   "outputs": [
    {
     "data": {
      "application/vnd.plotly.v1+json": {
       "data": [
        {
         "colorbar": {
          "title": ""
         },
         "fill": "tozeroy",
         "fillcolor": "rgba(0, 154, 250, 0.500)",
         "legendgroup": "y1",
         "line": {
          "color": "rgba(0, 154, 250, 1.000)",
          "dash": "solid",
          "shape": "linear",
          "width": 1
         },
         "mode": "lines",
         "name": "y1",
         "showlegend": true,
         "type": "scatter",
         "x": [
          0,
          6
         ],
         "xaxis": "x",
         "y": [
          3.7,
          1
         ],
         "yaxis": "y",
         "zmax": null,
         "zmin": null
        },
        {
         "colorbar": {
          "title": ""
         },
         "fill": "tozeroy",
         "fillcolor": "rgba(227, 111, 71, 0.500)",
         "legendgroup": "y2",
         "line": {
          "color": "rgba(227, 111, 71, 1.000)",
          "dash": "solid",
          "shape": "linear",
          "width": 1
         },
         "mode": "lines",
         "name": "y2",
         "showlegend": true,
         "type": "scatter",
         "x": [
          0,
          6
         ],
         "xaxis": "x",
         "y": [
          4.2,
          -0.12
         ],
         "yaxis": "y",
         "zmax": null,
         "zmin": null
        },
        {
         "colorbar": {
          "title": ""
         },
         "fill": "tozeroy",
         "fillcolor": "rgba(62, 164, 78, 0.500)",
         "legendgroup": "y3",
         "line": {
          "color": "rgba(62, 164, 78, 1.000)",
          "dash": "solid",
          "shape": "linear",
          "width": 1
         },
         "mode": "lines",
         "name": "y3",
         "showlegend": true,
         "type": "scatter",
         "x": [
          0,
          0,
          1,
          1
         ],
         "xaxis": "x",
         "y": [
          0,
          4,
          4,
          0
         ],
         "yaxis": "y",
         "zmax": null,
         "zmin": null
        },
        {
         "colorbar": {
          "title": ""
         },
         "fill": "tozeroy",
         "fillcolor": "rgba(195, 113, 210, 0.500)",
         "legendgroup": "y4",
         "line": {
          "color": "rgba(195, 113, 210, 1.000)",
          "dash": "solid",
          "shape": "linear",
          "width": 1
         },
         "mode": "lines",
         "name": "y4",
         "showlegend": true,
         "type": "scatter",
         "x": [
          2,
          2,
          6,
          6
         ],
         "xaxis": "x",
         "y": [
          0,
          4,
          4,
          0
         ],
         "yaxis": "y",
         "zmax": null,
         "zmin": null
        },
        {
         "colorbar": {
          "title": ""
         },
         "legendgroup": "y5",
         "marker": {
          "color": "rgba(172, 142, 24, 1.000)",
          "line": {
           "color": "rgba(0, 0, 0, 1.000)",
           "width": 1
          },
          "size": 8,
          "symbol": "circle"
         },
         "mode": "markers",
         "name": "y5",
         "showlegend": true,
         "type": "scatter",
         "x": [
          1.8518518518518516,
          1,
          2
         ],
         "xaxis": "x",
         "y": [
          2.8666666666666667,
          3.25,
          2.76
         ],
         "yaxis": "y",
         "zmax": null,
         "zmin": null
        }
       ],
       "layout": {
        "annotations": [
         {
          "font": {
           "color": "rgba(0, 0, 0, 1.000)",
           "family": "color",
           "size": 20
          },
          "rotation": 0,
          "showarrow": false,
          "text": "P1",
          "x": 0.5,
          "xanchor": "center",
          "xref": "x",
          "y": 2,
          "yanchor": "middle",
          "yref": "y"
         },
         {
          "font": {
           "color": "rgba(0, 0, 0, 1.000)",
           "family": "color",
           "size": 20
          },
          "rotation": 0,
          "showarrow": false,
          "text": "P2",
          "x": 3,
          "xanchor": "center",
          "xref": "x",
          "y": 1,
          "yanchor": "middle",
          "yref": "y"
         }
        ],
        "height": 400,
        "margin": {
         "b": 20,
         "l": 0,
         "r": 0,
         "t": 20
        },
        "paper_bgcolor": "rgba(255, 255, 255, 1.000)",
        "plot_bgcolor": "rgba(255, 255, 255, 1.000)",
        "showlegend": false,
        "width": 600,
        "xaxis": {
         "anchor": "y",
         "domain": [
          0.02137649460484106,
          0.9934383202099737
         ],
         "gridcolor": "rgba(0, 0, 0, 0.100)",
         "gridwidth": 0.5,
         "linecolor": "rgba(0, 0, 0, 1.000)",
         "mirror": false,
         "range": [
          -0.18,
          6.18
         ],
         "showgrid": true,
         "showline": true,
         "showticklabels": true,
         "tickangle": 0,
         "tickcolor": "rgb(0, 0, 0)",
         "tickfont": {
          "color": "rgba(0, 0, 0, 1.000)",
          "family": "sans-serif",
          "size": 11
         },
         "tickmode": "array",
         "ticks": "inside",
         "ticktext": [
          "0",
          "1",
          "2",
          "3",
          "4",
          "5",
          "6"
         ],
         "tickvals": [
          0,
          1,
          2,
          3,
          4,
          5,
          6
         ],
         "title": "",
         "titlefont": {
          "color": "rgba(0, 0, 0, 1.000)",
          "family": "sans-serif",
          "size": 15
         },
         "type": "-",
         "visible": true,
         "zeroline": false,
         "zerolinecolor": "rgba(0, 0, 0, 1.000)"
        },
        "yaxis": {
         "anchor": "x",
         "domain": [
          0.03762029746281716,
          0.9901574803149606
         ],
         "gridcolor": "rgba(0, 0, 0, 0.100)",
         "gridwidth": 0.5,
         "linecolor": "rgba(0, 0, 0, 1.000)",
         "mirror": false,
         "range": [
          -0.2496,
          4.3296
         ],
         "showgrid": true,
         "showline": true,
         "showticklabels": true,
         "tickangle": 0,
         "tickcolor": "rgb(0, 0, 0)",
         "tickfont": {
          "color": "rgba(0, 0, 0, 1.000)",
          "family": "sans-serif",
          "size": 11
         },
         "tickmode": "array",
         "ticks": "inside",
         "ticktext": [
          "0",
          "1",
          "2",
          "3",
          "4"
         ],
         "tickvals": [
          0,
          1,
          2,
          3,
          4
         ],
         "title": "",
         "titlefont": {
          "color": "rgba(0, 0, 0, 1.000)",
          "family": "sans-serif",
          "size": 15
         },
         "type": "-",
         "visible": true,
         "zeroline": false,
         "zerolinecolor": "rgba(0, 0, 0, 1.000)"
        }
       }
      },
      "text/html": [
       "<!DOCTYPE html>\n",
       "<html>\n",
       "    <head>\n",
       "        <title>Plots.jl</title>\n",
       "        <meta http-equiv=\"content-type\" content=\"text/html; charset=UTF-8\">\n",
       "        \n",
       "    </head>\n",
       "    <body>\n",
       "            <div id=\"7c9001e3-f8b4-40e4-8797-02b1a1c5dc8a\" style=\"width:600px;height:400px;\"></div>\n",
       "    <script>\n",
       "        requirejs.config({\n",
       "        paths: {\n",
       "            Plotly: 'https://cdn.plot.ly/plotly-1.57.1.min'\n",
       "        }\n",
       "    });\n",
       "    require(['Plotly'], function (Plotly) {\n",
       "\n",
       "    PLOT = document.getElementById('7c9001e3-f8b4-40e4-8797-02b1a1c5dc8a');\n",
       "    Plotly.plot(PLOT, [\n",
       "    {\n",
       "        \"xaxis\": \"x\",\n",
       "        \"colorbar\": {\n",
       "            \"title\": \"\"\n",
       "        },\n",
       "        \"fill\": \"tozeroy\",\n",
       "        \"yaxis\": \"y\",\n",
       "        \"x\": [\n",
       "            0.0,\n",
       "            6.0\n",
       "        ],\n",
       "        \"showlegend\": true,\n",
       "        \"mode\": \"lines\",\n",
       "        \"fillcolor\": \"rgba(0, 154, 250, 0.500)\",\n",
       "        \"name\": \"y1\",\n",
       "        \"zmin\": null,\n",
       "        \"legendgroup\": \"y1\",\n",
       "        \"zmax\": null,\n",
       "        \"line\": {\n",
       "            \"color\": \"rgba(0, 154, 250, 1.000)\",\n",
       "            \"shape\": \"linear\",\n",
       "            \"dash\": \"solid\",\n",
       "            \"width\": 1\n",
       "        },\n",
       "        \"y\": [\n",
       "            3.7,\n",
       "            1.0\n",
       "        ],\n",
       "        \"type\": \"scatter\"\n",
       "    },\n",
       "    {\n",
       "        \"xaxis\": \"x\",\n",
       "        \"colorbar\": {\n",
       "            \"title\": \"\"\n",
       "        },\n",
       "        \"fill\": \"tozeroy\",\n",
       "        \"yaxis\": \"y\",\n",
       "        \"x\": [\n",
       "            0.0,\n",
       "            6.0\n",
       "        ],\n",
       "        \"showlegend\": true,\n",
       "        \"mode\": \"lines\",\n",
       "        \"fillcolor\": \"rgba(227, 111, 71, 0.500)\",\n",
       "        \"name\": \"y2\",\n",
       "        \"zmin\": null,\n",
       "        \"legendgroup\": \"y2\",\n",
       "        \"zmax\": null,\n",
       "        \"line\": {\n",
       "            \"color\": \"rgba(227, 111, 71, 1.000)\",\n",
       "            \"shape\": \"linear\",\n",
       "            \"dash\": \"solid\",\n",
       "            \"width\": 1\n",
       "        },\n",
       "        \"y\": [\n",
       "            4.2,\n",
       "            -0.12\n",
       "        ],\n",
       "        \"type\": \"scatter\"\n",
       "    },\n",
       "    {\n",
       "        \"xaxis\": \"x\",\n",
       "        \"colorbar\": {\n",
       "            \"title\": \"\"\n",
       "        },\n",
       "        \"fill\": \"tozeroy\",\n",
       "        \"yaxis\": \"y\",\n",
       "        \"x\": [\n",
       "            0.0,\n",
       "            0.0,\n",
       "            1.0,\n",
       "            1.0\n",
       "        ],\n",
       "        \"showlegend\": true,\n",
       "        \"mode\": \"lines\",\n",
       "        \"fillcolor\": \"rgba(62, 164, 78, 0.500)\",\n",
       "        \"name\": \"y3\",\n",
       "        \"zmin\": null,\n",
       "        \"legendgroup\": \"y3\",\n",
       "        \"zmax\": null,\n",
       "        \"line\": {\n",
       "            \"color\": \"rgba(62, 164, 78, 1.000)\",\n",
       "            \"shape\": \"linear\",\n",
       "            \"dash\": \"solid\",\n",
       "            \"width\": 1\n",
       "        },\n",
       "        \"y\": [\n",
       "            0.0,\n",
       "            4.0,\n",
       "            4.0,\n",
       "            0.0\n",
       "        ],\n",
       "        \"type\": \"scatter\"\n",
       "    },\n",
       "    {\n",
       "        \"xaxis\": \"x\",\n",
       "        \"colorbar\": {\n",
       "            \"title\": \"\"\n",
       "        },\n",
       "        \"fill\": \"tozeroy\",\n",
       "        \"yaxis\": \"y\",\n",
       "        \"x\": [\n",
       "            2.0,\n",
       "            2.0,\n",
       "            6.0,\n",
       "            6.0\n",
       "        ],\n",
       "        \"showlegend\": true,\n",
       "        \"mode\": \"lines\",\n",
       "        \"fillcolor\": \"rgba(195, 113, 210, 0.500)\",\n",
       "        \"name\": \"y4\",\n",
       "        \"zmin\": null,\n",
       "        \"legendgroup\": \"y4\",\n",
       "        \"zmax\": null,\n",
       "        \"line\": {\n",
       "            \"color\": \"rgba(195, 113, 210, 1.000)\",\n",
       "            \"shape\": \"linear\",\n",
       "            \"dash\": \"solid\",\n",
       "            \"width\": 1\n",
       "        },\n",
       "        \"y\": [\n",
       "            0.0,\n",
       "            4.0,\n",
       "            4.0,\n",
       "            0.0\n",
       "        ],\n",
       "        \"type\": \"scatter\"\n",
       "    },\n",
       "    {\n",
       "        \"xaxis\": \"x\",\n",
       "        \"colorbar\": {\n",
       "            \"title\": \"\"\n",
       "        },\n",
       "        \"yaxis\": \"y\",\n",
       "        \"x\": [\n",
       "            1.8518518518518516,\n",
       "            1.0,\n",
       "            2.0\n",
       "        ],\n",
       "        \"showlegend\": true,\n",
       "        \"mode\": \"markers\",\n",
       "        \"name\": \"y5\",\n",
       "        \"zmin\": null,\n",
       "        \"legendgroup\": \"y5\",\n",
       "        \"marker\": {\n",
       "            \"symbol\": \"circle\",\n",
       "            \"color\": \"rgba(172, 142, 24, 1.000)\",\n",
       "            \"line\": {\n",
       "                \"color\": \"rgba(0, 0, 0, 1.000)\",\n",
       "                \"width\": 1\n",
       "            },\n",
       "            \"size\": 8\n",
       "        },\n",
       "        \"zmax\": null,\n",
       "        \"y\": [\n",
       "            2.8666666666666667,\n",
       "            3.25,\n",
       "            2.76\n",
       "        ],\n",
       "        \"type\": \"scatter\"\n",
       "    }\n",
       "]\n",
       ", {\n",
       "    \"showlegend\": false,\n",
       "    \"xaxis\": {\n",
       "        \"showticklabels\": true,\n",
       "        \"gridwidth\": 0.5,\n",
       "        \"tickvals\": [\n",
       "            0.0,\n",
       "            1.0,\n",
       "            2.0,\n",
       "            3.0,\n",
       "            4.0,\n",
       "            5.0,\n",
       "            6.0\n",
       "        ],\n",
       "        \"visible\": true,\n",
       "        \"ticks\": \"inside\",\n",
       "        \"range\": [\n",
       "            -0.18,\n",
       "            6.18\n",
       "        ],\n",
       "        \"domain\": [\n",
       "            0.02137649460484106,\n",
       "            0.9934383202099737\n",
       "        ],\n",
       "        \"tickmode\": \"array\",\n",
       "        \"linecolor\": \"rgba(0, 0, 0, 1.000)\",\n",
       "        \"showgrid\": true,\n",
       "        \"title\": \"\",\n",
       "        \"mirror\": false,\n",
       "        \"tickangle\": 0,\n",
       "        \"showline\": true,\n",
       "        \"gridcolor\": \"rgba(0, 0, 0, 0.100)\",\n",
       "        \"titlefont\": {\n",
       "            \"color\": \"rgba(0, 0, 0, 1.000)\",\n",
       "            \"family\": \"sans-serif\",\n",
       "            \"size\": 15\n",
       "        },\n",
       "        \"tickcolor\": \"rgb(0, 0, 0)\",\n",
       "        \"ticktext\": [\n",
       "            \"0\",\n",
       "            \"1\",\n",
       "            \"2\",\n",
       "            \"3\",\n",
       "            \"4\",\n",
       "            \"5\",\n",
       "            \"6\"\n",
       "        ],\n",
       "        \"zeroline\": false,\n",
       "        \"type\": \"-\",\n",
       "        \"tickfont\": {\n",
       "            \"color\": \"rgba(0, 0, 0, 1.000)\",\n",
       "            \"family\": \"sans-serif\",\n",
       "            \"size\": 11\n",
       "        },\n",
       "        \"zerolinecolor\": \"rgba(0, 0, 0, 1.000)\",\n",
       "        \"anchor\": \"y\"\n",
       "    },\n",
       "    \"paper_bgcolor\": \"rgba(255, 255, 255, 1.000)\",\n",
       "    \"annotations\": [\n",
       "        {\n",
       "            \"yanchor\": \"middle\",\n",
       "            \"xanchor\": \"center\",\n",
       "            \"rotation\": -0.0,\n",
       "            \"y\": 2,\n",
       "            \"font\": {\n",
       "                \"color\": \"rgba(0, 0, 0, 1.000)\",\n",
       "                \"family\": \"color\",\n",
       "                \"size\": 20\n",
       "            },\n",
       "            \"yref\": \"y\",\n",
       "            \"showarrow\": false,\n",
       "            \"text\": \"P1\",\n",
       "            \"xref\": \"x\",\n",
       "            \"x\": 0.5\n",
       "        },\n",
       "        {\n",
       "            \"yanchor\": \"middle\",\n",
       "            \"xanchor\": \"center\",\n",
       "            \"rotation\": -0.0,\n",
       "            \"y\": 1,\n",
       "            \"font\": {\n",
       "                \"color\": \"rgba(0, 0, 0, 1.000)\",\n",
       "                \"family\": \"color\",\n",
       "                \"size\": 20\n",
       "            },\n",
       "            \"yref\": \"y\",\n",
       "            \"showarrow\": false,\n",
       "            \"text\": \"P2\",\n",
       "            \"xref\": \"x\",\n",
       "            \"x\": 3\n",
       "        }\n",
       "    ],\n",
       "    \"height\": 400,\n",
       "    \"margin\": {\n",
       "        \"l\": 0,\n",
       "        \"b\": 20,\n",
       "        \"r\": 0,\n",
       "        \"t\": 20\n",
       "    },\n",
       "    \"plot_bgcolor\": \"rgba(255, 255, 255, 1.000)\",\n",
       "    \"yaxis\": {\n",
       "        \"showticklabels\": true,\n",
       "        \"gridwidth\": 0.5,\n",
       "        \"tickvals\": [\n",
       "            0.0,\n",
       "            1.0,\n",
       "            2.0,\n",
       "            3.0,\n",
       "            4.0\n",
       "        ],\n",
       "        \"visible\": true,\n",
       "        \"ticks\": \"inside\",\n",
       "        \"range\": [\n",
       "            -0.2496,\n",
       "            4.3296\n",
       "        ],\n",
       "        \"domain\": [\n",
       "            0.03762029746281716,\n",
       "            0.9901574803149606\n",
       "        ],\n",
       "        \"tickmode\": \"array\",\n",
       "        \"linecolor\": \"rgba(0, 0, 0, 1.000)\",\n",
       "        \"showgrid\": true,\n",
       "        \"title\": \"\",\n",
       "        \"mirror\": false,\n",
       "        \"tickangle\": 0,\n",
       "        \"showline\": true,\n",
       "        \"gridcolor\": \"rgba(0, 0, 0, 0.100)\",\n",
       "        \"titlefont\": {\n",
       "            \"color\": \"rgba(0, 0, 0, 1.000)\",\n",
       "            \"family\": \"sans-serif\",\n",
       "            \"size\": 15\n",
       "        },\n",
       "        \"tickcolor\": \"rgb(0, 0, 0)\",\n",
       "        \"ticktext\": [\n",
       "            \"0\",\n",
       "            \"1\",\n",
       "            \"2\",\n",
       "            \"3\",\n",
       "            \"4\"\n",
       "        ],\n",
       "        \"zeroline\": false,\n",
       "        \"type\": \"-\",\n",
       "        \"tickfont\": {\n",
       "            \"color\": \"rgba(0, 0, 0, 1.000)\",\n",
       "            \"family\": \"sans-serif\",\n",
       "            \"size\": 11\n",
       "        },\n",
       "        \"zerolinecolor\": \"rgba(0, 0, 0, 1.000)\",\n",
       "        \"anchor\": \"x\"\n",
       "    },\n",
       "    \"width\": 600\n",
       "}\n",
       ");\n",
       "    });\n",
       "    </script>\n",
       "\n",
       "    </body>\n",
       "</html>\n"
      ]
     },
     "execution_count": 18,
     "metadata": {},
     "output_type": "execute_result"
    }
   ],
   "source": [
    "#redibujamos el plot anterior\n",
    "f(x) = (74-9x)/20\n",
    "g(x) = (105-18x)/25\n",
    "X = [0,6]\n",
    "plot(X, [f,g], fill = (0, 0.5, :auto), leg=false)\n",
    "\n",
    "#zona x<1\n",
    "plot!([0, 0, 1, 1], [0, 4, 4, 0], fill=(0, 0.5, :auto))\n",
    "annotate!(0.5, 2, \"P1\", :color)\n",
    "\n",
    "#zona x>2\n",
    "plot!([2, 2, 6, 6], [0, 4, 4, 0], fill=(0, 0.5, :auto))\n",
    "annotate!(3, 1, \"P2\", :color)\n",
    "\n",
    "#puntos encontrados\n",
    "scatter!([x0, x1, x2],[y0,y1,y2])\n"
   ]
  },
  {
   "cell_type": "markdown",
   "metadata": {},
   "source": [
    "El area P1 es la formulación de M1 y el triangulo S2 es la de M2"
   ]
  },
  {
   "cell_type": "markdown",
   "metadata": {},
   "source": [
    " Resulta útil anotar en las aristas del árbol que restricciones hemos agregado en cada problema. Ahora hay 2 nodos activos en el árbol y podemos elegir cualquiera para ramificar. La solución $(x_1,y_1)$ tiene variable $y_1=3.25$ fraccional. Ramifiquemos $M_1$ en dos problemas $M_3$ y $M_4$ de acuerdo a si $y\\leq 3$ o si $y\\geq 4$. Obtenemos:"
   ]
  },
  {
   "cell_type": "code",
   "execution_count": 19,
   "metadata": {},
   "outputs": [
    {
     "data": {
      "text/latex": [
       "$$ \\begin{alignat*}{1}\\max\\quad & 3 x + 5 y\\\\\n",
       "\\text{Subject to} \\quad & 9 x + 20 y \\leq 74.0\\\\\n",
       " & 18 x + 25 y \\leq 105.0\\\\\n",
       " & x \\geq 2.0\\\\\n",
       " & y \\geq 0.0\\\\\n",
       "\\end{alignat*}\n",
       " $$"
      ],
      "text/plain": [
       "A JuMP Model\n",
       "Maximization problem with:\n",
       "Variables: 2\n",
       "Objective function type: GenericAffExpr{Float64,VariableRef}\n",
       "`GenericAffExpr{Float64,VariableRef}`-in-`MathOptInterface.LessThan{Float64}`: 2 constraints\n",
       "`VariableRef`-in-`MathOptInterface.GreaterThan{Float64}`: 2 constraints\n",
       "Model mode: AUTOMATIC\n",
       "CachingOptimizer state: ATTACHED_OPTIMIZER\n",
       "Solver name: Gurobi\n",
       "Names registered in the model: rest1, rest2, x, y"
      ]
     },
     "execution_count": 19,
     "metadata": {},
     "output_type": "execute_result"
    }
   ],
   "source": [
    "modelo"
   ]
  },
  {
   "cell_type": "code",
   "execution_count": 21,
   "metadata": {},
   "outputs": [
    {
     "data": {
      "text/latex": [
       "$$ \\begin{alignat*}{1}\\max\\quad & 3 x + 5 y\\\\\n",
       "\\text{Subject to} \\quad & 9 x + 20 y \\leq 74.0\\\\\n",
       " & 18 x + 25 y \\leq 105.0\\\\\n",
       " & x \\geq 0.0\\\\\n",
       " & y \\geq 0.0\\\\\n",
       " & x \\leq 1.0\\\\\n",
       " & y \\leq 3.0\\\\\n",
       "\\end{alignat*}\n",
       " $$"
      ],
      "text/plain": [
       "A JuMP Model\n",
       "Maximization problem with:\n",
       "Variables: 2\n",
       "Objective function type: GenericAffExpr{Float64,VariableRef}\n",
       "`GenericAffExpr{Float64,VariableRef}`-in-`MathOptInterface.LessThan{Float64}`: 2 constraints\n",
       "`VariableRef`-in-`MathOptInterface.GreaterThan{Float64}`: 2 constraints\n",
       "`VariableRef`-in-`MathOptInterface.LessThan{Float64}`: 2 constraints\n",
       "Model mode: AUTOMATIC\n",
       "CachingOptimizer state: ATTACHED_OPTIMIZER\n",
       "Solver name: Gurobi\n",
       "Names registered in the model: rest1, rest2, x, y"
      ]
     },
     "execution_count": 21,
     "metadata": {},
     "output_type": "execute_result"
    }
   ],
   "source": [
    "#Modelo M3\n",
    "set_lower_bound(modelo[:x],0)\n",
    "set_upper_bound(modelo[:x],1) \n",
    "set_upper_bound(modelo[:y],3) \n",
    "\n",
    "#mirar modelo\n",
    "modelo"
   ]
  },
  {
   "cell_type": "code",
   "execution_count": 22,
   "metadata": {},
   "outputs": [
    {
     "data": {
      "text/plain": [
       "OPTIMAL::TerminationStatusCode = 1"
      ]
     },
     "execution_count": 22,
     "metadata": {},
     "output_type": "execute_result"
    }
   ],
   "source": [
    "#resolver\n",
    "optimize!(modelo)\n",
    "termination_status(modelo)"
   ]
  },
  {
   "cell_type": "code",
   "execution_count": 23,
   "metadata": {},
   "outputs": [
    {
     "name": "stdout",
     "output_type": "stream",
     "text": [
      "z3=18.0 x3=1.0 y3=3.0\n"
     ]
    }
   ],
   "source": [
    "x3=value(modelo[:x])\n",
    "y3=value(modelo[:y])\n",
    "z3=objective_value(modelo)\n",
    "\n",
    "println(\"z3=\",z3,\" x3=\", x3,\" y3=\", y3)"
   ]
  },
  {
   "cell_type": "markdown",
   "metadata": {},
   "source": [
    "¡Ojo! La solución de este PL es entera (luego el nodo asociado a M3 se declarará entero). Además, este es nuestro primer incumbente finito.\n",
    "\n",
    "> Se agrega al árbol BnB el nodo $(M_1, 18, \\text{entero})$. Se actualiza el incumbente al punto $(1.0, 3.0)$ de valor $18$.\n",
    "> Actualmente no hay nodos que hayan sido dominados por 18."
   ]
  },
  {
   "cell_type": "code",
   "execution_count": 24,
   "metadata": {},
   "outputs": [
    {
     "data": {
      "text/latex": [
       "$$ \\begin{alignat*}{1}\\max\\quad & 3 x + 5 y\\\\\n",
       "\\text{Subject to} \\quad & 9 x + 20 y \\leq 74.0\\\\\n",
       " & 18 x + 25 y \\leq 105.0\\\\\n",
       " & x \\geq 0.0\\\\\n",
       " & y \\geq 4.0\\\\\n",
       " & x \\leq 1.0\\\\\n",
       "\\end{alignat*}\n",
       " $$"
      ],
      "text/plain": [
       "A JuMP Model\n",
       "Maximization problem with:\n",
       "Variables: 2\n",
       "Objective function type: GenericAffExpr{Float64,VariableRef}\n",
       "`GenericAffExpr{Float64,VariableRef}`-in-`MathOptInterface.LessThan{Float64}`: 2 constraints\n",
       "`VariableRef`-in-`MathOptInterface.GreaterThan{Float64}`: 2 constraints\n",
       "`VariableRef`-in-`MathOptInterface.LessThan{Float64}`: 1 constraint\n",
       "Model mode: AUTOMATIC\n",
       "CachingOptimizer state: ATTACHED_OPTIMIZER\n",
       "Solver name: Gurobi\n",
       "Names registered in the model: rest1, rest2, x, y"
      ]
     },
     "execution_count": 24,
     "metadata": {},
     "output_type": "execute_result"
    }
   ],
   "source": [
    "#Ahora resolvemos M4\n",
    "delete_upper_bound(modelo[:y])\n",
    "set_lower_bound(modelo[:y],4) \n",
    "\n",
    "#mirar modelo\n",
    "modelo"
   ]
  },
  {
   "cell_type": "code",
   "execution_count": 25,
   "metadata": {},
   "outputs": [
    {
     "data": {
      "text/plain": [
       "INFEASIBLE::TerminationStatusCode = 2"
      ]
     },
     "execution_count": 25,
     "metadata": {},
     "output_type": "execute_result"
    }
   ],
   "source": [
    "#resolver\n",
    "optimize!(modelo)\n",
    "termination_status(modelo)"
   ]
  },
  {
   "cell_type": "markdown",
   "metadata": {},
   "source": [
    "¡El modelo M4 es infactible!"
   ]
  },
  {
   "cell_type": "markdown",
   "metadata": {},
   "source": [
    "> Se agrega al árbol BnB el nodo  $(M4,-\\infty,\\text{infactible})$."
   ]
  },
  {
   "cell_type": "code",
   "execution_count": 26,
   "metadata": {},
   "outputs": [
    {
     "data": {
      "application/vnd.plotly.v1+json": {
       "data": [
        {
         "colorbar": {
          "title": ""
         },
         "fill": "tozeroy",
         "fillcolor": "rgba(0, 154, 250, 0.500)",
         "legendgroup": "y1",
         "line": {
          "color": "rgba(0, 154, 250, 1.000)",
          "dash": "solid",
          "shape": "linear",
          "width": 1
         },
         "mode": "lines",
         "name": "y1",
         "showlegend": true,
         "type": "scatter",
         "x": [
          0,
          6
         ],
         "xaxis": "x",
         "y": [
          3.7,
          1
         ],
         "yaxis": "y",
         "zmax": null,
         "zmin": null
        },
        {
         "colorbar": {
          "title": ""
         },
         "fill": "tozeroy",
         "fillcolor": "rgba(227, 111, 71, 0.500)",
         "legendgroup": "y2",
         "line": {
          "color": "rgba(227, 111, 71, 1.000)",
          "dash": "solid",
          "shape": "linear",
          "width": 1
         },
         "mode": "lines",
         "name": "y2",
         "showlegend": true,
         "type": "scatter",
         "x": [
          0,
          6
         ],
         "xaxis": "x",
         "y": [
          4.2,
          -0.12
         ],
         "yaxis": "y",
         "zmax": null,
         "zmin": null
        },
        {
         "colorbar": {
          "title": ""
         },
         "fill": "tozeroy",
         "fillcolor": "rgba(62, 164, 78, 0.500)",
         "legendgroup": "y3",
         "line": {
          "color": "rgba(62, 164, 78, 1.000)",
          "dash": "solid",
          "shape": "linear",
          "width": 1
         },
         "mode": "lines",
         "name": "y3",
         "showlegend": true,
         "type": "scatter",
         "x": [
          0,
          0,
          1,
          1
         ],
         "xaxis": "x",
         "y": [
          0,
          3,
          3,
          0
         ],
         "yaxis": "y",
         "zmax": null,
         "zmin": null
        },
        {
         "colorbar": {
          "title": ""
         },
         "fill": "tozeroy",
         "fillcolor": "rgba(195, 113, 210, 0.500)",
         "legendgroup": "y4",
         "line": {
          "color": "rgba(195, 113, 210, 1.000)",
          "dash": "solid",
          "shape": "linear",
          "width": 1
         },
         "mode": "lines",
         "name": "y4",
         "showlegend": true,
         "type": "scatter",
         "x": [
          2,
          2,
          6,
          6
         ],
         "xaxis": "x",
         "y": [
          0,
          4,
          4,
          0
         ],
         "yaxis": "y",
         "zmax": null,
         "zmin": null
        },
        {
         "colorbar": {
          "title": ""
         },
         "legendgroup": "y5",
         "marker": {
          "color": "rgba(172, 142, 24, 1.000)",
          "line": {
           "color": "rgba(0, 0, 0, 1.000)",
           "width": 1
          },
          "size": 8,
          "symbol": "circle"
         },
         "mode": "markers",
         "name": "y5",
         "showlegend": true,
         "type": "scatter",
         "x": [
          1.8518518518518516,
          1,
          2,
          1
         ],
         "xaxis": "x",
         "y": [
          2.8666666666666667,
          3.25,
          2.76,
          3
         ],
         "yaxis": "y",
         "zmax": null,
         "zmin": null
        }
       ],
       "layout": {
        "annotations": [
         {
          "font": {
           "color": "rgba(0, 0, 0, 1.000)",
           "family": "color",
           "size": 20
          },
          "rotation": 0,
          "showarrow": false,
          "text": "P3",
          "x": 0.5,
          "xanchor": "center",
          "xref": "x",
          "y": 1.5,
          "yanchor": "middle",
          "yref": "y"
         },
         {
          "font": {
           "color": "rgba(0, 0, 0, 1.000)",
           "family": "color",
           "size": 20
          },
          "rotation": 0,
          "showarrow": false,
          "text": "P2",
          "x": 3,
          "xanchor": "center",
          "xref": "x",
          "y": 1,
          "yanchor": "middle",
          "yref": "y"
         }
        ],
        "height": 400,
        "margin": {
         "b": 20,
         "l": 0,
         "r": 0,
         "t": 20
        },
        "paper_bgcolor": "rgba(255, 255, 255, 1.000)",
        "plot_bgcolor": "rgba(255, 255, 255, 1.000)",
        "showlegend": false,
        "width": 600,
        "xaxis": {
         "anchor": "y",
         "domain": [
          0.02137649460484106,
          0.9934383202099737
         ],
         "gridcolor": "rgba(0, 0, 0, 0.100)",
         "gridwidth": 0.5,
         "linecolor": "rgba(0, 0, 0, 1.000)",
         "mirror": false,
         "range": [
          -0.18,
          6.18
         ],
         "showgrid": true,
         "showline": true,
         "showticklabels": true,
         "tickangle": 0,
         "tickcolor": "rgb(0, 0, 0)",
         "tickfont": {
          "color": "rgba(0, 0, 0, 1.000)",
          "family": "sans-serif",
          "size": 11
         },
         "tickmode": "array",
         "ticks": "inside",
         "ticktext": [
          "0",
          "1",
          "2",
          "3",
          "4",
          "5",
          "6"
         ],
         "tickvals": [
          0,
          1,
          2,
          3,
          4,
          5,
          6
         ],
         "title": "",
         "titlefont": {
          "color": "rgba(0, 0, 0, 1.000)",
          "family": "sans-serif",
          "size": 15
         },
         "type": "-",
         "visible": true,
         "zeroline": false,
         "zerolinecolor": "rgba(0, 0, 0, 1.000)"
        },
        "yaxis": {
         "anchor": "x",
         "domain": [
          0.03762029746281716,
          0.9901574803149606
         ],
         "gridcolor": "rgba(0, 0, 0, 0.100)",
         "gridwidth": 0.5,
         "linecolor": "rgba(0, 0, 0, 1.000)",
         "mirror": false,
         "range": [
          -0.2496,
          4.3296
         ],
         "showgrid": true,
         "showline": true,
         "showticklabels": true,
         "tickangle": 0,
         "tickcolor": "rgb(0, 0, 0)",
         "tickfont": {
          "color": "rgba(0, 0, 0, 1.000)",
          "family": "sans-serif",
          "size": 11
         },
         "tickmode": "array",
         "ticks": "inside",
         "ticktext": [
          "0",
          "1",
          "2",
          "3",
          "4"
         ],
         "tickvals": [
          0,
          1,
          2,
          3,
          4
         ],
         "title": "",
         "titlefont": {
          "color": "rgba(0, 0, 0, 1.000)",
          "family": "sans-serif",
          "size": 15
         },
         "type": "-",
         "visible": true,
         "zeroline": false,
         "zerolinecolor": "rgba(0, 0, 0, 1.000)"
        }
       }
      },
      "text/html": [
       "<!DOCTYPE html>\n",
       "<html>\n",
       "    <head>\n",
       "        <title>Plots.jl</title>\n",
       "        <meta http-equiv=\"content-type\" content=\"text/html; charset=UTF-8\">\n",
       "        \n",
       "    </head>\n",
       "    <body>\n",
       "            <div id=\"60c27636-4bcf-4e4b-a6c1-3337e0ab4ae6\" style=\"width:600px;height:400px;\"></div>\n",
       "    <script>\n",
       "        requirejs.config({\n",
       "        paths: {\n",
       "            Plotly: 'https://cdn.plot.ly/plotly-1.57.1.min'\n",
       "        }\n",
       "    });\n",
       "    require(['Plotly'], function (Plotly) {\n",
       "\n",
       "    PLOT = document.getElementById('60c27636-4bcf-4e4b-a6c1-3337e0ab4ae6');\n",
       "    Plotly.plot(PLOT, [\n",
       "    {\n",
       "        \"xaxis\": \"x\",\n",
       "        \"colorbar\": {\n",
       "            \"title\": \"\"\n",
       "        },\n",
       "        \"fill\": \"tozeroy\",\n",
       "        \"yaxis\": \"y\",\n",
       "        \"x\": [\n",
       "            0.0,\n",
       "            6.0\n",
       "        ],\n",
       "        \"showlegend\": true,\n",
       "        \"mode\": \"lines\",\n",
       "        \"fillcolor\": \"rgba(0, 154, 250, 0.500)\",\n",
       "        \"name\": \"y1\",\n",
       "        \"zmin\": null,\n",
       "        \"legendgroup\": \"y1\",\n",
       "        \"zmax\": null,\n",
       "        \"line\": {\n",
       "            \"color\": \"rgba(0, 154, 250, 1.000)\",\n",
       "            \"shape\": \"linear\",\n",
       "            \"dash\": \"solid\",\n",
       "            \"width\": 1\n",
       "        },\n",
       "        \"y\": [\n",
       "            3.7,\n",
       "            1.0\n",
       "        ],\n",
       "        \"type\": \"scatter\"\n",
       "    },\n",
       "    {\n",
       "        \"xaxis\": \"x\",\n",
       "        \"colorbar\": {\n",
       "            \"title\": \"\"\n",
       "        },\n",
       "        \"fill\": \"tozeroy\",\n",
       "        \"yaxis\": \"y\",\n",
       "        \"x\": [\n",
       "            0.0,\n",
       "            6.0\n",
       "        ],\n",
       "        \"showlegend\": true,\n",
       "        \"mode\": \"lines\",\n",
       "        \"fillcolor\": \"rgba(227, 111, 71, 0.500)\",\n",
       "        \"name\": \"y2\",\n",
       "        \"zmin\": null,\n",
       "        \"legendgroup\": \"y2\",\n",
       "        \"zmax\": null,\n",
       "        \"line\": {\n",
       "            \"color\": \"rgba(227, 111, 71, 1.000)\",\n",
       "            \"shape\": \"linear\",\n",
       "            \"dash\": \"solid\",\n",
       "            \"width\": 1\n",
       "        },\n",
       "        \"y\": [\n",
       "            4.2,\n",
       "            -0.12\n",
       "        ],\n",
       "        \"type\": \"scatter\"\n",
       "    },\n",
       "    {\n",
       "        \"xaxis\": \"x\",\n",
       "        \"colorbar\": {\n",
       "            \"title\": \"\"\n",
       "        },\n",
       "        \"fill\": \"tozeroy\",\n",
       "        \"yaxis\": \"y\",\n",
       "        \"x\": [\n",
       "            0.0,\n",
       "            0.0,\n",
       "            1.0,\n",
       "            1.0\n",
       "        ],\n",
       "        \"showlegend\": true,\n",
       "        \"mode\": \"lines\",\n",
       "        \"fillcolor\": \"rgba(62, 164, 78, 0.500)\",\n",
       "        \"name\": \"y3\",\n",
       "        \"zmin\": null,\n",
       "        \"legendgroup\": \"y3\",\n",
       "        \"zmax\": null,\n",
       "        \"line\": {\n",
       "            \"color\": \"rgba(62, 164, 78, 1.000)\",\n",
       "            \"shape\": \"linear\",\n",
       "            \"dash\": \"solid\",\n",
       "            \"width\": 1\n",
       "        },\n",
       "        \"y\": [\n",
       "            0.0,\n",
       "            3.0,\n",
       "            3.0,\n",
       "            0.0\n",
       "        ],\n",
       "        \"type\": \"scatter\"\n",
       "    },\n",
       "    {\n",
       "        \"xaxis\": \"x\",\n",
       "        \"colorbar\": {\n",
       "            \"title\": \"\"\n",
       "        },\n",
       "        \"fill\": \"tozeroy\",\n",
       "        \"yaxis\": \"y\",\n",
       "        \"x\": [\n",
       "            2.0,\n",
       "            2.0,\n",
       "            6.0,\n",
       "            6.0\n",
       "        ],\n",
       "        \"showlegend\": true,\n",
       "        \"mode\": \"lines\",\n",
       "        \"fillcolor\": \"rgba(195, 113, 210, 0.500)\",\n",
       "        \"name\": \"y4\",\n",
       "        \"zmin\": null,\n",
       "        \"legendgroup\": \"y4\",\n",
       "        \"zmax\": null,\n",
       "        \"line\": {\n",
       "            \"color\": \"rgba(195, 113, 210, 1.000)\",\n",
       "            \"shape\": \"linear\",\n",
       "            \"dash\": \"solid\",\n",
       "            \"width\": 1\n",
       "        },\n",
       "        \"y\": [\n",
       "            0.0,\n",
       "            4.0,\n",
       "            4.0,\n",
       "            0.0\n",
       "        ],\n",
       "        \"type\": \"scatter\"\n",
       "    },\n",
       "    {\n",
       "        \"xaxis\": \"x\",\n",
       "        \"colorbar\": {\n",
       "            \"title\": \"\"\n",
       "        },\n",
       "        \"yaxis\": \"y\",\n",
       "        \"x\": [\n",
       "            1.8518518518518516,\n",
       "            1.0,\n",
       "            2.0,\n",
       "            1.0\n",
       "        ],\n",
       "        \"showlegend\": true,\n",
       "        \"mode\": \"markers\",\n",
       "        \"name\": \"y5\",\n",
       "        \"zmin\": null,\n",
       "        \"legendgroup\": \"y5\",\n",
       "        \"marker\": {\n",
       "            \"symbol\": \"circle\",\n",
       "            \"color\": \"rgba(172, 142, 24, 1.000)\",\n",
       "            \"line\": {\n",
       "                \"color\": \"rgba(0, 0, 0, 1.000)\",\n",
       "                \"width\": 1\n",
       "            },\n",
       "            \"size\": 8\n",
       "        },\n",
       "        \"zmax\": null,\n",
       "        \"y\": [\n",
       "            2.8666666666666667,\n",
       "            3.25,\n",
       "            2.76,\n",
       "            3.0\n",
       "        ],\n",
       "        \"type\": \"scatter\"\n",
       "    }\n",
       "]\n",
       ", {\n",
       "    \"showlegend\": false,\n",
       "    \"xaxis\": {\n",
       "        \"showticklabels\": true,\n",
       "        \"gridwidth\": 0.5,\n",
       "        \"tickvals\": [\n",
       "            0.0,\n",
       "            1.0,\n",
       "            2.0,\n",
       "            3.0,\n",
       "            4.0,\n",
       "            5.0,\n",
       "            6.0\n",
       "        ],\n",
       "        \"visible\": true,\n",
       "        \"ticks\": \"inside\",\n",
       "        \"range\": [\n",
       "            -0.18,\n",
       "            6.18\n",
       "        ],\n",
       "        \"domain\": [\n",
       "            0.02137649460484106,\n",
       "            0.9934383202099737\n",
       "        ],\n",
       "        \"tickmode\": \"array\",\n",
       "        \"linecolor\": \"rgba(0, 0, 0, 1.000)\",\n",
       "        \"showgrid\": true,\n",
       "        \"title\": \"\",\n",
       "        \"mirror\": false,\n",
       "        \"tickangle\": 0,\n",
       "        \"showline\": true,\n",
       "        \"gridcolor\": \"rgba(0, 0, 0, 0.100)\",\n",
       "        \"titlefont\": {\n",
       "            \"color\": \"rgba(0, 0, 0, 1.000)\",\n",
       "            \"family\": \"sans-serif\",\n",
       "            \"size\": 15\n",
       "        },\n",
       "        \"tickcolor\": \"rgb(0, 0, 0)\",\n",
       "        \"ticktext\": [\n",
       "            \"0\",\n",
       "            \"1\",\n",
       "            \"2\",\n",
       "            \"3\",\n",
       "            \"4\",\n",
       "            \"5\",\n",
       "            \"6\"\n",
       "        ],\n",
       "        \"zeroline\": false,\n",
       "        \"type\": \"-\",\n",
       "        \"tickfont\": {\n",
       "            \"color\": \"rgba(0, 0, 0, 1.000)\",\n",
       "            \"family\": \"sans-serif\",\n",
       "            \"size\": 11\n",
       "        },\n",
       "        \"zerolinecolor\": \"rgba(0, 0, 0, 1.000)\",\n",
       "        \"anchor\": \"y\"\n",
       "    },\n",
       "    \"paper_bgcolor\": \"rgba(255, 255, 255, 1.000)\",\n",
       "    \"annotations\": [\n",
       "        {\n",
       "            \"yanchor\": \"middle\",\n",
       "            \"xanchor\": \"center\",\n",
       "            \"rotation\": -0.0,\n",
       "            \"y\": 1.5,\n",
       "            \"font\": {\n",
       "                \"color\": \"rgba(0, 0, 0, 1.000)\",\n",
       "                \"family\": \"color\",\n",
       "                \"size\": 20\n",
       "            },\n",
       "            \"yref\": \"y\",\n",
       "            \"showarrow\": false,\n",
       "            \"text\": \"P3\",\n",
       "            \"xref\": \"x\",\n",
       "            \"x\": 0.5\n",
       "        },\n",
       "        {\n",
       "            \"yanchor\": \"middle\",\n",
       "            \"xanchor\": \"center\",\n",
       "            \"rotation\": -0.0,\n",
       "            \"y\": 1,\n",
       "            \"font\": {\n",
       "                \"color\": \"rgba(0, 0, 0, 1.000)\",\n",
       "                \"family\": \"color\",\n",
       "                \"size\": 20\n",
       "            },\n",
       "            \"yref\": \"y\",\n",
       "            \"showarrow\": false,\n",
       "            \"text\": \"P2\",\n",
       "            \"xref\": \"x\",\n",
       "            \"x\": 3\n",
       "        }\n",
       "    ],\n",
       "    \"height\": 400,\n",
       "    \"margin\": {\n",
       "        \"l\": 0,\n",
       "        \"b\": 20,\n",
       "        \"r\": 0,\n",
       "        \"t\": 20\n",
       "    },\n",
       "    \"plot_bgcolor\": \"rgba(255, 255, 255, 1.000)\",\n",
       "    \"yaxis\": {\n",
       "        \"showticklabels\": true,\n",
       "        \"gridwidth\": 0.5,\n",
       "        \"tickvals\": [\n",
       "            0.0,\n",
       "            1.0,\n",
       "            2.0,\n",
       "            3.0,\n",
       "            4.0\n",
       "        ],\n",
       "        \"visible\": true,\n",
       "        \"ticks\": \"inside\",\n",
       "        \"range\": [\n",
       "            -0.2496,\n",
       "            4.3296\n",
       "        ],\n",
       "        \"domain\": [\n",
       "            0.03762029746281716,\n",
       "            0.9901574803149606\n",
       "        ],\n",
       "        \"tickmode\": \"array\",\n",
       "        \"linecolor\": \"rgba(0, 0, 0, 1.000)\",\n",
       "        \"showgrid\": true,\n",
       "        \"title\": \"\",\n",
       "        \"mirror\": false,\n",
       "        \"tickangle\": 0,\n",
       "        \"showline\": true,\n",
       "        \"gridcolor\": \"rgba(0, 0, 0, 0.100)\",\n",
       "        \"titlefont\": {\n",
       "            \"color\": \"rgba(0, 0, 0, 1.000)\",\n",
       "            \"family\": \"sans-serif\",\n",
       "            \"size\": 15\n",
       "        },\n",
       "        \"tickcolor\": \"rgb(0, 0, 0)\",\n",
       "        \"ticktext\": [\n",
       "            \"0\",\n",
       "            \"1\",\n",
       "            \"2\",\n",
       "            \"3\",\n",
       "            \"4\"\n",
       "        ],\n",
       "        \"zeroline\": false,\n",
       "        \"type\": \"-\",\n",
       "        \"tickfont\": {\n",
       "            \"color\": \"rgba(0, 0, 0, 1.000)\",\n",
       "            \"family\": \"sans-serif\",\n",
       "            \"size\": 11\n",
       "        },\n",
       "        \"zerolinecolor\": \"rgba(0, 0, 0, 1.000)\",\n",
       "        \"anchor\": \"x\"\n",
       "    },\n",
       "    \"width\": 600\n",
       "}\n",
       ");\n",
       "    });\n",
       "    </script>\n",
       "\n",
       "    </body>\n",
       "</html>\n"
      ]
     },
     "execution_count": 26,
     "metadata": {},
     "output_type": "execute_result"
    }
   ],
   "source": [
    "#Hagamos el grafico de nuevo\n",
    "f(x) = (74-9x)/20\n",
    "g(x) = (105-18x)/25\n",
    "X = [0,6]\n",
    "plot(X, [f,g], fill = (0, 0.5, :auto), leg=false)\n",
    "\n",
    "#zona x<=1,y<=3\n",
    "plot!([0, 0, 1, 1], [0, 3, 3, 0], fill=(0, 0.5, :auto))\n",
    "annotate!(0.5, 1.5, \"P3\", :color)\n",
    "\n",
    "#zona x>=2\n",
    "plot!([2, 2, 6, 6], [0, 4, 4, 0], fill=(0, 0.5, :auto))\n",
    "annotate!(3, 1, \"P2\", :color)\n",
    "\n",
    "#puntos encontrados\n",
    "scatter!([x0, x1, x2, x3],[y0,y1,y2, y3])\n"
   ]
  },
  {
   "cell_type": "markdown",
   "metadata": {},
   "source": [
    "> Terminamos de ramificar M1, por lo que ahora propagamos cotas.\n",
    ">\n",
    "> La cota superior de M1 se actualiza de 19.25 a $\\max\\{-\\infty, 18\\}=18$.\n",
    ">\n",
    "> La cota superior de M0 se actualiza de 19.8 a $\\max\\{18,19.8\\}=19.8$ (se mantiene)"
   ]
  },
  {
   "cell_type": "markdown",
   "metadata": {},
   "source": [
    "\n",
    "Como tenemos incumbente y cota, el **gap** de nuestra solución actual  es $\\frac{19.8-18}{18}=\\frac{1.8}{18}=0.1=10\\%$. Solo queda $M_2$ activo, lo ramificamos en $M_5$ y $M_6$, donde $y\\leq 2$ o $y\\geq3$ respectivamente. "
   ]
  },
  {
   "cell_type": "code",
   "execution_count": 28,
   "metadata": {},
   "outputs": [
    {
     "ename": "LoadError",
     "evalue": "",
     "output_type": "error",
     "traceback": [
      "",
      "",
      "Stacktrace:",
      " [1] delete(::MathOptInterface.Utilities.CachingOptimizer{MathOptInterface.AbstractOptimizer,MathOptInterface.Utilities.UniversalFallback{MathOptInterface.Utilities.Model{Float64}}}, ::MathOptInterface.ConstraintIndex{MathOptInterface.SingleVariable,MathOptInterface.LessThan{Float64}}) at C:\\Users\\Jose\\.julia\\packages\\MathOptInterface\\5WwpK\\src\\Utilities\\cachingoptimizer.jl:557",
      " [2] delete(::Model, ::ConstraintRef{Model,MathOptInterface.ConstraintIndex{MathOptInterface.SingleVariable,MathOptInterface.LessThan{Float64}},ScalarShape}) at C:\\Users\\Jose\\.julia\\packages\\JuMP\\y5vgk\\src\\constraints.jl:239",
      " [3] delete_upper_bound(::VariableRef) at C:\\Users\\Jose\\.julia\\packages\\JuMP\\y5vgk\\src\\variables.jl:489",
      " [4] top-level scope at In[28]:3",
      " [5] include_string(::Function, ::Module, ::String, ::String) at .\\loading.jl:1091"
     ]
    },
    {
     "name": "stdout",
     "output_type": "stream",
     "text": [
      "The index MathOptInterface.ConstraintIndex{MathOptInterface.SingleVariable,MathOptInterface.LessThan{Float64}}(1) is invalid. Note that an index becomes invalid after it has been deleted."
     ]
    }
   ],
   "source": [
    "#Modelo M5\n",
    "set_lower_bound(modelo[:x],2)\n",
    "delete_upper_bound(modelo[:x])\n",
    "set_upper_bound(modelo[:y],2) \n",
    "set_lower_bound(modelo[:y],0)\n",
    "modelo\n"
   ]
  },
  {
   "cell_type": "code",
   "execution_count": 29,
   "metadata": {},
   "outputs": [
    {
     "data": {
      "text/plain": [
       "OPTIMAL::TerminationStatusCode = 1"
      ]
     },
     "execution_count": 29,
     "metadata": {},
     "output_type": "execute_result"
    }
   ],
   "source": [
    "#resolver\n",
    "optimize!(modelo)\n",
    "termination_status(modelo)"
   ]
  },
  {
   "cell_type": "code",
   "execution_count": 30,
   "metadata": {},
   "outputs": [
    {
     "name": "stdout",
     "output_type": "stream",
     "text": [
      "z5=19.166666666666664 x5=3.0555555555555554 y5=2.0\n"
     ]
    }
   ],
   "source": [
    "x5=value(modelo[:x])\n",
    "y5=value(modelo[:y])\n",
    "z5=objective_value(modelo)\n",
    "\n",
    "println(\"z5=\",z5,\" x5=\", x5,\" y5=\", y5)"
   ]
  },
  {
   "cell_type": "code",
   "execution_count": 31,
   "metadata": {},
   "outputs": [
    {
     "data": {
      "text/latex": [
       "$$ \\begin{alignat*}{1}\\max\\quad & 3 x + 5 y\\\\\n",
       "\\text{Subject to} \\quad & 9 x + 20 y \\leq 74.0\\\\\n",
       " & 18 x + 25 y \\leq 105.0\\\\\n",
       " & x \\geq 2.0\\\\\n",
       " & y \\geq 3.0\\\\\n",
       "\\end{alignat*}\n",
       " $$"
      ],
      "text/plain": [
       "A JuMP Model\n",
       "Maximization problem with:\n",
       "Variables: 2\n",
       "Objective function type: GenericAffExpr{Float64,VariableRef}\n",
       "`GenericAffExpr{Float64,VariableRef}`-in-`MathOptInterface.LessThan{Float64}`: 2 constraints\n",
       "`VariableRef`-in-`MathOptInterface.GreaterThan{Float64}`: 2 constraints\n",
       "Model mode: AUTOMATIC\n",
       "CachingOptimizer state: ATTACHED_OPTIMIZER\n",
       "Solver name: Gurobi\n",
       "Names registered in the model: rest1, rest2, x, y"
      ]
     },
     "execution_count": 31,
     "metadata": {},
     "output_type": "execute_result"
    }
   ],
   "source": [
    "#Modelo M6\n",
    "delete_upper_bound(modelo[:y])\n",
    "set_lower_bound(modelo[:y],3) \n",
    "\n",
    "modelo"
   ]
  },
  {
   "cell_type": "code",
   "execution_count": 32,
   "metadata": {},
   "outputs": [
    {
     "data": {
      "text/plain": [
       "INFEASIBLE::TerminationStatusCode = 2"
      ]
     },
     "execution_count": 32,
     "metadata": {},
     "output_type": "execute_result"
    }
   ],
   "source": [
    "#resolver\n",
    "optimize!(modelo)\n",
    "termination_status(modelo)"
   ]
  },
  {
   "cell_type": "markdown",
   "metadata": {},
   "source": [
    "M6 infactible."
   ]
  },
  {
   "cell_type": "code",
   "execution_count": 33,
   "metadata": {},
   "outputs": [
    {
     "data": {
      "application/vnd.plotly.v1+json": {
       "data": [
        {
         "colorbar": {
          "title": ""
         },
         "fill": "tozeroy",
         "fillcolor": "rgba(0, 154, 250, 0.500)",
         "legendgroup": "y1",
         "line": {
          "color": "rgba(0, 154, 250, 1.000)",
          "dash": "solid",
          "shape": "linear",
          "width": 1
         },
         "mode": "lines",
         "name": "y1",
         "showlegend": true,
         "type": "scatter",
         "x": [
          0,
          6
         ],
         "xaxis": "x",
         "y": [
          3.7,
          1
         ],
         "yaxis": "y",
         "zmax": null,
         "zmin": null
        },
        {
         "colorbar": {
          "title": ""
         },
         "fill": "tozeroy",
         "fillcolor": "rgba(227, 111, 71, 0.500)",
         "legendgroup": "y2",
         "line": {
          "color": "rgba(227, 111, 71, 1.000)",
          "dash": "solid",
          "shape": "linear",
          "width": 1
         },
         "mode": "lines",
         "name": "y2",
         "showlegend": true,
         "type": "scatter",
         "x": [
          0,
          6
         ],
         "xaxis": "x",
         "y": [
          4.2,
          -0.12
         ],
         "yaxis": "y",
         "zmax": null,
         "zmin": null
        },
        {
         "colorbar": {
          "title": ""
         },
         "fill": "tozeroy",
         "fillcolor": "rgba(62, 164, 78, 0.500)",
         "legendgroup": "y3",
         "line": {
          "color": "rgba(62, 164, 78, 1.000)",
          "dash": "solid",
          "shape": "linear",
          "width": 1
         },
         "mode": "lines",
         "name": "y3",
         "showlegend": true,
         "type": "scatter",
         "x": [
          0,
          0,
          1,
          1
         ],
         "xaxis": "x",
         "y": [
          0,
          3,
          3,
          0
         ],
         "yaxis": "y",
         "zmax": null,
         "zmin": null
        },
        {
         "colorbar": {
          "title": ""
         },
         "fill": "tozeroy",
         "fillcolor": "rgba(195, 113, 210, 0.500)",
         "legendgroup": "y4",
         "line": {
          "color": "rgba(195, 113, 210, 1.000)",
          "dash": "solid",
          "shape": "linear",
          "width": 1
         },
         "mode": "lines",
         "name": "y4",
         "showlegend": true,
         "type": "scatter",
         "x": [
          2,
          2,
          6,
          6
         ],
         "xaxis": "x",
         "y": [
          0,
          2,
          2,
          0
         ],
         "yaxis": "y",
         "zmax": null,
         "zmin": null
        },
        {
         "colorbar": {
          "title": ""
         },
         "fill": "tozeroy",
         "fillcolor": "rgba(172, 142, 24, 0.500)",
         "legendgroup": "y5",
         "line": {
          "color": "rgba(172, 142, 24, 1.000)",
          "dash": "solid",
          "shape": "linear",
          "width": 1
         },
         "mode": "lines",
         "name": "y5",
         "showlegend": true,
         "type": "scatter",
         "x": [
          0,
          0,
          1,
          1
         ],
         "xaxis": "x",
         "y": [
          0,
          3,
          3,
          0
         ],
         "yaxis": "y",
         "zmax": null,
         "zmin": null
        },
        {
         "colorbar": {
          "title": ""
         },
         "legendgroup": "y6",
         "marker": {
          "color": "rgba(0, 170, 174, 1.000)",
          "line": {
           "color": "rgba(0, 0, 0, 1.000)",
           "width": 1
          },
          "size": 8,
          "symbol": "circle"
         },
         "mode": "markers",
         "name": "y6",
         "showlegend": true,
         "type": "scatter",
         "x": [
          1.8518518518518516,
          1,
          2,
          1,
          3.0555555555555554
         ],
         "xaxis": "x",
         "y": [
          2.8666666666666667,
          3.25,
          2.76,
          3,
          2
         ],
         "yaxis": "y",
         "zmax": null,
         "zmin": null
        }
       ],
       "layout": {
        "annotations": [
         {
          "font": {
           "color": "rgba(0, 0, 0, 1.000)",
           "family": "color",
           "size": 20
          },
          "rotation": 0,
          "showarrow": false,
          "text": "S3",
          "x": 0.5,
          "xanchor": "center",
          "xref": "x",
          "y": 1.5,
          "yanchor": "middle",
          "yref": "y"
         },
         {
          "font": {
           "color": "rgba(0, 0, 0, 1.000)",
           "family": "color",
           "size": 20
          },
          "rotation": 0,
          "showarrow": false,
          "text": "S5",
          "x": 3,
          "xanchor": "center",
          "xref": "x",
          "y": 1,
          "yanchor": "middle",
          "yref": "y"
         },
         {
          "font": {
           "color": "rgba(0, 0, 0, 1.000)",
           "family": "color",
           "size": 20
          },
          "rotation": 0,
          "showarrow": false,
          "text": "S3",
          "x": 0.5,
          "xanchor": "center",
          "xref": "x",
          "y": 1.5,
          "yanchor": "middle",
          "yref": "y"
         }
        ],
        "height": 400,
        "margin": {
         "b": 20,
         "l": 0,
         "r": 0,
         "t": 20
        },
        "paper_bgcolor": "rgba(255, 255, 255, 1.000)",
        "plot_bgcolor": "rgba(255, 255, 255, 1.000)",
        "showlegend": false,
        "width": 600,
        "xaxis": {
         "anchor": "y",
         "domain": [
          0.02137649460484106,
          0.9934383202099737
         ],
         "gridcolor": "rgba(0, 0, 0, 0.100)",
         "gridwidth": 0.5,
         "linecolor": "rgba(0, 0, 0, 1.000)",
         "mirror": false,
         "range": [
          -0.18,
          6.18
         ],
         "showgrid": true,
         "showline": true,
         "showticklabels": true,
         "tickangle": 0,
         "tickcolor": "rgb(0, 0, 0)",
         "tickfont": {
          "color": "rgba(0, 0, 0, 1.000)",
          "family": "sans-serif",
          "size": 11
         },
         "tickmode": "array",
         "ticks": "inside",
         "ticktext": [
          "0",
          "1",
          "2",
          "3",
          "4",
          "5",
          "6"
         ],
         "tickvals": [
          0,
          1,
          2,
          3,
          4,
          5,
          6
         ],
         "title": "",
         "titlefont": {
          "color": "rgba(0, 0, 0, 1.000)",
          "family": "sans-serif",
          "size": 15
         },
         "type": "-",
         "visible": true,
         "zeroline": false,
         "zerolinecolor": "rgba(0, 0, 0, 1.000)"
        },
        "yaxis": {
         "anchor": "x",
         "domain": [
          0.03762029746281716,
          0.9901574803149606
         ],
         "gridcolor": "rgba(0, 0, 0, 0.100)",
         "gridwidth": 0.5,
         "linecolor": "rgba(0, 0, 0, 1.000)",
         "mirror": false,
         "range": [
          -0.2496,
          4.3296
         ],
         "showgrid": true,
         "showline": true,
         "showticklabels": true,
         "tickangle": 0,
         "tickcolor": "rgb(0, 0, 0)",
         "tickfont": {
          "color": "rgba(0, 0, 0, 1.000)",
          "family": "sans-serif",
          "size": 11
         },
         "tickmode": "array",
         "ticks": "inside",
         "ticktext": [
          "0",
          "1",
          "2",
          "3",
          "4"
         ],
         "tickvals": [
          0,
          1,
          2,
          3,
          4
         ],
         "title": "",
         "titlefont": {
          "color": "rgba(0, 0, 0, 1.000)",
          "family": "sans-serif",
          "size": 15
         },
         "type": "-",
         "visible": true,
         "zeroline": false,
         "zerolinecolor": "rgba(0, 0, 0, 1.000)"
        }
       }
      },
      "text/html": [
       "<!DOCTYPE html>\n",
       "<html>\n",
       "    <head>\n",
       "        <title>Plots.jl</title>\n",
       "        <meta http-equiv=\"content-type\" content=\"text/html; charset=UTF-8\">\n",
       "        \n",
       "    </head>\n",
       "    <body>\n",
       "            <div id=\"02740137-d41e-4829-9b8a-ad8a0d79d0aa\" style=\"width:600px;height:400px;\"></div>\n",
       "    <script>\n",
       "        requirejs.config({\n",
       "        paths: {\n",
       "            Plotly: 'https://cdn.plot.ly/plotly-1.57.1.min'\n",
       "        }\n",
       "    });\n",
       "    require(['Plotly'], function (Plotly) {\n",
       "\n",
       "    PLOT = document.getElementById('02740137-d41e-4829-9b8a-ad8a0d79d0aa');\n",
       "    Plotly.plot(PLOT, [\n",
       "    {\n",
       "        \"xaxis\": \"x\",\n",
       "        \"colorbar\": {\n",
       "            \"title\": \"\"\n",
       "        },\n",
       "        \"fill\": \"tozeroy\",\n",
       "        \"yaxis\": \"y\",\n",
       "        \"x\": [\n",
       "            0.0,\n",
       "            6.0\n",
       "        ],\n",
       "        \"showlegend\": true,\n",
       "        \"mode\": \"lines\",\n",
       "        \"fillcolor\": \"rgba(0, 154, 250, 0.500)\",\n",
       "        \"name\": \"y1\",\n",
       "        \"zmin\": null,\n",
       "        \"legendgroup\": \"y1\",\n",
       "        \"zmax\": null,\n",
       "        \"line\": {\n",
       "            \"color\": \"rgba(0, 154, 250, 1.000)\",\n",
       "            \"shape\": \"linear\",\n",
       "            \"dash\": \"solid\",\n",
       "            \"width\": 1\n",
       "        },\n",
       "        \"y\": [\n",
       "            3.7,\n",
       "            1.0\n",
       "        ],\n",
       "        \"type\": \"scatter\"\n",
       "    },\n",
       "    {\n",
       "        \"xaxis\": \"x\",\n",
       "        \"colorbar\": {\n",
       "            \"title\": \"\"\n",
       "        },\n",
       "        \"fill\": \"tozeroy\",\n",
       "        \"yaxis\": \"y\",\n",
       "        \"x\": [\n",
       "            0.0,\n",
       "            6.0\n",
       "        ],\n",
       "        \"showlegend\": true,\n",
       "        \"mode\": \"lines\",\n",
       "        \"fillcolor\": \"rgba(227, 111, 71, 0.500)\",\n",
       "        \"name\": \"y2\",\n",
       "        \"zmin\": null,\n",
       "        \"legendgroup\": \"y2\",\n",
       "        \"zmax\": null,\n",
       "        \"line\": {\n",
       "            \"color\": \"rgba(227, 111, 71, 1.000)\",\n",
       "            \"shape\": \"linear\",\n",
       "            \"dash\": \"solid\",\n",
       "            \"width\": 1\n",
       "        },\n",
       "        \"y\": [\n",
       "            4.2,\n",
       "            -0.12\n",
       "        ],\n",
       "        \"type\": \"scatter\"\n",
       "    },\n",
       "    {\n",
       "        \"xaxis\": \"x\",\n",
       "        \"colorbar\": {\n",
       "            \"title\": \"\"\n",
       "        },\n",
       "        \"fill\": \"tozeroy\",\n",
       "        \"yaxis\": \"y\",\n",
       "        \"x\": [\n",
       "            0.0,\n",
       "            0.0,\n",
       "            1.0,\n",
       "            1.0\n",
       "        ],\n",
       "        \"showlegend\": true,\n",
       "        \"mode\": \"lines\",\n",
       "        \"fillcolor\": \"rgba(62, 164, 78, 0.500)\",\n",
       "        \"name\": \"y3\",\n",
       "        \"zmin\": null,\n",
       "        \"legendgroup\": \"y3\",\n",
       "        \"zmax\": null,\n",
       "        \"line\": {\n",
       "            \"color\": \"rgba(62, 164, 78, 1.000)\",\n",
       "            \"shape\": \"linear\",\n",
       "            \"dash\": \"solid\",\n",
       "            \"width\": 1\n",
       "        },\n",
       "        \"y\": [\n",
       "            0.0,\n",
       "            3.0,\n",
       "            3.0,\n",
       "            0.0\n",
       "        ],\n",
       "        \"type\": \"scatter\"\n",
       "    },\n",
       "    {\n",
       "        \"xaxis\": \"x\",\n",
       "        \"colorbar\": {\n",
       "            \"title\": \"\"\n",
       "        },\n",
       "        \"fill\": \"tozeroy\",\n",
       "        \"yaxis\": \"y\",\n",
       "        \"x\": [\n",
       "            2.0,\n",
       "            2.0,\n",
       "            6.0,\n",
       "            6.0\n",
       "        ],\n",
       "        \"showlegend\": true,\n",
       "        \"mode\": \"lines\",\n",
       "        \"fillcolor\": \"rgba(195, 113, 210, 0.500)\",\n",
       "        \"name\": \"y4\",\n",
       "        \"zmin\": null,\n",
       "        \"legendgroup\": \"y4\",\n",
       "        \"zmax\": null,\n",
       "        \"line\": {\n",
       "            \"color\": \"rgba(195, 113, 210, 1.000)\",\n",
       "            \"shape\": \"linear\",\n",
       "            \"dash\": \"solid\",\n",
       "            \"width\": 1\n",
       "        },\n",
       "        \"y\": [\n",
       "            0.0,\n",
       "            2.0,\n",
       "            2.0,\n",
       "            0.0\n",
       "        ],\n",
       "        \"type\": \"scatter\"\n",
       "    },\n",
       "    {\n",
       "        \"xaxis\": \"x\",\n",
       "        \"colorbar\": {\n",
       "            \"title\": \"\"\n",
       "        },\n",
       "        \"fill\": \"tozeroy\",\n",
       "        \"yaxis\": \"y\",\n",
       "        \"x\": [\n",
       "            0.0,\n",
       "            0.0,\n",
       "            1.0,\n",
       "            1.0\n",
       "        ],\n",
       "        \"showlegend\": true,\n",
       "        \"mode\": \"lines\",\n",
       "        \"fillcolor\": \"rgba(172, 142, 24, 0.500)\",\n",
       "        \"name\": \"y5\",\n",
       "        \"zmin\": null,\n",
       "        \"legendgroup\": \"y5\",\n",
       "        \"zmax\": null,\n",
       "        \"line\": {\n",
       "            \"color\": \"rgba(172, 142, 24, 1.000)\",\n",
       "            \"shape\": \"linear\",\n",
       "            \"dash\": \"solid\",\n",
       "            \"width\": 1\n",
       "        },\n",
       "        \"y\": [\n",
       "            0.0,\n",
       "            3.0,\n",
       "            3.0,\n",
       "            0.0\n",
       "        ],\n",
       "        \"type\": \"scatter\"\n",
       "    },\n",
       "    {\n",
       "        \"xaxis\": \"x\",\n",
       "        \"colorbar\": {\n",
       "            \"title\": \"\"\n",
       "        },\n",
       "        \"yaxis\": \"y\",\n",
       "        \"x\": [\n",
       "            1.8518518518518516,\n",
       "            1.0,\n",
       "            2.0,\n",
       "            1.0,\n",
       "            3.0555555555555554\n",
       "        ],\n",
       "        \"showlegend\": true,\n",
       "        \"mode\": \"markers\",\n",
       "        \"name\": \"y6\",\n",
       "        \"zmin\": null,\n",
       "        \"legendgroup\": \"y6\",\n",
       "        \"marker\": {\n",
       "            \"symbol\": \"circle\",\n",
       "            \"color\": \"rgba(0, 170, 174, 1.000)\",\n",
       "            \"line\": {\n",
       "                \"color\": \"rgba(0, 0, 0, 1.000)\",\n",
       "                \"width\": 1\n",
       "            },\n",
       "            \"size\": 8\n",
       "        },\n",
       "        \"zmax\": null,\n",
       "        \"y\": [\n",
       "            2.8666666666666667,\n",
       "            3.25,\n",
       "            2.76,\n",
       "            3.0,\n",
       "            2.0\n",
       "        ],\n",
       "        \"type\": \"scatter\"\n",
       "    }\n",
       "]\n",
       ", {\n",
       "    \"showlegend\": false,\n",
       "    \"xaxis\": {\n",
       "        \"showticklabels\": true,\n",
       "        \"gridwidth\": 0.5,\n",
       "        \"tickvals\": [\n",
       "            0.0,\n",
       "            1.0,\n",
       "            2.0,\n",
       "            3.0,\n",
       "            4.0,\n",
       "            5.0,\n",
       "            6.0\n",
       "        ],\n",
       "        \"visible\": true,\n",
       "        \"ticks\": \"inside\",\n",
       "        \"range\": [\n",
       "            -0.18,\n",
       "            6.18\n",
       "        ],\n",
       "        \"domain\": [\n",
       "            0.02137649460484106,\n",
       "            0.9934383202099737\n",
       "        ],\n",
       "        \"tickmode\": \"array\",\n",
       "        \"linecolor\": \"rgba(0, 0, 0, 1.000)\",\n",
       "        \"showgrid\": true,\n",
       "        \"title\": \"\",\n",
       "        \"mirror\": false,\n",
       "        \"tickangle\": 0,\n",
       "        \"showline\": true,\n",
       "        \"gridcolor\": \"rgba(0, 0, 0, 0.100)\",\n",
       "        \"titlefont\": {\n",
       "            \"color\": \"rgba(0, 0, 0, 1.000)\",\n",
       "            \"family\": \"sans-serif\",\n",
       "            \"size\": 15\n",
       "        },\n",
       "        \"tickcolor\": \"rgb(0, 0, 0)\",\n",
       "        \"ticktext\": [\n",
       "            \"0\",\n",
       "            \"1\",\n",
       "            \"2\",\n",
       "            \"3\",\n",
       "            \"4\",\n",
       "            \"5\",\n",
       "            \"6\"\n",
       "        ],\n",
       "        \"zeroline\": false,\n",
       "        \"type\": \"-\",\n",
       "        \"tickfont\": {\n",
       "            \"color\": \"rgba(0, 0, 0, 1.000)\",\n",
       "            \"family\": \"sans-serif\",\n",
       "            \"size\": 11\n",
       "        },\n",
       "        \"zerolinecolor\": \"rgba(0, 0, 0, 1.000)\",\n",
       "        \"anchor\": \"y\"\n",
       "    },\n",
       "    \"paper_bgcolor\": \"rgba(255, 255, 255, 1.000)\",\n",
       "    \"annotations\": [\n",
       "        {\n",
       "            \"yanchor\": \"middle\",\n",
       "            \"xanchor\": \"center\",\n",
       "            \"rotation\": -0.0,\n",
       "            \"y\": 1.5,\n",
       "            \"font\": {\n",
       "                \"color\": \"rgba(0, 0, 0, 1.000)\",\n",
       "                \"family\": \"color\",\n",
       "                \"size\": 20\n",
       "            },\n",
       "            \"yref\": \"y\",\n",
       "            \"showarrow\": false,\n",
       "            \"text\": \"S3\",\n",
       "            \"xref\": \"x\",\n",
       "            \"x\": 0.5\n",
       "        },\n",
       "        {\n",
       "            \"yanchor\": \"middle\",\n",
       "            \"xanchor\": \"center\",\n",
       "            \"rotation\": -0.0,\n",
       "            \"y\": 1,\n",
       "            \"font\": {\n",
       "                \"color\": \"rgba(0, 0, 0, 1.000)\",\n",
       "                \"family\": \"color\",\n",
       "                \"size\": 20\n",
       "            },\n",
       "            \"yref\": \"y\",\n",
       "            \"showarrow\": false,\n",
       "            \"text\": \"S5\",\n",
       "            \"xref\": \"x\",\n",
       "            \"x\": 3\n",
       "        },\n",
       "        {\n",
       "            \"yanchor\": \"middle\",\n",
       "            \"xanchor\": \"center\",\n",
       "            \"rotation\": -0.0,\n",
       "            \"y\": 1.5,\n",
       "            \"font\": {\n",
       "                \"color\": \"rgba(0, 0, 0, 1.000)\",\n",
       "                \"family\": \"color\",\n",
       "                \"size\": 20\n",
       "            },\n",
       "            \"yref\": \"y\",\n",
       "            \"showarrow\": false,\n",
       "            \"text\": \"S3\",\n",
       "            \"xref\": \"x\",\n",
       "            \"x\": 0.5\n",
       "        }\n",
       "    ],\n",
       "    \"height\": 400,\n",
       "    \"margin\": {\n",
       "        \"l\": 0,\n",
       "        \"b\": 20,\n",
       "        \"r\": 0,\n",
       "        \"t\": 20\n",
       "    },\n",
       "    \"plot_bgcolor\": \"rgba(255, 255, 255, 1.000)\",\n",
       "    \"yaxis\": {\n",
       "        \"showticklabels\": true,\n",
       "        \"gridwidth\": 0.5,\n",
       "        \"tickvals\": [\n",
       "            0.0,\n",
       "            1.0,\n",
       "            2.0,\n",
       "            3.0,\n",
       "            4.0\n",
       "        ],\n",
       "        \"visible\": true,\n",
       "        \"ticks\": \"inside\",\n",
       "        \"range\": [\n",
       "            -0.2496,\n",
       "            4.3296\n",
       "        ],\n",
       "        \"domain\": [\n",
       "            0.03762029746281716,\n",
       "            0.9901574803149606\n",
       "        ],\n",
       "        \"tickmode\": \"array\",\n",
       "        \"linecolor\": \"rgba(0, 0, 0, 1.000)\",\n",
       "        \"showgrid\": true,\n",
       "        \"title\": \"\",\n",
       "        \"mirror\": false,\n",
       "        \"tickangle\": 0,\n",
       "        \"showline\": true,\n",
       "        \"gridcolor\": \"rgba(0, 0, 0, 0.100)\",\n",
       "        \"titlefont\": {\n",
       "            \"color\": \"rgba(0, 0, 0, 1.000)\",\n",
       "            \"family\": \"sans-serif\",\n",
       "            \"size\": 15\n",
       "        },\n",
       "        \"tickcolor\": \"rgb(0, 0, 0)\",\n",
       "        \"ticktext\": [\n",
       "            \"0\",\n",
       "            \"1\",\n",
       "            \"2\",\n",
       "            \"3\",\n",
       "            \"4\"\n",
       "        ],\n",
       "        \"zeroline\": false,\n",
       "        \"type\": \"-\",\n",
       "        \"tickfont\": {\n",
       "            \"color\": \"rgba(0, 0, 0, 1.000)\",\n",
       "            \"family\": \"sans-serif\",\n",
       "            \"size\": 11\n",
       "        },\n",
       "        \"zerolinecolor\": \"rgba(0, 0, 0, 1.000)\",\n",
       "        \"anchor\": \"x\"\n",
       "    },\n",
       "    \"width\": 600\n",
       "}\n",
       ");\n",
       "    });\n",
       "    </script>\n",
       "\n",
       "    </body>\n",
       "</html>\n"
      ]
     },
     "execution_count": 33,
     "metadata": {},
     "output_type": "execute_result"
    }
   ],
   "source": [
    "#Hagamos el grafico de nuevo\n",
    "f(x) = (74-9x)/20\n",
    "g(x) = (105-18x)/25\n",
    "X = [0,6]\n",
    "plot(X, [f,g], fill = (0, 0.5, :auto), leg=false)\n",
    "\n",
    "\n",
    "#zona x<=1,y<=3\n",
    "plot!([0, 0, 1, 1], [0, 3, 3, 0], fill=(0, 0.5, :auto))\n",
    "annotate!(0.5, 1.5, \"S3\", :color)\n",
    "\n",
    "#zona x>=2, y<=2\n",
    "plot!([2, 2, 6, 6], [0, 2, 2, 0], fill=(0, 0.5, :auto))\n",
    "annotate!(3, 1, \"S5\", :color)\n",
    "\n",
    "#zona y<=3\n",
    "plot!([0, 0, 1, 1], [0, 3, 3, 0], fill=(0, 0.5, :auto))\n",
    "annotate!(0.5, 1.5, \"S3\", :color)\n",
    "\n",
    "\n",
    "#puntos encontrados\n",
    "scatter!([x0, x1, x2, x3,x5],[y0,y1,y2, y3,y5])\n"
   ]
  },
  {
   "cell_type": "markdown",
   "metadata": {},
   "source": [
    " Notamos que $M_6$ es infactible, y la relajación de $M_5$ tiene solución $(3.0555;2)$ con valor $z_5=19.1667$ por lo que queda activo (y podemos actualizar las cotas del árbol de BnB)."
   ]
  },
  {
   "cell_type": "markdown",
   "metadata": {},
   "source": [
    "> Se agregan al árbol BnB los nodos $(M_5,19.1667,\\text{activo})$ y $(M_6,-\\infty, \\text{infactible})$\n",
    ">\n",
    "> La cota superior de M2 se actualiza de 19.8 a $\\max\\{-\\infty, 19.1667\\}=19.1667$.\n",
    ">\n",
    "> La cota superior de M0 se actualiza de 19.8 a $\\max\\{18,19.1667\\}=19.1667$"
   ]
  },
  {
   "cell_type": "markdown",
   "metadata": {},
   "source": [
    "  Nuestro gap mejoró a $(19.1667-18)/18=6.48\\%$. Nuevamente tenemos solo un nodo activo, $M_5$. Lo ramificamos en $x$, definiendo los problemas $M_7$ y $M_8$ con $x\\leq 3$ y $x\\geq 4$ respectivamente"
   ]
  },
  {
   "cell_type": "code",
   "execution_count": 35,
   "metadata": {},
   "outputs": [
    {
     "data": {
      "text/latex": [
       "$$ \\begin{alignat*}{1}\\max\\quad & 3 x + 5 y\\\\\n",
       "\\text{Subject to} \\quad & 9 x + 20 y \\leq 74.0\\\\\n",
       " & 18 x + 25 y \\leq 105.0\\\\\n",
       " & x \\geq 0.0\\\\\n",
       " & y \\geq 0.0\\\\\n",
       " & x \\leq 3.0\\\\\n",
       " & y \\leq 2.0\\\\\n",
       "\\end{alignat*}\n",
       " $$"
      ],
      "text/plain": [
       "A JuMP Model\n",
       "Maximization problem with:\n",
       "Variables: 2\n",
       "Objective function type: GenericAffExpr{Float64,VariableRef}\n",
       "`GenericAffExpr{Float64,VariableRef}`-in-`MathOptInterface.LessThan{Float64}`: 2 constraints\n",
       "`VariableRef`-in-`MathOptInterface.GreaterThan{Float64}`: 2 constraints\n",
       "`VariableRef`-in-`MathOptInterface.LessThan{Float64}`: 2 constraints\n",
       "Model mode: AUTOMATIC\n",
       "CachingOptimizer state: ATTACHED_OPTIMIZER\n",
       "Solver name: Gurobi\n",
       "Names registered in the model: rest1, rest2, x, y"
      ]
     },
     "execution_count": 35,
     "metadata": {},
     "output_type": "execute_result"
    }
   ],
   "source": [
    "#Modelo M7\n",
    "set_lower_bound(modelo[:x],0)\n",
    "set_upper_bound(modelo[:x],3)\n",
    "set_upper_bound(modelo[:y],2) \n",
    "set_lower_bound(modelo[:y],0)\n",
    "modelo\n"
   ]
  },
  {
   "cell_type": "code",
   "execution_count": 36,
   "metadata": {},
   "outputs": [
    {
     "data": {
      "text/plain": [
       "OPTIMAL::TerminationStatusCode = 1"
      ]
     },
     "execution_count": 36,
     "metadata": {},
     "output_type": "execute_result"
    }
   ],
   "source": [
    "#resolver\n",
    "optimize!(modelo)\n",
    "termination_status(modelo)"
   ]
  },
  {
   "cell_type": "code",
   "execution_count": 37,
   "metadata": {},
   "outputs": [
    {
     "name": "stdout",
     "output_type": "stream",
     "text": [
      "z7=19.0 x7=3.0 y7=2.0\n"
     ]
    }
   ],
   "source": [
    "x7=value(modelo[:x])\n",
    "y7=value(modelo[:y])\n",
    "z7=objective_value(modelo)\n",
    "\n",
    "println(\"z7=\",z7,\" x7=\", x7,\" y7=\", y7)"
   ]
  },
  {
   "cell_type": "markdown",
   "metadata": {},
   "source": [
    "¡Punto integral! (nuevo incumbente)\n",
    "> Agregamos al árbol el nodo $(M_7,19,\\text{entero})$.\n",
    ">\n",
    "> Se revisa si hay algún nodo activo dominado por 19 (no hay).\n"
   ]
  },
  {
   "cell_type": "code",
   "execution_count": 38,
   "metadata": {},
   "outputs": [
    {
     "data": {
      "text/latex": [
       "$$ \\begin{alignat*}{1}\\max\\quad & 3 x + 5 y\\\\\n",
       "\\text{Subject to} \\quad & 9 x + 20 y \\leq 74.0\\\\\n",
       " & 18 x + 25 y \\leq 105.0\\\\\n",
       " & x \\geq 4.0\\\\\n",
       " & y \\geq 0.0\\\\\n",
       " & y \\leq 2.0\\\\\n",
       "\\end{alignat*}\n",
       " $$"
      ],
      "text/plain": [
       "A JuMP Model\n",
       "Maximization problem with:\n",
       "Variables: 2\n",
       "Objective function type: GenericAffExpr{Float64,VariableRef}\n",
       "`GenericAffExpr{Float64,VariableRef}`-in-`MathOptInterface.LessThan{Float64}`: 2 constraints\n",
       "`VariableRef`-in-`MathOptInterface.GreaterThan{Float64}`: 2 constraints\n",
       "`VariableRef`-in-`MathOptInterface.LessThan{Float64}`: 1 constraint\n",
       "Model mode: AUTOMATIC\n",
       "CachingOptimizer state: ATTACHED_OPTIMIZER\n",
       "Solver name: Gurobi\n",
       "Names registered in the model: rest1, rest2, x, y"
      ]
     },
     "execution_count": 38,
     "metadata": {},
     "output_type": "execute_result"
    }
   ],
   "source": [
    "#Modelo M8\n",
    "delete_upper_bound(modelo[:x])\n",
    "set_lower_bound(modelo[:x],4)\n",
    "modelo\n"
   ]
  },
  {
   "cell_type": "code",
   "execution_count": 39,
   "metadata": {},
   "outputs": [
    {
     "data": {
      "text/plain": [
       "OPTIMAL::TerminationStatusCode = 1"
      ]
     },
     "execution_count": 39,
     "metadata": {},
     "output_type": "execute_result"
    }
   ],
   "source": [
    "#resolver\n",
    "optimize!(modelo)\n",
    "termination_status(modelo)"
   ]
  },
  {
   "cell_type": "code",
   "execution_count": 40,
   "metadata": {},
   "outputs": [
    {
     "name": "stdout",
     "output_type": "stream",
     "text": [
      "z8=18.6 x8=4.0 y8=1.32\n"
     ]
    }
   ],
   "source": [
    "x8=value(modelo[:x])\n",
    "y8=value(modelo[:y])\n",
    "z8=objective_value(modelo)\n",
    "\n",
    "println(\"z8=\",z8,\" x8=\", x8,\" y8=\", y8)"
   ]
  },
  {
   "cell_type": "code",
   "execution_count": null,
   "metadata": {},
   "outputs": [],
   "source": [
    "#Hagamos el grafico de nuevo\n",
    "f(x) = (74-9x)/20\n",
    "g(x) = (105-18x)/25\n",
    "X = [0,6]\n",
    "plot(X, [f,g], fill = (0, 0.5, :auto), leg=false)\n",
    "\n",
    "\n",
    "#zona x<=1,y<=3\n",
    "plot!([0, 0, 1, 1], [0, 3, 3, 0], fill=(0, 0.5, :auto))\n",
    "annotate!(0.5, 1.5, \"S3\", :color)\n",
    "\n",
    "#zona 2<=x<=3, y<=2\n",
    "plot!([2, 2, 3, 3], [0, 2, 2, 0], fill=(0, 0.5, :auto))\n",
    "annotate!(2.5, 1, \"S7\", :color)\n",
    "\n",
    "#zona 4<=x, y<=2\n",
    "plot!([4, 4, 6, 6], [0, 2, 2, 0], fill=(0, 0.5, :auto))\n",
    "annotate!(4.5, 0.5, \"S8\", :color)\n",
    "\n",
    "\n",
    "#puntos encontrados\n",
    "scatter!([x0, x1, x2, x3,x5, x7, x8],[y0,y1,y2, y3,y5, y7, y8])\n"
   ]
  },
  {
   "cell_type": "markdown",
   "metadata": {},
   "source": [
    " Al resolver la relajación de $M_7$ se obtiene una solución **integral** $(x_7,y_7)=(3,2)$ con $z_7=19$. Como 19 es mayor que nuestro valor incumbente actual, éste se actualiza. Por otro lado al resolver la relajación de $M_8$ se obtiene una solución fraccional $(x_8,y_8)=(4;1.32)$ con $z_8=18.6$. Pero esta vez $z_8$ es peor que el valor incumbente (19), por lo que se declara **dominado**  (o podado por cota).\n",
    "    \n",
    "    \n",
    "    Con esto hemos completado el árbol de BnB y obtenemos que la solución óptima es $(3,2)$ de valor 19."
   ]
  },
  {
   "cell_type": "markdown",
   "metadata": {},
   "source": [
    "#  Usando un solver"
   ]
  },
  {
   "cell_type": "markdown",
   "metadata": {},
   "source": [
    " Hay muchos solvers comerciales que realizan BnB de manera muy eficiente (eligen buenos nodos activos para ramificar, hacen branching en buenas variables, etc.) y de hecho aplican varias heurísticas y otros algoritmos que aceleran aún más su ejecución. Por completitud, abajo anotamos una serie de instrucciones para ejecutar GUROBI sobre nuestro modelo (y dando directrices de modo que el orden de ramificado, etc. sea el mismo que nosotros usamos en el ejemplo anterior):"
   ]
  },
  {
   "cell_type": "code",
   "execution_count": 20,
   "metadata": {},
   "outputs": [
    {
     "name": "stdout",
     "output_type": "stream",
     "text": [
      "Academic license - for non-commercial use only - expires 2021-05-20\r\n",
      "Gurobi Optimizer version 9.1.1 build v9.1.1rc0 (win64)\r\n",
      "Thread count: 4 physical cores, 8 logical processors, using up to 1 threads\r\n",
      "Optimize a model with 2 rows, 2 columns and 4 nonzeros\r\n",
      "Model fingerprint: 0x71254c14\r\n",
      "Variable types: 0 continuous, 2 integer (0 binary)\r\n",
      "Coefficient statistics:\r\n",
      "  Matrix range     [9e+00, 3e+01]\r\n",
      "  Objective range  [3e+00, 5e+00]\r\n",
      "  Bounds range     [0e+00, 0e+00]\r\n",
      "  RHS range        [7e+01, 1e+02]\r\n",
      "Variable types: 0 continuous, 2 integer (0 binary)\r\n",
      "\r\n",
      "Root relaxation: objective 1.988889e+01, 2 iterations, 0.00 seconds\r\n",
      "\r\n",
      "    Nodes    |    Current Node    |     Objective Bounds      |     Work\r\n",
      " Expl Unexpl |  Obj  Depth IntInf | Incumbent    BestBd   Gap | It/Node Time\r\n",
      "\r\n",
      "     0     0   19.88889    0    2          -   19.88889      -     -    0s\r\n",
      "     0     0   19.88889    0    2          -   19.88889      -     -    0s\r\n",
      "     0     2   19.66667    0    2          -   19.66667      -     -    0s\r\n",
      "*    1     1               1      18.0000000   19.16667  6.48%   2.0    0s\r\n",
      "*    2     0               1      19.0000000   19.00000  0.00%   2.0    0s\r\n",
      "\r\n",
      "Explored 3 nodes (6 simplex iterations) in 0.00 seconds\r\n",
      "Thread count was 1 (of 8 available processors)\r\n",
      "\r\n",
      "Solution count 2: 19 18 \r\n",
      "\r\n",
      "Optimal solution found (tolerance 1.00e-04)\r\n",
      "Best objective 1.900000000000e+01, best bound 1.900000000000e+01, gap 0.0000%\r\n",
      "\r\n",
      "User-callback calls 49, time in user-callback 0.00 sec\r\n"
     ]
    },
    {
     "data": {
      "text/plain": [
       "OPTIMAL::TerminationStatusCode = 1"
      ]
     },
     "execution_count": 20,
     "metadata": {},
     "output_type": "execute_result"
    }
   ],
   "source": [
    "#Recreamos el objeto modelo\n",
    "modelonuevo= Model()\n",
    "@variable(modelonuevo, x>=0)\n",
    "@variable(modelonuevo, y>=0)\n",
    "@constraint(modelonuevo, rest1, 20y + 9x<=74)\n",
    "@constraint(modelonuevo, rest2, 25y+ 18x<=105)\n",
    "\n",
    "#función objetivo\n",
    "@objective(modelonuevo, Max, 3x+5y)\n",
    "\n",
    "#declaramos las variables como enteras\n",
    "set_integer(modelonuevo[:x])\n",
    "set_integer(modelonuevo[:y])\n",
    "\n",
    "#Le indicamos a JuMP que el solver a utilizar es Gurobi y eliminamos presolver\n",
    "set_optimizer(modelonuevo, Gurobi.Optimizer)\n",
    "set_optimizer_attributes(modelonuevo, \"Presolve\" => 0, \"Heuristics\"=> 0, \"Cuts\"=> 0, \"Threads\" => 1, \"BranchDir\" => 1) \n",
    "\n",
    "#declaramos atributos (branch primero en x luego en y)\n",
    "MOI.set(modelonuevo, Gurobi.VariableAttribute(\"BranchPriority\"), y, 20)  \n",
    "MOI.set(modelonuevo, Gurobi.VariableAttribute(\"BranchPriority\"), x, 1)  \n",
    "\n",
    "\n",
    "#resolver\n",
    "\n",
    "optimize!(modelonuevo)\n",
    "termination_status(modelonuevo)"
   ]
  },
  {
   "cell_type": "markdown",
   "metadata": {},
   "source": [
    "Gurobi realiza un árbol de BnB parecido al nuestro, pero es más eficiente en su implementación: cada vez que un nodo se ramifica en 2 y uno de ellos es infactible o dominado, continúa bajando por el árbol (es decir no crea nuestros nodos 1, 4, 2, 6, 8) hasta que deja un par de nodos activos.\n",
    "Otros solvers realizan otras variantes de BnB. "
   ]
  },
  {
   "cell_type": "markdown",
   "metadata": {},
   "source": [
    "# Algunas consideraciones para hacer BnB eficiente"
   ]
  },
  {
   "cell_type": "markdown",
   "metadata": {},
   "source": [
    "1. **PLs similares**\n",
    "\n",
    "En general el PL $(L)$ asociado a un nodo es muy similar al PL asociado al de su padre (son solo cotas de variable extras) por lo que podemos resolver $(L)$ de manera más eficiente a partir de la solución óptima del padre usando una iteración de **simplex-dual**."
   ]
  },
  {
   "cell_type": "markdown",
   "metadata": {},
   "source": [
    "2. **Selección de nodos activos**\n",
    "    \n",
    "El rendimiento de BnB depende fuertemente de la manera como se elige el nodo activo para ramificar (cuando hay varios de estos). Aquí hay dos objetivos que compiten: (1) Encontrar rápidamente un incumbente (2) Acotar rápidamente la cota $B_0$ del nodo raíz.\n",
    "\n",
    "Algunas estrategias estándar para seleccionar nodos son \n",
    "   **Búsqueda en profundidad (DFS)**\n",
    "   \n",
    "   *Ventajas*: apunta a encontrar un incumbente rápidamente con pocos nodos. \n",
    "        \n",
    "   *Desventajas*: puede explorar un área \\emph{mala} del árbol con nodos sin buenas soluciones.\n",
    "   \n",
    "   **Desarrollar el mejor nodo (best-node)** Consiste en buscar el nodo activo $(M)$ cuya cota $(B)$ es la más alta posible. \n",
    "   \n",
    "   *Ventajas*: Las mejores soluciones integrales se deben encontrar en nodos con cotas altas, por lo que esta estrategia apunta a encontrar rápidamente buenas soluciones (o acotar rápidamente $B_0$)\n",
    "   \n",
    "   *Desventajas*: Muchos nodos deben permanecer activos por largo tiempo, provocando que se deba usar una gran cantidad de memoria.\n",
    "   \n",
    "   **Estrategias más avanzadas** Involucran crear un estimador de cuanto debería degradarse el valor de la cota $B$ en un nodo dado de acuerdo a su PL y luego elegir aquel con mayor valor estimado para la cota. En la práctica se ocupan estrategias mixtas como por ejemplo hacer DFS hasta que se encuentre un incumbente y luego seleccionar mejor nodo. \n",
    "  \n",
    "  Gurobi hace esto automáticamente (Cplex permite un poco más de control)"
   ]
  },
  {
   "cell_type": "markdown",
   "metadata": {},
   "source": [
    "3. **Selección de variable a ramificar en un nodo**  \n",
    "  Ver por ejemplo [Parámetro VarBranch de Gurobi](https://www.gurobi.com/documentation/9.0/refman/varbranch.html#parameter:VarBranch)\n",
    "        \n",
    "Puede que la solución fraccional $\\bar{x}$ del nodo que ha sido elegido tenga múltiples variables fraccionales. Una forma estándar es elegir la variable $x_j$ con $j\\in E$ más fraccional (la más cercana a 0.5).\n",
    "\n",
    "Otra alternativa llamada *strong branching* involucra resolver pequeñas variaciones del PL original para determinar cual es la variable $x_j$ cuya ramificación produce el mayor decrecimiento en la cota superior $B$ del nodo a ramificar. Esta solución es \n",
    "más cara (involucra resolver un número de PL proporcional a las variables fraccionales) pero en la práctica resulta ser útil."
   ]
  },
  {
   "cell_type": "markdown",
   "metadata": {},
   "source": [
    "4. **Criterios de término**\n",
    "\n",
    "    BnB puede tomar un tiempo prohibitivo pero podemos detener el proceso en cualquier momento y, si para entonces tenemos un incumbente, podemos retornar una solución factible y una estimación (GAP relativo) de cuan cerca de ser óptima es la solución. Criterios típicos de término temprano incluyen detener la ejecución si:\n",
    "    El tiempo de reloj excede un máximo establecido, si el número de nodos procesados excede un máximo, si la memoria necesaria excede un umbral, si el gap relativo o si el gap absoluto ($B - z^*$) es menor que una tolerancia preestablecida.\n",
    "    Ver por ejemplo los siguientes atributos en Gurobi\n",
    "\n",
    "| Atributo | Descripción \n",
    "| --- | --- | \n",
    "| BarIterLimit | Limite de iteraciones para método barrera |\n",
    "| BestBdStop | Parar si la mejor cota encontrada es mejor (menor) que el parámetro |\n",
    "| BestObjStop | Parar si el incumbente es mejor (mayor) que el parámetro |\n",
    "| Cutoff\t| Indica que no estamos interesados en soluciones peores que el parámetro |\n",
    "| IterationLimit | Limite de iteraciones de simplex |\n",
    "| NodeLimit | Limite de nodos en el BnB |\n",
    "| SolutionLimit | Limite de soluciones enteras encontradas |\n",
    "| TimeLimit | Limite de tiempo total |\n",
    "\n",
    "\n",
    "\n",
    "   \n",
    "    \n",
    "5. **Heurísticas**\n",
    "\n",
    "    En muchos casos es posible determinar buenas soluciones factibles (incumbentes) en un nodo cualquiera mediante heurísticas. Por ejemplo, podemos aplicar un algoritmo simple (como glotón o programación dinámica) para encontrar una buena solución factible antes de comenzar BnB. De este modo muchas ramas pueden ser podadas rápidamente por cota al estar dominadas. Otras heurísticas típicas pueden ser usadas en cada nodo. Por ejemplo, redondear (de alguna forma inteligente) una buena solución fraccional puede producir una buena solución factible o bien, usar las soluciones enteras que podrían aparecer mientras se ejecuta SIMPLEX en un nodo. Esto se puede incorporar fácilmente al algoritmo genérico de BnB que ya vimos.\n",
    "    Gurobi tiene heurísticas muy buenas incorporadas por defecto.\n",
    "    Se pueden activar / desactivar cambiando el [Parámetro Heuristics de Gurobi](https://www.gurobi.com/documentation/9.0/refman/heuristics.html#parameter:Heuristics)\n",
    "    \n",
    "    \n",
    "6. **Usar presolver**\n",
    "\n",
    "    El presolver típicamente es capaz de reducir la complejidad del modelo de manera automática (eliminando variables, restricciones, cotas innecesarias, etc.). El presolver de Gurobi está activado por defecto.\n",
    "    \n",
    "    \n",
    "    \n",
    "7. **Usar Cortes** (branch and cut)\n",
    "\n",
    "    En realidad BnB no es un buen método por si solo. Lo ideal es mejorar la formulación en cada nodo. Esto se puede hacer automáticamente mediante el uso de planos cortantes, como lo veremos más adelante.\n",
    "\n",
    "    "
   ]
  },
  {
   "cell_type": "code",
   "execution_count": null,
   "metadata": {},
   "outputs": [],
   "source": []
  }
 ],
 "metadata": {
  "kernelspec": {
   "display_name": "Julia 1.5.4",
   "language": "julia",
   "name": "julia-1.5"
  },
  "language_info": {
   "file_extension": ".jl",
   "mimetype": "application/julia",
   "name": "julia",
   "version": "1.5.4"
  }
 },
 "nbformat": 4,
 "nbformat_minor": 2
}
