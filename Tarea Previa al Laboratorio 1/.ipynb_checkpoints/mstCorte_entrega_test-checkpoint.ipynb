{
 "cells": [
  {
   "cell_type": "code",
   "execution_count": 5,
   "metadata": {},
   "outputs": [
    {
     "name": "stderr",
     "output_type": "stream",
     "text": [
      "\u001b[32m\u001b[1m    Updating\u001b[22m\u001b[39m registry at `C:\\Users\\Personal\\.julia\\registries\\General.toml`\n",
      "\u001b[32m\u001b[1m   Resolving\u001b[22m\u001b[39m package versions...\n",
      "\u001b[32m\u001b[1m  No Changes\u001b[22m\u001b[39m to `C:\\Users\\Personal\\.julia\\environments\\v1.7\\Project.toml`\n",
      "\u001b[32m\u001b[1m  No Changes\u001b[22m\u001b[39m to `C:\\Users\\Personal\\.julia\\environments\\v1.7\\Manifest.toml`\n"
     ]
    }
   ],
   "source": [
    "import Pkg; Pkg.add(\"Combinatorics\")"
   ]
  },
  {
   "cell_type": "code",
   "execution_count": 11,
   "metadata": {},
   "outputs": [],
   "source": [
    "#!/bin/julia\n",
    "using JuMP, Gurobi, Combinatorics, DelimitedFiles, LinearAlgebra;"
   ]
  },
  {
   "cell_type": "code",
   "execution_count": 28,
   "metadata": {},
   "outputs": [
    {
     "data": {
      "text/plain": [
       "matriz_de_adyacencia (generic function with 1 method)"
      ]
     },
     "execution_count": 28,
     "metadata": {},
     "output_type": "execute_result"
    }
   ],
   "source": [
    "function nodos(W)\n",
    "    #============================================================\n",
    "    Descripcion de la funcion:\n",
    "    \n",
    "    ============================================================#\n",
    "    nodos = []\n",
    "    cantidad_de_aristas = size(W)[1] \n",
    "    for i in 1:cantidad_de_aristas\n",
    "        for j in 1:2\n",
    "            if W[i,j] in nodos\n",
    "                continue \n",
    "            else \n",
    "                append!(nodos, [W[i,j]])\n",
    "            end\n",
    "        end\n",
    "    end\n",
    "    output = nodos,length(nodos)\n",
    "return output\n",
    "end\n",
    "\n",
    "function matriz_de_adyacencia(W)\n",
    "    #=======================================================================\n",
    "    Descripcion de la funcion:\n",
    "    Recibe un grafo W y retorna su matriz de adyacencia, que resulta ser una\n",
    "    matriz cuadrada simetrica.\n",
    "    =======================================================================#\n",
    "    # Arreglos con los elementos del grafo\n",
    "    vertices = nodos(W)[1]\n",
    "    aristas = W\n",
    "    # cardinales en el grafo\n",
    "    cantidad_de_vertices = nodos(W)[2]\n",
    "    cantidad_de_aristas = size(W)[1]\n",
    "    # Matriz de adyacencia\n",
    "    matriz_de_adyacencia = zeros(cantidad_de_vertices, cantidad_de_vertices)\n",
    "    for e in 1:cantidad_de_aristas\n",
    "        #===================================================================\n",
    "        Matriz de adyacencia:\n",
    "        En el termino (i,j) guarda el peso de la arista que conecta los\n",
    "        nodos i,j, en caso que no haya arista el peso sera zero\n",
    "        ===================================================================#\n",
    "        matriz_de_adyacencia[W[e,1], W[e,2]] = W[e,3];\n",
    "        matriz_de_adyacencia[W[e,2], W[e,1]] = W[e,3];\n",
    "    end\n",
    "    output = matriz_de_adyacencia\n",
    "return output\n",
    "end"
   ]
  },
  {
   "cell_type": "code",
   "execution_count": 30,
   "metadata": {},
   "outputs": [
    {
     "name": "stdout",
     "output_type": "stream",
     "text": [
      "Los vertices de la instancia 1 son:\n",
      "nodos(W1) = (Any[1, 2, 3, 4, 5, 6, 7], 7)\n",
      "Los vertices de la instancia 2 son:\n",
      "nodos(W2) = (Any[1, 2, 3, 4, 10, 6, 5, 7, 9, 8], 10)\n"
     ]
    },
    {
     "data": {
      "text/plain": [
       "(Any[1, 2, 3, 4, 10, 6, 5, 7, 9, 8], 10)"
      ]
     },
     "execution_count": 30,
     "metadata": {},
     "output_type": "execute_result"
    }
   ],
   "source": [
    "# Test de la funcion nodos\n",
    "println(\"Los vertices de la instancia 1 son:\")\n",
    "@show nodos(W1)\n",
    "println(\"Los vertices de la instancia 2 son:\")\n",
    "@show nodos(W2)"
   ]
  },
  {
   "cell_type": "code",
   "execution_count": 33,
   "metadata": {},
   "outputs": [
    {
     "name": "stdout",
     "output_type": "stream",
     "text": [
      "La matriz de adyacencia de la instancia 1 es:\n",
      "matriz_de_adyacencia(W1) = [0.0 1.0 0.0 0.0 0.0 0.0 2.0; 1.0 0.0 1.0 0.0 0.0 0.0 0.0; 0.0 1.0 0.0 3.0 1.0 0.0 0.0; 0.0 0.0 3.0 0.0 1.0 0.0 0.0; 0.0 0.0 1.0 1.0 0.0 1.0 0.0; 0.0 0.0 0.0 0.0 1.0 0.0 1.0; 2.0 0.0 0.0 0.0 0.0 1.0 0.0]\n"
     ]
    },
    {
     "data": {
      "text/plain": [
       "7×7 Matrix{Float64}:\n",
       " 0.0  1.0  0.0  0.0  0.0  0.0  2.0\n",
       " 1.0  0.0  1.0  0.0  0.0  0.0  0.0\n",
       " 0.0  1.0  0.0  3.0  1.0  0.0  0.0\n",
       " 0.0  0.0  3.0  0.0  1.0  0.0  0.0\n",
       " 0.0  0.0  1.0  1.0  0.0  1.0  0.0\n",
       " 0.0  0.0  0.0  0.0  1.0  0.0  1.0\n",
       " 2.0  0.0  0.0  0.0  0.0  1.0  0.0"
      ]
     },
     "execution_count": 33,
     "metadata": {},
     "output_type": "execute_result"
    }
   ],
   "source": [
    "# Test de la funcion matriz_de_adyacencia\n",
    "println(\"La matriz de adyacencia de la instancia 1 es:\")\n",
    "@show matriz_de_adyacencia(W1)"
   ]
  },
  {
   "cell_type": "code",
   "execution_count": 34,
   "metadata": {},
   "outputs": [
    {
     "name": "stdout",
     "output_type": "stream",
     "text": [
      "La matriz de adyacencia de la instancia 2 es:\n",
      "matriz_de_adyacencia(W2) = [0.0 9.0 9.0 8.0 0.0 0.0 0.0 0.0 0.0 18.0; 9.0 0.0 3.0 0.0 0.0 6.0 0.0 0.0 0.0 0.0; 9.0 3.0 0.0 9.0 2.0 4.0 0.0 0.0 0.0 0.0; 8.0 0.0 9.0 0.0 8.0 0.0 7.0 0.0 9.0 10.0; 0.0 0.0 2.0 8.0 0.0 2.0 9.0 0.0 0.0 0.0; 0.0 6.0 4.0 0.0 2.0 0.0 9.0 0.0 0.0 0.0; 0.0 0.0 0.0 7.0 9.0 9.0 0.0 4.0 5.0 0.0; 0.0 0.0 0.0 0.0 0.0 0.0 4.0 0.0 1.0 4.0; 0.0 0.0 0.0 9.0 0.0 0.0 5.0 1.0 0.0 3.0; 18.0 0.0 0.0 10.0 0.0 0.0 0.0 4.0 3.0 0.0]\n"
     ]
    },
    {
     "data": {
      "text/plain": [
       "10×10 Matrix{Float64}:\n",
       "  0.0  9.0  9.0   8.0  0.0  0.0  0.0  0.0  0.0  18.0\n",
       "  9.0  0.0  3.0   0.0  0.0  6.0  0.0  0.0  0.0   0.0\n",
       "  9.0  3.0  0.0   9.0  2.0  4.0  0.0  0.0  0.0   0.0\n",
       "  8.0  0.0  9.0   0.0  8.0  0.0  7.0  0.0  9.0  10.0\n",
       "  0.0  0.0  2.0   8.0  0.0  2.0  9.0  0.0  0.0   0.0\n",
       "  0.0  6.0  4.0   0.0  2.0  0.0  9.0  0.0  0.0   0.0\n",
       "  0.0  0.0  0.0   7.0  9.0  9.0  0.0  4.0  5.0   0.0\n",
       "  0.0  0.0  0.0   0.0  0.0  0.0  4.0  0.0  1.0   4.0\n",
       "  0.0  0.0  0.0   9.0  0.0  0.0  5.0  1.0  0.0   3.0\n",
       " 18.0  0.0  0.0  10.0  0.0  0.0  0.0  4.0  3.0   0.0"
      ]
     },
     "execution_count": 34,
     "metadata": {},
     "output_type": "execute_result"
    }
   ],
   "source": [
    "# Test de la funcion matriz_de_adyacencia\n",
    "println(\"La matriz de adyacencia de la instancia 2 es:\")\n",
    "@show matriz_de_adyacencia(W2)"
   ]
  },
  {
   "cell_type": "code",
   "execution_count": 53,
   "metadata": {},
   "outputs": [
    {
     "data": {
      "text/plain": [
       "funMST2 (generic function with 1 method)"
      ]
     },
     "execution_count": 53,
     "metadata": {},
     "output_type": "execute_result"
    }
   ],
   "source": [
    "function funMST2(W)\n",
    "    mdl = Model()\n",
    "\n",
    "    #Le indicamos a JuMP que el solver a utilizar es Gurobi y eliminamos presolver\n",
    "    set_optimizer(mdl, Gurobi.Optimizer)\n",
    "    set_optimizer_attributes(mdl, \"Presolve\" => 0, \"OutputFlag\" => 0) \n",
    "    \n",
    "    # Arreglos con los elementos del grafo\n",
    "    vertices = nodos(W)[1]\n",
    "    aristas = W\n",
    "    # cardinales en el grafo\n",
    "    cantidad_de_vertices = nodos(W)[2]\n",
    "    cantidad_de_aristas = size(W)[1]\n",
    "    # Matriz de adyacencia\n",
    "    matriz = matriz_de_adyacencia(W)\n",
    "    \n",
    "    #=======================================================================\n",
    "    Variables del problema\n",
    "    =======================================================================#\n",
    "    x = @variable(mdl, x[i in 1:cantidad_de_vertices, j in 1:cantidad_de_vertices], Bin)\n",
    "    #=======================================================================\n",
    "    Restricciones del problema\n",
    "    =======================================================================#\n",
    "    # Condicion de simetria de la matriz\n",
    "    for i in 1:cantidad_de_vertices, j in 1:cantidad_de_vertices\n",
    "        if matriz[i,j] != 0\n",
    "            @constraint(mdl, x[i,j] == x[j,i])\n",
    "        end\n",
    "    end\n",
    "    # Condicion para no considerar aristas imaginarias de peso zero\n",
    "    for i in 1:cantidad_de_vertices, j in 1:cantidad_de_vertices\n",
    "        if matriz[i,j] == 0\n",
    "            @constraint(mdl, x[i,j] == 0)\n",
    "        end\n",
    "    end\n",
    "    # Condicion de arbol\n",
    "    @constraint(mdl, sum(x)/2 == cantidad_de_vertices -1)\n",
    "    # Condicion de corte\n",
    "    for S in powerset(1:cantidad_de_vertices)\n",
    "        if (length(S)>0) && (length(S) < cantidad_de_vertices)\n",
    "            @constraint(mdl, sum(x[i,j] for i in setdiff(1:cantidad_de_vertices,S), j in S) >= 1)\n",
    "        end\n",
    "    end\n",
    "    #=======================================================================\n",
    "    Funcion objetivo y optimizacion\n",
    "    =======================================================================#\n",
    "    @objective(mdl, Min, sum(x[i,j] * matriz[i,j] / 2 for i in 1:cantidad_de_vertices, j in 1:cantidad_de_vertices))\n",
    "    optimize!(mdl)\n",
    "    return(objective_value(mdl));\n",
    "end"
   ]
  },
  {
   "cell_type": "code",
   "execution_count": 51,
   "metadata": {},
   "outputs": [
    {
     "name": "stdout",
     "output_type": "stream",
     "text": [
      "Set parameter Username\n",
      "Academic license - for non-commercial use only - expires 2023-03-09\n",
      "Set parameter Presolve to value 0\n"
     ]
    },
    {
     "data": {
      "text/plain": [
       "6.0"
      ]
     },
     "execution_count": 51,
     "metadata": {},
     "output_type": "execute_result"
    }
   ],
   "source": [
    "# Test de la funcion funMST2 para la instancia 1\n",
    "W1=readdlm(\"instancia1.txt\", ',', Int, '\\n')\n",
    "funMST2(W1)"
   ]
  },
  {
   "cell_type": "code",
   "execution_count": 52,
   "metadata": {},
   "outputs": [
    {
     "name": "stdout",
     "output_type": "stream",
     "text": [
      "Set parameter Username\n",
      "Academic license - for non-commercial use only - expires 2023-03-09\n",
      "Set parameter Presolve to value 0\n"
     ]
    },
    {
     "data": {
      "text/plain": [
       "38.0"
      ]
     },
     "execution_count": 52,
     "metadata": {},
     "output_type": "execute_result"
    }
   ],
   "source": [
    "# Test de la funcion funMST2 para la instancia 2\n",
    "W2=readdlm(\"instancia2.txt\", ',', Int, '\\n')\n",
    "funMST2(W2)"
   ]
  }
 ],
 "metadata": {
  "kernelspec": {
   "display_name": "Julia 1.7.2",
   "language": "julia",
   "name": "julia-1.7"
  },
  "language_info": {
   "file_extension": ".jl",
   "mimetype": "application/julia",
   "name": "julia",
   "version": "1.7.2"
  }
 },
 "nbformat": 4,
 "nbformat_minor": 4
}
