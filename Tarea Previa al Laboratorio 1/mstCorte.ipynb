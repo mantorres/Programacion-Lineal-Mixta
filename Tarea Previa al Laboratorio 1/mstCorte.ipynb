{
 "cells": [
  {
   "cell_type": "code",
   "execution_count": 1,
   "metadata": {},
   "outputs": [
    {
     "name": "stderr",
     "output_type": "stream",
     "text": [
      "\u001b[32m\u001b[1m    Updating\u001b[22m\u001b[39m registry at `C:\\Users\\Personal\\.julia\\registries\\General.toml`\n",
      "\u001b[32m\u001b[1m   Resolving\u001b[22m\u001b[39m package versions...\n",
      "\u001b[32m\u001b[1m  No Changes\u001b[22m\u001b[39m to `C:\\Users\\Personal\\.julia\\environments\\v1.7\\Project.toml`\n",
      "\u001b[32m\u001b[1m  No Changes\u001b[22m\u001b[39m to `C:\\Users\\Personal\\.julia\\environments\\v1.7\\Manifest.toml`\n"
     ]
    }
   ],
   "source": [
    "import Pkg; Pkg.add(\"Combinatorics\")"
   ]
  },
  {
   "cell_type": "code",
   "execution_count": 2,
   "metadata": {},
   "outputs": [],
   "source": [
    "#!/bin/julia\n",
    "using JuMP, Gurobi, Combinatorics, DelimitedFiles, LinearAlgebra;"
   ]
  },
  {
   "cell_type": "code",
   "execution_count": 3,
   "metadata": {},
   "outputs": [
    {
     "data": {
      "text/plain": [
       "matriz_de_adyacencia (generic function with 1 method)"
      ]
     },
     "execution_count": 3,
     "metadata": {},
     "output_type": "execute_result"
    }
   ],
   "source": [
    "function nodos(W)\n",
    "    #============================================================\n",
    "    Descripcion de la funcion:\n",
    "    \n",
    "    ============================================================#\n",
    "    nodos = []\n",
    "    cantidad_de_aristas = size(W)[1] \n",
    "    for i in 1:cantidad_de_aristas\n",
    "        for j in 1:2\n",
    "            if W[i,j] in nodos\n",
    "                continue \n",
    "            else \n",
    "                append!(nodos, [W[i,j]])\n",
    "            end\n",
    "        end\n",
    "    end\n",
    "    output = nodos,length(nodos)\n",
    "return output\n",
    "end\n",
    "\n",
    "function matriz_de_adyacencia(W)\n",
    "    #=======================================================================\n",
    "    Descripcion de la funcion:\n",
    "    Recibe un grafo W y retorna su matriz de adyacencia, que resulta ser una\n",
    "    matriz cuadrada simetrica.\n",
    "    =======================================================================#\n",
    "    # Arreglos con los elementos del grafo\n",
    "    vertices = nodos(W)[1]\n",
    "    aristas = W\n",
    "    # cardinales en el grafo\n",
    "    cantidad_de_vertices = nodos(W)[2]\n",
    "    cantidad_de_aristas = size(W)[1]\n",
    "    # Matriz de adyacencia\n",
    "    matriz_de_adyacencia = zeros(cantidad_de_vertices, cantidad_de_vertices)\n",
    "    for e in 1:cantidad_de_aristas\n",
    "        #===================================================================\n",
    "        Matriz de adyacencia:\n",
    "        En el termino (i,j) guarda el peso de la arista que conecta los\n",
    "        nodos i,j, en caso que no haya arista el peso sera zero\n",
    "        ===================================================================#\n",
    "        matriz_de_adyacencia[W[e,1], W[e,2]] = W[e,3];\n",
    "        matriz_de_adyacencia[W[e,2], W[e,1]] = W[e,3];\n",
    "    end\n",
    "    output = matriz_de_adyacencia\n",
    "return output\n",
    "end"
   ]
  },
  {
   "cell_type": "code",
   "execution_count": 4,
   "metadata": {},
   "outputs": [
    {
     "name": "stdout",
     "output_type": "stream",
     "text": [
      "Los vertices de la instancia 1 son:\n"
     ]
    },
    {
     "ename": "LoadError",
     "evalue": "UndefVarError: W1 not defined",
     "output_type": "error",
     "traceback": [
      "UndefVarError: W1 not defined",
      "",
      "Stacktrace:",
      " [1] top-level scope",
      "   @ show.jl:1047",
      " [2] eval",
      "   @ .\\boot.jl:373 [inlined]",
      " [3] include_string(mapexpr::typeof(REPL.softscope), mod::Module, code::String, filename::String)",
      "   @ Base .\\loading.jl:1196"
     ]
    }
   ],
   "source": [
    "# Test de la funcion nodos\n",
    "println(\"Los vertices de la instancia 1 son:\")\n",
    "@show nodos(W1)\n",
    "println(\"Los vertices de la instancia 2 son:\")\n",
    "@show nodos(W2)"
   ]
  },
  {
   "cell_type": "code",
   "execution_count": 5,
   "metadata": {},
   "outputs": [
    {
     "name": "stdout",
     "output_type": "stream",
     "text": [
      "La matriz de adyacencia de la instancia 1 es:\n"
     ]
    },
    {
     "ename": "LoadError",
     "evalue": "UndefVarError: W1 not defined",
     "output_type": "error",
     "traceback": [
      "UndefVarError: W1 not defined",
      "",
      "Stacktrace:",
      " [1] top-level scope",
      "   @ show.jl:1047",
      " [2] eval",
      "   @ .\\boot.jl:373 [inlined]",
      " [3] include_string(mapexpr::typeof(REPL.softscope), mod::Module, code::String, filename::String)",
      "   @ Base .\\loading.jl:1196"
     ]
    }
   ],
   "source": [
    "# Test de la funcion matriz_de_adyacencia\n",
    "println(\"La matriz de adyacencia de la instancia 1 es:\")\n",
    "@show matriz_de_adyacencia(W1)"
   ]
  },
  {
   "cell_type": "code",
   "execution_count": 6,
   "metadata": {},
   "outputs": [
    {
     "name": "stdout",
     "output_type": "stream",
     "text": [
      "La matriz de adyacencia de la instancia 2 es:\n"
     ]
    },
    {
     "ename": "LoadError",
     "evalue": "UndefVarError: W2 not defined",
     "output_type": "error",
     "traceback": [
      "UndefVarError: W2 not defined",
      "",
      "Stacktrace:",
      " [1] top-level scope",
      "   @ show.jl:1047",
      " [2] eval",
      "   @ .\\boot.jl:373 [inlined]",
      " [3] include_string(mapexpr::typeof(REPL.softscope), mod::Module, code::String, filename::String)",
      "   @ Base .\\loading.jl:1196"
     ]
    }
   ],
   "source": [
    "# Test de la funcion matriz_de_adyacencia\n",
    "println(\"La matriz de adyacencia de la instancia 2 es:\")\n",
    "@show matriz_de_adyacencia(W2)"
   ]
  },
  {
   "cell_type": "code",
   "execution_count": 7,
   "metadata": {},
   "outputs": [
    {
     "data": {
      "text/plain": [
       "funMST2 (generic function with 1 method)"
      ]
     },
     "execution_count": 7,
     "metadata": {},
     "output_type": "execute_result"
    }
   ],
   "source": [
    "function funMST2(W)\n",
    "    mdl = Model()\n",
    "\n",
    "    #Le indicamos a JuMP que el solver a utilizar es Gurobi y eliminamos presolver\n",
    "    set_optimizer(mdl, Gurobi.Optimizer)\n",
    "    set_optimizer_attributes(mdl, \"Presolve\" => 0, \"OutputFlag\" => 0) \n",
    "    \n",
    "    # Arreglos con los elementos del grafo\n",
    "    vertices = nodos(W)[1]\n",
    "    aristas = W\n",
    "    # cardinales en el grafo\n",
    "    cantidad_de_vertices = nodos(W)[2]\n",
    "    cantidad_de_aristas = size(W)[1]\n",
    "    # Matriz de adyacencia\n",
    "    matriz = matriz_de_adyacencia(W)\n",
    "    \n",
    "    #=======================================================================\n",
    "    Variables del problema\n",
    "    =======================================================================#\n",
    "    x = @variable(mdl, x[i in 1:cantidad_de_vertices, j in 1:cantidad_de_vertices], Bin)\n",
    "    #=======================================================================\n",
    "    Restricciones del problema\n",
    "    =======================================================================#\n",
    "    # Condicion de simetria de la matriz\n",
    "    for i in 1:cantidad_de_vertices, j in 1:cantidad_de_vertices\n",
    "        if matriz[i,j] != 0\n",
    "            @constraint(mdl, x[i,j] == x[j,i])\n",
    "        end\n",
    "    end\n",
    "    # Condicion para no considerar aristas imaginarias de peso zero\n",
    "    for i in 1:cantidad_de_vertices, j in 1:cantidad_de_vertices\n",
    "        if matriz[i,j] == 0\n",
    "            @constraint(mdl, x[i,j] == 0)\n",
    "        end\n",
    "    end\n",
    "    # Condicion de arbol\n",
    "    @constraint(mdl, sum(x)/2 == cantidad_de_vertices -1)\n",
    "    # Condicion de corte\n",
    "    for S in powerset(1:cantidad_de_vertices)\n",
    "        if (length(S)>0) && (length(S) < cantidad_de_vertices)\n",
    "            @constraint(mdl, sum(x[i,j] for i in setdiff(1:cantidad_de_vertices,S), j in S) >= 1)\n",
    "        end\n",
    "    end\n",
    "    #=======================================================================\n",
    "    Funcion objetivo y optimizacion\n",
    "    =======================================================================#\n",
    "    @objective(mdl, Min, sum(x[i,j] * matriz[i,j] / 2 for i in 1:cantidad_de_vertices, j in 1:cantidad_de_vertices))\n",
    "    optimize!(mdl)\n",
    "    return(objective_value(mdl));\n",
    "end"
   ]
  },
  {
   "cell_type": "code",
   "execution_count": 10,
   "metadata": {},
   "outputs": [
    {
     "name": "stdout",
     "output_type": "stream",
     "text": [
      "Set parameter Username\n",
      "Academic license - for non-commercial use only - expires 2023-03-09\n",
      "Set parameter Presolve to value 0\n",
      "[1 2 1; 2 3 1; 3 4 3; 4 5 1; 5 6 1; 6 7 1; 7 1 2; 3 5 1]"
     ]
    }
   ],
   "source": [
    "# Test de la funcion funMST2 para la instancia 1\n",
    "W1=readdlm(\"instancia1.txt\", ',', Int, '\\n')\n",
    "funMST2(W1)"
   ]
  },
  {
   "cell_type": "code",
   "execution_count": 9,
   "metadata": {},
   "outputs": [
    {
     "name": "stdout",
     "output_type": "stream",
     "text": [
      "Set parameter Username\n",
      "Academic license - for non-commercial use only - expires 2023-03-09\n",
      "Set parameter Presolve to value 0\n"
     ]
    },
    {
     "data": {
      "text/plain": [
       "38.0"
      ]
     },
     "execution_count": 9,
     "metadata": {},
     "output_type": "execute_result"
    }
   ],
   "source": [
    "# Test de la funcion funMST2 para la instancia 2\n",
    "W2=readdlm(\"instancia2.txt\", ',', Int, '\\n')\n",
    "funMST2(W2)"
   ]
  }
 ],
 "metadata": {
  "kernelspec": {
   "display_name": "Julia 1.7.2",
   "language": "julia",
   "name": "julia-1.7"
  },
  "language_info": {
   "file_extension": ".jl",
   "mimetype": "application/julia",
   "name": "julia",
   "version": "1.7.2"
  }
 },
 "nbformat": 4,
 "nbformat_minor": 4
}
