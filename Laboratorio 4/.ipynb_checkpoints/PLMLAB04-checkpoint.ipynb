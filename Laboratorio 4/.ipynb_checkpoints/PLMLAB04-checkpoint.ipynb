{
 "cells": [
  {
   "cell_type": "markdown",
   "metadata": {
    "slideshow": {
     "slide_type": "-"
    }
   },
   "source": [
    "# MA4702 Laboratorio 4 2022\n",
    "## Planos Cortantes\n",
    "## Integrantes\n",
    "\n",
    "- \n",
    "-\n",
    "-\n",
    "-\n",
    "\n",
    "## Observaciones\n",
    "\n",
    "Si tiene alguna observación a la corrección escríbala acá (claridad del enunciado, díficultades con Julia u otros)."
   ]
  },
  {
   "cell_type": "markdown",
   "metadata": {},
   "source": [
    "# 1. Preparación\n",
    "\n",
    "Usaremos los paquetes JuMP, Gurobi. Descomente los siguientes comandos si no tiene los paquetes y asegúrese de tener la última versión de JuMP corriendo. Vuelvalos a comentar una vez que los ejecute."
   ]
  },
  {
   "cell_type": "code",
   "execution_count": 78,
   "metadata": {},
   "outputs": [
    {
     "name": "stderr",
     "output_type": "stream",
     "text": [
      "\u001b[32m\u001b[1m   Resolving\u001b[22m\u001b[39m package versions...\n",
      "\u001b[32m\u001b[1m    Updating\u001b[22m\u001b[39m `C:\\Users\\Personal\\.julia\\environments\\v1.7\\Project.toml`\n",
      " \u001b[90m [6e4b80f9] \u001b[39m\u001b[92m+ BenchmarkTools v1.3.1\u001b[39m\n",
      "\u001b[32m\u001b[1m  No Changes\u001b[22m\u001b[39m to `C:\\Users\\Personal\\.julia\\environments\\v1.7\\Manifest.toml`\n"
     ]
    }
   ],
   "source": [
    "# import Pkg; Pkg.update(\"JuMP\"); Pkg.status(\"JuMP\"); Pkg.add(\"LightGraphs\"); Pkg.add(\"LightGraphsFlows\");\n",
    "#import Pkg; Pkg.add(\"BenchmarkTools\")"
   ]
  },
  {
   "cell_type": "code",
   "execution_count": 79,
   "metadata": {},
   "outputs": [],
   "source": [
    "using Printf, DelimitedFiles;\n",
    "# using JuMP, Gurobi;\n",
    "using LightGraphs, LightGraphsFlows;\n",
    "using BenchmarkTools\n",
    "# Abrir un solo ambiente de Gurobi, Jupyter se marea si se crean demasiados modelos durante en una misma celda.\n",
    "# const GUROBI_ENV = Gurobi.Env();"
   ]
  },
  {
   "cell_type": "markdown",
   "metadata": {},
   "source": [
    "# 2. Problemas\n",
    "\n",
    "Escriba sus respuestas aquí, tanto los códigos en Julia como respuestas a preguntas en Markdown.\n",
    "\n",
    "## P1\n",
    "Puede apoyarse libremente en el siguiente código."
   ]
  },
  {
   "cell_type": "code",
   "execution_count": 38,
   "metadata": {},
   "outputs": [
    {
     "ename": "LoadError",
     "evalue": "UndefVarError: with_optimizer not defined",
     "output_type": "error",
     "traceback": [
      "UndefVarError: with_optimizer not defined",
      "",
      "Stacktrace:",
      " [1] top-level scope",
      "   @ In[38]:18",
      " [2] eval",
      "   @ .\\boot.jl:373 [inlined]",
      " [3] include_string(mapexpr::typeof(REPL.softscope), mod::Module, code::String, filename::String)",
      "   @ Base .\\loading.jl:1196"
     ]
    }
   ],
   "source": [
    "for fn in readdir()\n",
    "  if occursin(r\"LAB04-i00\",fn)\n",
    "        \n",
    "    W = readdlm(fn, ',', Float64, '\\n');\n",
    "\n",
    "    # Inicializacion conjunto de vertices, arcos y matriz de distancia\n",
    "    V = 1:size(W,1);\n",
    "    E = [];\n",
    "    dist = zeros(Float64,length(V),length(V));\n",
    "    for u in V, v in V\n",
    "      if u <= v\n",
    "        append!(E, [vcat(u,v)]);\n",
    "        dist[u,v] = ((W[u,1]-W[v,1])^2+(W[u,2]-W[v,2])^2)^0.5;\n",
    "        dist[v,u] = dist[u,v];\n",
    "      end\n",
    "    end\n",
    "\n",
    "    # PL inicial\n",
    "    lp = Model(with_optimizer(Gurobi.Optimizer,OutputFlag=0,GUROBI_ENV))\n",
    "    @variable(lp, 1 >= x[e in E] >= 0);\n",
    "    @constraint(lp, [v in V], sum( x[[min(u,v),max(u,v)]] for u in V if u != v ) == 2 );\n",
    "    @objective(lp, Min, sum( x[e]*dist[e[1],e[2]] for e in E ) );\n",
    "\n",
    "    println( \"out \", repeat('=', 60) );\n",
    "    println( \"out Instancia \", fn );\n",
    "    println( \"out \", repeat('=', 60) );\n",
    "\n",
    "    # Agregue su codigo aqui\n",
    "\n",
    "  end\n",
    "end"
   ]
  },
  {
   "cell_type": "markdown",
   "metadata": {},
   "source": [
    "La firma de la función mincut de LightGraphsFlows es:"
   ]
  },
  {
   "cell_type": "code",
   "execution_count": 39,
   "metadata": {},
   "outputs": [
    {
     "ename": "LoadError",
     "evalue": "UndefVarError: G not defined",
     "output_type": "error",
     "traceback": [
      "UndefVarError: G not defined",
      "",
      "Stacktrace:",
      " [1] top-level scope",
      "   @ In[39]:1",
      " [2] eval",
      "   @ .\\boot.jl:373 [inlined]",
      " [3] include_string(mapexpr::typeof(REPL.softscope), mod::Module, code::String, filename::String)",
      "   @ Base .\\loading.jl:1196"
     ]
    }
   ],
   "source": [
    "part1, part2, flow = mincut(G,s,t,capacities,EdmondsKarpAlgorithm())"
   ]
  },
  {
   "cell_type": "markdown",
   "metadata": {},
   "source": [
    "## P2"
   ]
  },
  {
   "cell_type": "code",
   "execution_count": 40,
   "metadata": {},
   "outputs": [
    {
     "data": {
      "text/plain": [
       "distancia (generic function with 1 method)"
      ]
     },
     "execution_count": 40,
     "metadata": {},
     "output_type": "execute_result"
    }
   ],
   "source": [
    "function distancia(i,j)\n",
    "    #=======================================================================\n",
    "    -Input: i,j son vertices.\n",
    "    -Output: retorna la distancia entre los vertices i,j sobre el plano.\n",
    "    -Descripcion: dist[i,j] se define en la parte (1).\n",
    "    =======================================================================#\n",
    "    output = dist[i,j]\n",
    "    return output\n",
    "end"
   ]
  },
  {
   "cell_type": "code",
   "execution_count": 87,
   "metadata": {},
   "outputs": [
    {
     "name": "stdout",
     "output_type": "stream",
     "text": [
      "-------Nueva instancia--------Set parameter Presolve to value 0\n",
      "Set parameter Cuts to value 0\n",
      "Set parameter Heuristics to value 0\n",
      "Set parameter Threads to value 1\n",
      "El tiempo demorado en esta instancia es:0.10000014305114746-------Nueva instancia--------Set parameter Presolve to value 0\n",
      "Set parameter Cuts to value 0\n",
      "Set parameter Heuristics to value 0\n",
      "Set parameter Threads to value 1\n",
      "El tiempo demorado en esta instancia es:0.04699993133544922-------Nueva instancia--------Set parameter Presolve to value 0\n",
      "Set parameter Cuts to value 0\n",
      "Set parameter Heuristics to value 0\n",
      "Set parameter Threads to value 1\n",
      "El tiempo demorado en esta instancia es:0.8710000514984131"
     ]
    }
   ],
   "source": [
    "for fn in readdir()\n",
    "    if occursin(r\"LAB04-i00\",fn)\n",
    "        print(\"-------Nueva instancia--------\")\n",
    "        tiempo_inicial = time()\n",
    "        \n",
    "        W = readdlm(fn, ',', Float64, '\\n');\n",
    "        # Inicializacion conjunto de vertices, arcos y matriz de distancia\n",
    "        V = 1:size(W,1);\n",
    "        E = [];\n",
    "        dist = zeros(Float64,length(V),length(V));\n",
    "        for u in V, v in V\n",
    "            if u <= v\n",
    "                append!(E, [vcat(u,v)]);\n",
    "                dist[u,v] = ((W[u,1]-W[v,1])^2+(W[u,2]-W[v,2])^2)^0.5;\n",
    "                dist[v,u] = dist[u,v];\n",
    "            end\n",
    "        end\n",
    "        \n",
    "        # Modelo (MTZ) \n",
    "        mtz = Model(optimizer_with_attributes(() -> Gurobi.Optimizer(GUROBI_ENV),\"Presolve\"=>0, \"Cuts\"=> 0, \"Heuristics\"=> 0, \"Threads\"=>1))\n",
    "        set_silent(mtz)\n",
    "        \n",
    "        # Cantidad de vertices (util para indexar a lo largo del problema)\n",
    "        cantidad_de_vertices = size(W,1) # Obtener de la data, la data se llama W\n",
    "        #=======================================================================\n",
    "         Variables\n",
    "        =======================================================================#\n",
    "        # En la declaracion de la variable va la \n",
    "        # restricciones binarias sobre $x_{e}$ para todo $e\\in E$\n",
    "        x = @variable(mtz, x[i in 1:cantidad_de_vertices, j in 1:cantidad_de_vertices], Bin)\n",
    "        #=======================================================================\n",
    "         Restricciones\n",
    "        =======================================================================#\n",
    "        # Restriccion de grado saliente al nodo i-esimo\n",
    "        for i in 1:cantidad_de_vertices\n",
    "            @constraint(mtz, sum(x[i,j] for j in 1:cantidad_de_vertices) == 1)\n",
    "        end\n",
    "        # Restricciones de grado entrante al nodo j-esimo\n",
    "        for j in 1:cantidad_de_vertices\n",
    "            @constraint(mtz, sum(x[i,j] for i in 1:cantidad_de_vertices) == 1)\n",
    "        end\n",
    "        # Restriccion sobre la metrica (euclidea)\n",
    "        for i in 2:cantidad_de_vertices\n",
    "            for j in 2:cantidad_de_vertices\n",
    "                @constraint(mtz, dist[i,j] <= cantidad_de_vertices*(1-x[i,j]) - 1)\n",
    "            end\n",
    "        end\n",
    "        #=======================================================================\n",
    "         Funcion objetivo\n",
    "        =======================================================================#\n",
    "        # Funcion de distancia de largo minimo en un ciclo Hamiltonniano\n",
    "        @objective(mtz, Min, sum(dist[i,j]*x[i,j] for i in 1:cantidad_de_vertices, j in 1:cantidad_de_vertices))\n",
    "\n",
    "        optimize!(mtz)\n",
    "        has_values(mtz)\n",
    "        \n",
    "        tiempo_final = time()\n",
    "        print(\"El tiempo demorado en esta instancia es:\", tiempo_final - tiempo_inicial)\n",
    "        #x_value = value.(mtz[:x])#Obtenga solucion optima de x\n",
    "    end \n",
    "end"
   ]
  },
  {
   "cell_type": "markdown",
   "metadata": {},
   "source": [
    "## P3"
   ]
  },
  {
   "cell_type": "code",
   "execution_count": null,
   "metadata": {},
   "outputs": [],
   "source": []
  }
 ],
 "metadata": {
  "kernelspec": {
   "display_name": "Julia 1.7.2",
   "language": "julia",
   "name": "julia-1.7"
  },
  "language_info": {
   "file_extension": ".jl",
   "mimetype": "application/julia",
   "name": "julia",
   "version": "1.7.2"
  }
 },
 "nbformat": 4,
 "nbformat_minor": 4
}
