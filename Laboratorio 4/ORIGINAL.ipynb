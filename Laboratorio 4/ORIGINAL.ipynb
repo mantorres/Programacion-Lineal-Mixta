{
 "cells": [
  {
   "cell_type": "markdown",
   "metadata": {
    "slideshow": {
     "slide_type": "-"
    }
   },
   "source": [
    "# MA4702 Laboratorio 4 2022\n",
    "## Planos Cortantes\n",
    "## Integrantes\n",
    "\n",
    "- \n",
    "-\n",
    "-\n",
    "-\n",
    "\n",
    "## Observaciones\n",
    "\n",
    "Si tiene alguna observación a la corrección escríbala acá (claridad del enunciado, díficultades con Julia u otros)."
   ]
  },
  {
   "cell_type": "markdown",
   "metadata": {},
   "source": [
    "# 1. Preparación\n",
    "\n",
    "Usaremos los paquetes JuMP, Gurobi. Descomente los siguientes comandos si no tiene los paquetes y asegúrese de tener la última versión de JuMP corriendo. Vuelvalos a comentar una vez que los ejecute."
   ]
  },
  {
   "cell_type": "code",
   "execution_count": null,
   "metadata": {},
   "outputs": [],
   "source": [
    "# import Pkg; Pkg.update(\"JuMP\"); Pkg.status(\"JuMP\"); Pkg.add(\"LightGraphs\"); Pkg.add(\"LightGraphsFlows\");"
   ]
  },
  {
   "cell_type": "code",
   "execution_count": null,
   "metadata": {},
   "outputs": [],
   "source": [
    "using Printf, DelimitedFiles;\n",
    "# using JuMP, Gurobi;\n",
    "using LightGraphs, LightGraphsFlows;\n",
    "# Abrir un solo ambiente de Gurobi, Jupyter se marea si se crean demasiados modelos durante en una misma celda.\n",
    "# const GUROBI_ENV = Gurobi.Env();"
   ]
  },
  {
   "cell_type": "markdown",
   "metadata": {},
   "source": [
    "# 2. Problemas\n",
    "\n",
    "Escriba sus respuestas aquí, tanto los códigos en Julia como respuestas a preguntas en Markdown.\n",
    "\n",
    "## P1\n",
    "Puede apoyarse libremente en el siguiente código."
   ]
  },
  {
   "cell_type": "code",
   "execution_count": null,
   "metadata": {},
   "outputs": [],
   "source": [
    "for fn in readdir()\n",
    "  if occursin(r\"LAB04-i00\",fn)\n",
    "    W = readdlm(fn, ',', Float64, '\\n');\n",
    "\n",
    "    # Inicializacion conjunto de vertices, arcos y matriz de distancia\n",
    "    V = 1:size(W,1);\n",
    "    E = [];\n",
    "    dist = zeros(Float64,length(V),length(V));\n",
    "    for u in V, v in V\n",
    "      if u <= v\n",
    "        append!(E, [vcat(u,v)]);\n",
    "        dist[u,v] = ((W[u,1]-W[v,1])^2+(W[u,2]-W[v,2])^2)^0.5;\n",
    "        dist[v,u] = dist[u,v];\n",
    "      end\n",
    "    end\n",
    "\n",
    "    # PL inicial\n",
    "    lp = Model(with_optimizer(Gurobi.Optimizer,OutputFlag=0,GUROBI_ENV))\n",
    "    @variable(lp, 1 >= x[e in E] >= 0);\n",
    "    @constraint(lp, [v in V], sum( x[[min(u,v),max(u,v)]] for u in V if u != v ) == 2 );\n",
    "    @objective(lp, Min, sum( x[e]*dist[e[1],e[2]] for e in E ) );\n",
    "\n",
    "    println( \"out \", repeat('=', 60) );\n",
    "    println( \"out Instancia \", fn );\n",
    "    println( \"out \", repeat('=', 60) );\n",
    "\n",
    "    # Agregue su codigo aqui\n",
    "\n",
    "  end\n",
    "end"
   ]
  },
  {
   "cell_type": "markdown",
   "metadata": {},
   "source": [
    "La firma de la función mincut de LightGraphsFlows es:"
   ]
  },
  {
   "cell_type": "code",
   "execution_count": null,
   "metadata": {},
   "outputs": [],
   "source": [
    "part1, part2, flow = mincut(G,s,t,capacities,EdmondsKarpAlgorithm())"
   ]
  },
  {
   "cell_type": "markdown",
   "metadata": {},
   "source": [
    "## P2"
   ]
  },
  {
   "cell_type": "markdown",
   "metadata": {},
   "source": [
    "## P3"
   ]
  },
  {
   "cell_type": "code",
   "execution_count": null,
   "metadata": {},
   "outputs": [],
   "source": []
  }
 ],
 "metadata": {
  "kernelspec": {
   "display_name": "Julia 1.7.2",
   "language": "julia",
   "name": "julia-1.7"
  },
  "language_info": {
   "file_extension": ".jl",
   "mimetype": "application/julia",
   "name": "julia",
   "version": "1.7.2"
  }
 },
 "nbformat": 4,
 "nbformat_minor": 4
}
