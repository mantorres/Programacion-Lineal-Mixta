{
 "cells": [
  {
   "cell_type": "markdown",
   "id": "6c99e8ff-0e83-4c44-a7c6-fbf4ecb8fd35",
   "metadata": {},
   "source": [
    "**MA4702 Programación Lineal Mixta: Teoría y Laboratorio.**    \n",
    "**Profesor:** Martín Matamala.    \n",
    "**Auxiliares:** Benjamín Jauregui y Cristian Palma.    \n",
    "**Alumno:** Manuel Torres.    \n",
    "**Fecha de entrega:** Miércoles 15 de Junio del 2022.\n",
    "# Laboratorio $\\#4$: Tarea Individual - Planos Cortantes\n",
    "\n",
    "## Modelo del *Price Collecting Travelling Salesman Problem*\n",
    "Consideramos una versión del *Travelling Salesman Problem* llamado *Price Collectinng TSP (PCTSP)*. Concretamente, sea $G=(V,E)$ un grafo, $s\\in V$ un vértice de particda, $c:E\\to\\mathbb{R}_{*}$ una función donde $c(e)$ representa el costo de recorrer el arco $e$ y $f:V\\to\\mathbb{R}_{*}$ una funció tal que $f(v)$ representa la ganancia de visitar el vértice $v$. El vendedor viajero parte desde $s$ y debe recorrer al menos otros dos vértices de $G$ pagando el costo $c(e)$ por cada arco $e$ recorrido y obteniendo un beneficio $f(v)$ por cada vértice $v$ visitado. El vendedor no está obligado a visitar todos los vértices de $G$.\n",
    "\n",
    "Formalmente, si $x\\in\\mathbb{B}^{|E|}$ es la indicatriz del ciclo de $G$ recorrido e $y\\in\\mathbb{B}^{|V|}$ es la indicatriz de vértices visitados por el vendedor, el *PCTSP* se puede formular como sigue:\n",
    "\n",
    "$$\n",
    "(PCTSP)\\left\\{\n",
    "\\begin{array}{ccll}\n",
    "            & \\displaystyle\\max_{x,y} & \\displaystyle\\sum_{v\\in V}f(v)y_{v} - \\sum_{e\\in E}c(e)x_{e}&\\\\\n",
    "            & s.t.                    & x(\\delta_{E}(v)) = 2y_{v},\\quad\\forall v\\in V&\\text{(Restricción de grado)}\\\\\n",
    "            &                         & x(\\gamma_{E}(S)) \\leq \\displaystyle\\sum_{v\\in S-t}y_{v},\\quad \\forall(t,S),\\ S\\subseteq V-s,\\ t\\in S&\\text{(GSEC)}\\\\\n",
    "            &                         & y_{s} = 1 &\\text{(Restricción de origen)}\\\\\n",
    "            &                         & x\\in\\mathbb{B}^{|E|},\\ y\\in\\mathbb{B}^{|V|}.\n",
    "\\end{array}\n",
    "\\right.\n",
    "$$\n",
    "Donde\n",
    "\\begin{eqnarray}\n",
    "    \\delta_{E}(v) &=& \\{e\\in E:v\\in e\\}\\\\\n",
    "    \\gamma_{E}(S) &=& \\{e=uv\\in E:\\ u,v\\in S\\}.\n",
    "\\end{eqnarray}"
   ]
  },
  {
   "cell_type": "markdown",
   "id": "6a842b7d-4efb-4b4b-ad12-5b5bc85fd802",
   "metadata": {},
   "source": [
    "El número exponencial de restricciones *GSEC* sugiere abordar el *PCTSP* con el *método de planos cortantes*. Sea $(x^{*},y^{*})$ solución de la relajación de *PCTSP* y considere el problema *(PSep)* siguiente:\n",
    "\n",
    "$$(PSep)\\left\\{\n",
    "\\begin{array}{ccll}\n",
    "      & \\displaystyle \\chi_{t}:=\\ \\max_{w,z} & \\displaystyle\\sum_{e\\in E'}x^{*}w_{e} - \\sum_{v\\in V'-t}y^{*}_{v}z_{v}\\\\\n",
    "            & s.t.                    & w_{e}\\leq z_{u},\\ w_{e}\\leq z_{v},\\quad \\forall e=uv\\in E'\\\\\n",
    "            &                         & w_{e}\\geq z_{u}+z_{v}-1,\\quad \\forall e=uv\\in E'\\\\\n",
    "            &                         & z_{t}=1\\\\\n",
    "            &                         & e\\in\\mathbb{B}^{|E'|},\\ z\\in\\mathbb{B}^{|V'|}.\n",
    "\\end{array}\\right.\n",
    "$$\n",
    "Donde:\n",
    "\\begin{eqnarray*}\n",
    "    V' &=& V-s\\\\\n",
    "    E' &=& E\\setminus\\delta_{E}(s).\n",
    "\\end{eqnarray*}"
   ]
  },
  {
   "cell_type": "markdown",
   "id": "b2d9ab5b-fbd8-4094-887f-ab62683fe5ff",
   "metadata": {},
   "source": [
    "Un resultado importante sobre *(PSep)*, es que el óptimo de *(PSep)* en el punto $(w^{*},z^{*})$ cumple que $\\chi_{t}>0$ si y solo si $(x^{*},y^{*})$ no cumple una restricción *(GSEC)*. Esta *(GSEC)* es inválida, esta dada por el conjunnto $S\\subseteq V'$ tal que $S=\\{v\\in V:z_{v}=1\\}$ y $w^{*}$ es la indicatriz de $\\gamma_{E}(S)$ y $(t,S)$ describe una restricción *(GSEC)* inválida.    \n",
    "      \n",
    "      \n",
    "Además, se puede comprobar (no es necesario que lo haga) que el conjunto factible de la relajación lineal de *(PSep)* se puede describir como un poliedro $\\{Ax\\leq b\\}$ con $b$ integral y $A$ *totalmente unimodular*, por lo que, con lo visto en clases se puede demostrar (sin necesidad de hacerlo en la tarea) que la relajación lineal de *(PSep)* tiene siempre solución integral.    \n",
    "\n",
    "    \n",
    "Dicho esto, en esta plantilla con la instancia dotada en el material se realizará lo siguiente:"
   ]
  },
  {
   "cell_type": "markdown",
   "id": "1d6b42b1-60c7-4a67-96f7-f0d3c23fbe14",
   "metadata": {},
   "source": [
    "**P1.** Argumentar que la formulación de *(PCTSP)* es correcta (es decir, efectivamente modela el problema descrito), y por qué $z^{*}$ solución de *(PSep)* entrega la indicatriz de un conjunto $S\\subseteq V-s$ que viola la restricció *(GSEC)*.\n",
    "\n",
    "**P2.** Modelar la relajación lineal de *(PCTSP)* (sin las restricciones *(GSEC)*) para la instancia entregada.\n",
    "\n",
    "**P3.** Obtener la solución $(x^{*},y^{*})$ de la parte anterior, y usar estos valores para modelar la relajación lineal de *(PSep)*.\n",
    "\n",
    "**P4.** Resolver *(PSep)* de la parte anterior, y siguiendo los criterios descritos en el enunciado, decidir si $(x^{*},y^{*})$ no cumple alguna restricción *GSEC*. Si no cumple alguna de estas restricciones, obtener el conjunto $S\\subseteq V-s$ correspondiente.\n",
    "\n",
    "**P5.** Añadir la restricción encontrada en la parte **P4** al modelo relajato *(PCTSP)* y volver a repetir los pasos de las partes **P2**, **P3** y **P4**. Repetir este proceso $5$ veces."
   ]
  },
  {
   "cell_type": "markdown",
   "id": "5aac09c3-a9ae-4d66-ac6b-18bed62ce6e8",
   "metadata": {},
   "source": [
    "## Resolución\n",
    "### Formulación de *PCTSP*\n",
    "\n",
    "Se busca un ciclo que pasa por $s\\in V$ tal que la utilidad de recorrerlo sea máxima. En este modelo tenemos las siguientes componentes:\n",
    "\n",
    "**(a) Variables binarias:** Las variables $x\\in\\mathbb{B}^{|E|}$ e $y\\in\\mathbb{B}^{|V|}$ indican cuando se considera una arista y así sus vértices (como una función indicadora).\n",
    "\n",
    "**(b) Función objetivo:** la función objetivo dada por\n",
    "$$\n",
    "    \\sum_{v\\in V}f(v)y_{v} - \\sum_{e\\in E}c(e)x_{e},\n",
    "$$\n",
    "es en efecto, la utilidad de recorrer el ciclo representado por $(x,y)$.\n",
    "\n",
    "**(c) Restricciones generales:** Respecto a la formulación de *(PCTSP)*, las restricciones indican respectivamente:\n",
    "1. La *restricción de origen* asegura que $s$ se encuentre en cada ciclo factible.\n",
    "2. Las *restricciones de grado*, dadas por\n",
    "    \\begin{eqnarray*}\n",
    "        x(\\delta_{E}(v)) = 2y_{v},\\quad\\forall v\\in V,\n",
    "    \\end{eqnarray*}\n",
    "    implican que solo haya ciclos en el grafo $G$.\n",
    "3. Las *restricciones (GSEC)*, dadas por\n",
    "    \\begin{eqnarray*}\n",
    "        x(\\gamma_{E}(S)) \\leq \\displaystyle\\sum_{v\\in S-t}y_{v},\\quad \\forall(t,S),\\ S\\subseteq V-s,\\ t\\in S,\n",
    "    \\end{eqnarray*}\n",
    "    implica que no existen ciclos tales que no contengan a $s$: Razonando hacia contradicción y suponiendo que hubiese un ciclo que no contiene a $s$, digamos, sea $C$ dicho ciclo de $k$ vértices y por lo tanto $k$ aristas, entonces la suma de $k-1$ vértices contradice la restricción, por lo tanto la no existencia de ciclos que no contienen a $s$ es una condición necesaria.\n",
    "    \n",
    "Hasta este punto, de forma laxa es evidente que este es un *programa lineal* salvo algunas variables que resultan ser binarias, en efecto, dicho tipo de variable le da la categoría a la formulación del *(PCTSP)* de *programa lineal mixto*.\n",
    "\n",
    "**(d) Solución:** Sea $(x^{*},y^{*})$ una solución óptima, esta representa una selección de aristas y vértices que conforman un único ciclo que contiene a $s$ y maximiza la utilidad del recorrido.\n",
    "\n",
    "Por lo discutido en **(a)**, **(b)**, **(c)** y **(d)** se afirma que el modelo es consistente y corresponde al *(PCTSP)*."
   ]
  },
  {
   "cell_type": "markdown",
   "id": "894cb3c9-976b-48dd-9024-9668b55582a5",
   "metadata": {},
   "source": [
    "### Solución de *PSep*\n",
    "\n",
    "Sea $z^{*}$ componente de $(w^{*},z^{*})$, tal que sea solución del *(PSep)*. Usando que $(w^{*},z^{*})$ verifica las restricciones:\n",
    "$$\\left\\{\n",
    "\\begin{array}{cll}\n",
    "        & w_{e}\\leq z_{u},\\ w_{e}\\leq z_{v},\\quad \\forall e=uv\\in E'\\\\\n",
    "        & w_{e}\\geq z_{u}+z_{v}-1,\\quad \\forall e=uv\\in E'\\\\\n",
    "        & z_{t}=1\\\\\n",
    "        & e\\in\\mathbb{B}^{|E'|},\\ z\\in\\mathbb{B}^{|V'|}.\n",
    "\\end{array}\\right.\n",
    "$$\n",
    "veamos que $z^{*}$ entrega la indicatriz de un conjunto $S\\subseteq V-s$ tal que viola la restricción *(GSEC)*. Este hecho lo enunciamos en la siguiente proposición.\n",
    "\n",
    "**Proposición:** Sea $(w^{*},z^{*})$ solución del *(PSep)*. Si $\\chi_{t}>0$, entonces $S\\subseteq V-s$ indicado por $z^{*}$ no cumple *(GSEC)* en $(S,t)$.\n",
    "\n",
    "**Demostración:** En efecto, sea $\\chi_{t}>0$, como\n",
    "\\begin{eqnarray*}\n",
    "    \\chi_{t} := \\max_{w,z} & \\displaystyle\\sum_{e\\in E'}x^{*}w_{e} - \\sum_{v\\in V'-t}y^{*}_{v}z_{v} = \\sum_{e\\in E'}x^{*}w^{*}_{e} - \\sum_{v\\in V'-t}y^{*}_{v}z^{*}_{v}>0, \n",
    "\\end{eqnarray*}\n",
    "entonces\n",
    "\\begin{eqnarray*}\n",
    "    \\sum_{e\\in E'}x^{*}w^{*}_{e} > \\sum_{v\\in V'-t}y^{*}_{v}z^{*}_{v}.\n",
    "\\end{eqnarray*}\n",
    "Resulta que $w^{*}$ es la indicatriz de $\\gamma_{E}(S)$, y como $s\\notin S$, entonces no se suman términos en $\\delta_{E}(s)$, por lo que lo anterior equivale a\n",
    "\\begin{eqnarray*}\n",
    "    x^{*}(\\gamma_{E}(S)) > \\sum_{v\\in S-t} y^{*}_{v}z^{*}_{v} + \\sum_{v\\notin S-t}y_{v}^{*}z_{v}^{*} \\Longrightarrow x^{*}(\\gamma_{E}(S)) > \\sum_{v\\in S-t} y^{*}_{v},\n",
    "\\end{eqnarray*}\n",
    "esto debido a que $z_{v}^{*}=1$ para todo $v\\in S$. Esta última desigualdad corresponde exactamente a la negación de la restricción *(GSEC)*, con lo que se concluye. $\\blacksquare$\n",
    "\n"
   ]
  },
  {
   "cell_type": "code",
   "execution_count": 16,
   "id": "54009826",
   "metadata": {},
   "outputs": [
    {
     "name": "stdout",
     "output_type": "stream",
     "text": [
      "Set parameter Username\n",
      "Academic license - for non-commercial use only - expires 2023-03-09\n"
     ]
    },
    {
     "name": "stderr",
     "output_type": "stream",
     "text": [
      "WARNING: redefinition of constant GUROBI_ENV. This may fail, cause incorrect answers, or produce other errors.\n"
     ]
    },
    {
     "data": {
      "text/plain": [
       "Gurobi.Env(Ptr{Nothing} @0x0000000050553ae0, false, 0)"
      ]
     },
     "execution_count": 16,
     "metadata": {},
     "output_type": "execute_result"
    }
   ],
   "source": [
    "using JuMP, Gurobi, DelimitedFiles, Printf;\n",
    "###################################\n",
    "# GLOBAL VARIABLES\n",
    "const GUROBI_ENV = Gurobi.Env()\n",
    "###################################"
   ]
  },
  {
   "cell_type": "markdown",
   "id": "fb4a150d",
   "metadata": {},
   "source": [
    "### LoadInstance\n",
    "\n",
    "- Recuerde tener el archivo instancia.txt en la misma carpeta de este notebook.\n",
    "- NO modifique nada de la función loadInstance(). \n",
    "- Como puede ver, la funcion f viene dentro de la instancia, y la funcion de costos se calcula como la distancia euclideana entre los puntos. Los vertices estan enumerados de 1 hasta n."
   ]
  },
  {
   "cell_type": "code",
   "execution_count": 17,
   "id": "a618e29d",
   "metadata": {},
   "outputs": [
    {
     "data": {
      "text/plain": [
       "loadInstance (generic function with 1 method)"
      ]
     },
     "execution_count": 17,
     "metadata": {},
     "output_type": "execute_result"
    }
   ],
   "source": [
    "function loadInstance(fn::AbstractString)\n",
    "  W = readdlm(fn, ',', Int64, '\\n');\n",
    "\n",
    "  f = W[:,1]\n",
    "  x = W[:,2]\n",
    "  y = W[:,3]\n",
    "  n = length(f);\n",
    "  \n",
    "  E = [];\n",
    "  c = [];\n",
    "  for u in 1:n\n",
    "    for v in u+1:n\n",
    "      append!(E, [vcat(u,v)]);\n",
    "      append!(c,((x[u]-x[v])^2+(y[u]-y[v])^2)^0.5);\n",
    "    end\n",
    "  end\n",
    "\n",
    "  return E, c, 1:n, f;\n",
    "end"
   ]
  },
  {
   "cell_type": "markdown",
   "id": "a272499f",
   "metadata": {},
   "source": [
    "### Importar datos\n",
    "\n",
    "Solo ejecute la celda de abajo. Esta función le dará\n",
    "\n",
    "- E: Conjunto de aristas.\n",
    "- c: funcion de costos de cada arista. El costo de la arista E[i] es c[i].\n",
    "- N: Conjunto de vertices {1,...,N}.\n",
    "- Funcion de ganancia de cada nodo."
   ]
  },
  {
   "cell_type": "code",
   "execution_count": 18,
   "id": "04de90c9",
   "metadata": {},
   "outputs": [],
   "source": [
    "# Importar Datos\n",
    "fn = \"instancia\";\n",
    "E, c, N, f = loadInstance(fn * \".txt\");"
   ]
  },
  {
   "cell_type": "markdown",
   "id": "f26fb532-4543-4076-a876-16276a24d341",
   "metadata": {},
   "source": [
    "### Métodos auxiliares\n",
    "Acá dejaremos los métodos auxiliares, estos métodos escencialmente manipulan y obtienen información del grafo."
   ]
  },
  {
   "cell_type": "code",
   "execution_count": 58,
   "id": "070cea4f-fa61-48f8-9fd1-69d3d085fc6b",
   "metadata": {},
   "outputs": [
    {
     "data": {
      "text/plain": [
       "indices_de_corte (generic function with 1 method)"
      ]
     },
     "execution_count": 58,
     "metadata": {},
     "output_type": "execute_result"
    }
   ],
   "source": [
    "function corte(v,E)\n",
    "    \"\"\"\n",
    "    Input: v es un vertice y E el conjunto de aristas.\n",
    "    Output: Entrega el corte del vertice v.\n",
    "    Descripcion:\n",
    "    \"\"\"\n",
    "    lista = []\n",
    "    largo = length(E)\n",
    "    i     = 1\n",
    "    while i <= largo\n",
    "        if v in E[i]\n",
    "            push!(lista,i)\n",
    "        end\n",
    "        i = i+1\n",
    "    end\n",
    "    output = E[lista]\n",
    "    return output\n",
    "end\n",
    "function indices_de_corte(v,E)\n",
    "    \"\"\"\n",
    "    Input: v es un vertice y E el conjunto de aristas.\n",
    "    Output: Entrega los indices de corte.\n",
    "    Descripcion:\n",
    "    \"\"\"\n",
    "    lista = []\n",
    "    largo = length(E)\n",
    "    i     = 1\n",
    "    while i <= largo\n",
    "        if v in E[i]\n",
    "            push!(lista,i)\n",
    "        end\n",
    "        i = i+1\n",
    "    end\n",
    "    output = lista\n",
    "    return output\n",
    "end"
   ]
  },
  {
   "cell_type": "markdown",
   "id": "a9774c20",
   "metadata": {},
   "source": [
    "### Resuelva relajacion de PCTSP\n",
    "\n",
    "A continuación: **(P2)** Modelamos la relajación lineal del *(PCTSP)* y **(P3)** obtenemos la solución $(x^{*},y^{*})$ a dicho modelo."
   ]
  },
  {
   "cell_type": "code",
   "execution_count": 68,
   "id": "129155ae",
   "metadata": {},
   "outputs": [
    {
     "name": "stdout",
     "output_type": "stream",
     "text": [
      "Set parameter Presolve to value 0\n",
      "Set parameter Cuts to value 0\n",
      "Set parameter Heuristics to value 0\n",
      "Set parameter Threads to value 1\n"
     ]
    },
    {
     "data": {
      "text/plain": [
       "1-dimensional DenseAxisArray{Float64,1,...} with index sets:\n",
       "    Dimension 1, 1:40\n",
       "And data, a 40-element Vector{Float64}:\n",
       " 0.0\n",
       " 0.0\n",
       " 0.0\n",
       " 0.0\n",
       " 0.0\n",
       " 0.0\n",
       " 0.0\n",
       " 0.0\n",
       " 0.0\n",
       " 0.0\n",
       " 0.0\n",
       " 0.0\n",
       " 0.0\n",
       " ⋮\n",
       " 0.0\n",
       " 0.0\n",
       " 0.0\n",
       " 0.0\n",
       " 0.0\n",
       " 0.0\n",
       " 0.0\n",
       " 0.0\n",
       " 0.0\n",
       " 0.0\n",
       " 0.0\n",
       " 0.0"
      ]
     },
     "execution_count": 68,
     "metadata": {},
     "output_type": "execute_result"
    }
   ],
   "source": [
    "# P2 y P3: Resuelva la relajacion lineal de TCTSP\n",
    "mdl = Model(optimizer_with_attributes(() -> Gurobi.Optimizer(GUROBI_ENV),\"Presolve\"=>0, \"Cuts\"=> 0, \"Heuristics\"=> 0, \"Threads\"=>1))\n",
    "set_silent(mdl)\n",
    "########################## Codigo ##########################\n",
    "#===================\n",
    "Variables\n",
    "===================#\n",
    "x = @variable(mdl, x[1:length(E)])\n",
    "y = @variable(mdl, y[N])\n",
    "#===================\n",
    "Restricciones\n",
    "===================#\n",
    "# Restricciones binarias relajadas\n",
    "for i in 1:length(E)\n",
    "    @constraint(mdl, x[i] <= 1)\n",
    "    @constraint(mdl, -x[i] <= 0)\n",
    "end\n",
    "for i in N\n",
    "    @constraint(mdl, y[i] <= 1)\n",
    "    @constraint(mdl, -y[i] <= 0)\n",
    "end\n",
    "# Restriccion de grado\n",
    "for i in N\n",
    "    corte_auxiliar = corte(i, E)\n",
    "    @constraint(mdl, sum(x[w] for w in 1:length(E) if  E[w] in corte_auxiliar) == 2*y[i])\n",
    "end\n",
    "# Restriccion origen (spg el primer vertice se considera como origen)\n",
    "@constraint(mdl, y[1]==1)\n",
    "#===================\n",
    "Funcion objetivo\n",
    "===================#\n",
    "# Funcion de utilidad\n",
    "@objective(mdl, Max, sum(f[v]y[v] for v in N) - sum(c[e]x[e] for e in 1:length(E)))\n",
    "#===================\n",
    "Solucion y valores\n",
    "===================#\n",
    "# Optimizador\n",
    "optimize!(mdl)\n",
    "has_values(mdl)\n",
    "# Valor optimo\n",
    "xv = value.(mdl[:x])#Obtenga solucion optima de x\n",
    "yv = value.(mdl[:y])#Obtenga solucion optima de y"
   ]
  },
  {
   "cell_type": "markdown",
   "id": "44afeb9a",
   "metadata": {},
   "source": [
    "### Itere 5 veces resolviendo PSep, y añadiendo la restriccion GSEC correspondiente\n",
    "\n",
    "$\\textbf{IMPORTANTE}$: Debe mantener todas las restricciones que vaya incorporando. Es decir, en la primera iteracion hay una restriccion GSEC, en la segunda hay dos restricciones GSEC,..., en la 5ta hay 5 restricciones GSEC (al volver a resolver la relajación de PCTSP).\n",
    "\n",
    "Si en alguna iteracion no se puede agregar ninguna restricción GSEC adicional, termine el loop."
   ]
  },
  {
   "cell_type": "code",
   "execution_count": 59,
   "id": "0925545a-5f6b-4fd6-8737-85760240db10",
   "metadata": {},
   "outputs": [
    {
     "data": {
      "text/plain": [
       "741-element Vector{Int64}:\n",
       "  40\n",
       "  41\n",
       "  42\n",
       "  43\n",
       "  44\n",
       "  45\n",
       "  46\n",
       "  47\n",
       "  48\n",
       "  49\n",
       "  50\n",
       "  51\n",
       "  52\n",
       "   ⋮\n",
       " 769\n",
       " 770\n",
       " 771\n",
       " 772\n",
       " 773\n",
       " 774\n",
       " 775\n",
       " 776\n",
       " 777\n",
       " 778\n",
       " 779\n",
       " 780"
      ]
     },
     "execution_count": 59,
     "metadata": {},
     "output_type": "execute_result"
    }
   ],
   "source": [
    "indices = indices_de_corte(1,E)\n",
    "E       = [e for e in 1:length(E) if !(e in indices)]"
   ]
  },
  {
   "cell_type": "markdown",
   "id": "44bc7352-ffdd-49a7-9861-3637497cc26c",
   "metadata": {},
   "source": [
    "A continuación se modela el problema *(PSep)* relajado."
   ]
  },
  {
   "cell_type": "code",
   "execution_count": 78,
   "id": "72c7e5a2",
   "metadata": {},
   "outputs": [
    {
     "name": "stdout",
     "output_type": "stream",
     "text": [
      "Set parameter Presolve to value 0\n",
      "Set parameter Cuts to value 0\n",
      "Set parameter Heuristics to value 0\n",
      "Set parameter Threads to value 1\n"
     ]
    },
    {
     "ename": "LoadError",
     "evalue": "UndefVarError: mdl2 not defined",
     "output_type": "error",
     "traceback": [
      "UndefVarError: mdl2 not defined",
      "",
      "Stacktrace:",
      " [1] top-level scope",
      "   @ In[78]:4",
      " [2] eval",
      "   @ .\\boot.jl:373 [inlined]",
      " [3] include_string(mapexpr::typeof(REPL.softscope), mod::Module, code::String, filename::String)",
      "   @ Base .\\loading.jl:1196"
     ]
    }
   ],
   "source": [
    "for i in 1:5\n",
    "    #Defina modelo PSep relajado \n",
    "    mld2 = Model(optimizer_with_attributes(() -> Gurobi.Optimizer(GUROBI_ENV),\"Presolve\"=>0, \"Cuts\"=> 0, \"Heuristics\"=> 0, \"Threads\"=>1))\n",
    "    set_silent(mdl2)\n",
    "    ########################## Codigo ##########################\n",
    "    #===================\n",
    "    Variables\n",
    "    ===================#\n",
    "    # Indices de corte y seleccion paar (z,w)\n",
    "    indices = indices_de_corte(1,E)\n",
    "    E_z     = [e for in 1:length(E) if !(e in indice)]\n",
    "    Z_z     = [i for i in N if i != 1]\n",
    "    # Variables (z,w)\n",
    "    w = @variable(mdl2, w[E_z])\n",
    "    z = @variable(mdl2, z[Z_z])\n",
    "    #===================\n",
    "    Restricciones\n",
    "    ===================#\n",
    "    # Condiciones sobre w\n",
    "    for i in E_z\n",
    "        @constraint(mdl2, w[i] <= z[E[i][1]])\n",
    "        @constraint(mdl2, w[i] <= z[E[i][2]])\n",
    "        @constraint(mdl2, w[i] >= z[E[i][1]]+z[E[i][2]]-1) \n",
    "        @constraint(mdl2, w[i] <= 1)\n",
    "        @constraint(mdl2, -w[i]<=0)\n",
    "    end\n",
    "    # Condiciones sobre z\n",
    "    for i in Z_z\n",
    "        @constraint(mdl2, z[i] <= 1)\n",
    "        @constraint(mdl2, -z[i] <= 0)\n",
    "    end \n",
    "    # parametro t, define $\\chi_{t}$\n",
    "    t=40\n",
    "    @constraint(mdl2, z[t] == 1)\n",
    "    #===================\n",
    "    Funcion objetivo\n",
    "    ===================#\n",
    "    # Funcion $\\chi_{t}$    \n",
    "    @objective(mdl2, Max, sum(xv[e]w[e] for e in E_z) - sum(yv[e]z[e] for e in [i for i in 2:t if i!=t]))\n",
    "    #===================\n",
    "    Solucion y valores\n",
    "    ===================#\n",
    "    optimize!(mdl2)\n",
    "    \n",
    "    vpsep = objetive_value(mdl2)#Recupere valor optimo de mld2\n",
    "    wv    = value.(mdl2[:w])#Obtenga valor de w\n",
    "    zv    = value.(mdl2[:z])#Obtenga valor de z\n",
    "    S     = #Obtenga el conjunto S a partir de wv (si procede)\n",
    "    \n",
    "    -----------------------------------------\n",
    "    \n",
    "    println(\"El valor optimo de PSep es {}\".format(vpsep))\n",
    "    \n",
    "    print(\"Nueva restriccion por añadir es S=\")\n",
    "    println(S)\n",
    "    \n",
    "    \n",
    "    \n",
    "    #Vuelva a resolver PCTSP relajado, añadiendo la restriccion GSEC encontrada arriba\n",
    "    \n",
    "    mdl = Model(optimizer_with_attributes(() -> Gurobi.Optimizer(GUROBI_ENV),\"Presolve\"=>0, \"Cuts\"=> 0, \"Heuristics\"=> 0, \"Threads\"=>1))\n",
    "    \n",
    "    set_silent(mdl)\n",
    "    \n",
    "    #----------------------------\n",
    "    #     INSERTE SU CODIGO AQUI\n",
    "\n",
    "    x = @variable(...)\n",
    "    y = @variable(...)\n",
    "    \n",
    "    #Retricciones\n",
    "    \n",
    "    #Funcion objetivo\n",
    "   \n",
    "\n",
    "    optimize!(mdl)\n",
    "    \n",
    "    tcv = #Obtenga el valor del optimo\n",
    "    xv = #Obtenga solucion optima de x\n",
    "    yv = #Obtenga solucion optima de y\n",
    "     #----------------------------\n",
    "    \n",
    "    #Imprima el valor valor del problema, y el valor de x,y\n",
    "    \n",
    "    print(\"El valor obtenido es:\")\n",
    "    println(tcv)\n",
    "    \n",
    "    print(\"El valor de x obtenido es:\")\n",
    "    println(xv)\n",
    "    \n",
    "    \n",
    "    print(\"El valor de y obtenido es:\")\n",
    "    println(yv)\n",
    "\n",
    "end"
   ]
  }
 ],
 "metadata": {
  "kernelspec": {
   "display_name": "Julia 1.7.2",
   "language": "julia",
   "name": "julia-1.7"
  },
  "language_info": {
   "file_extension": ".jl",
   "mimetype": "application/julia",
   "name": "julia",
   "version": "1.7.2"
  }
 },
 "nbformat": 4,
 "nbformat_minor": 5
}
