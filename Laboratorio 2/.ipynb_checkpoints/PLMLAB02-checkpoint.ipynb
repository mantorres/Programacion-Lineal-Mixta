{
 "cells": [
  {
   "cell_type": "markdown",
   "metadata": {
    "slideshow": {
     "slide_type": "-"
    }
   },
   "source": [
    "# MA4702 Laboratorio 2 2022\n",
    "## Generación de Columnas: Problema sobre Emparejamientos Perfectos\n",
    "## Integrantes del grupo\n",
    "- Alonso Rojas\n",
    "- Cristóbal Ramos\n",
    "- Karim Saud\n",
    "- Manuel Torres\n",
    "\n",
    "## Observaciones\n",
    "Si tiene alguna observación a la corrección escríbala acá (claridad del enunciado, díficultades con Julia u otros)."
   ]
  },
  {
   "cell_type": "markdown",
   "metadata": {},
   "source": [
    "# 1. Preparación\n",
    "\n",
    "Usaremos los paquetes JuMP, Gurobi. Descomente los siguientes comandos si no tiene los paquetes y asegúrese de tener la última versión de JuMP corriendo. Vuelvalos a comentar una vez que los ejecute."
   ]
  },
  {
   "cell_type": "code",
   "execution_count": 1,
   "metadata": {},
   "outputs": [
    {
     "name": "stdout",
     "output_type": "stream",
     "text": [
      "\u001b[32m\u001b[1m      Status\u001b[22m\u001b[39m `C:\\Users\\Personal\\.julia\\environments\\v1.7\\Project.toml`\n",
      " \u001b[90m [4076af6c] \u001b[39mJuMP v1.0.0\n"
     ]
    },
    {
     "name": "stderr",
     "output_type": "stream",
     "text": [
      "\u001b[32m\u001b[1m    Updating\u001b[22m\u001b[39m registry at `C:\\Users\\Personal\\.julia\\registries\\General.toml`\n",
      "\u001b[32m\u001b[1m   Installed\u001b[22m\u001b[39m RecipesPipeline ── v0.5.2\n",
      "\u001b[32m\u001b[1m   Installed\u001b[22m\u001b[39m StatsAPI ───────── v1.2.2\n",
      "\u001b[32m\u001b[1m   Installed\u001b[22m\u001b[39m GR_jll ─────────── v0.64.2+0\n",
      "\u001b[32m\u001b[1m   Installed\u001b[22m\u001b[39m Compat ─────────── v3.43.0\n",
      "\u001b[32m\u001b[1m   Installed\u001b[22m\u001b[39m Expat_jll ──────── v2.4.8+0\n",
      "\u001b[32m\u001b[1m   Installed\u001b[22m\u001b[39m LogExpFunctions ── v0.3.12\n",
      "\u001b[32m\u001b[1m   Installed\u001b[22m\u001b[39m Parsers ────────── v2.2.4\n",
      "\u001b[32m\u001b[1m   Installed\u001b[22m\u001b[39m Latexify ───────── v0.15.14\n",
      "\u001b[32m\u001b[1m   Installed\u001b[22m\u001b[39m StaticArrays ───── v1.4.3\n",
      "\u001b[32m\u001b[1m   Installed\u001b[22m\u001b[39m JuMP ───────────── v1.0.0\n",
      "\u001b[32m\u001b[1m   Installed\u001b[22m\u001b[39m MathOptInterface ─ v1.1.2\n",
      "\u001b[32m\u001b[1m   Installed\u001b[22m\u001b[39m GR ─────────────── v0.64.2\n",
      "\u001b[32m\u001b[1m    Updating\u001b[22m\u001b[39m `C:\\Users\\Personal\\.julia\\environments\\v1.7\\Project.toml`\n",
      " \u001b[90m [4076af6c] \u001b[39m\u001b[93m↑ JuMP v0.23.2 ⇒ v1.0.0\u001b[39m\n",
      "\u001b[32m\u001b[1m    Updating\u001b[22m\u001b[39m `C:\\Users\\Personal\\.julia\\environments\\v1.7\\Manifest.toml`\n",
      " \u001b[90m [34da2185] \u001b[39m\u001b[93m↑ Compat v3.42.0 ⇒ v3.43.0\u001b[39m\n",
      " \u001b[90m [28b8d3ca] \u001b[39m\u001b[93m↑ GR v0.64.0 ⇒ v0.64.2\u001b[39m\n",
      " \u001b[90m [4076af6c] \u001b[39m\u001b[93m↑ JuMP v0.23.2 ⇒ v1.0.0\u001b[39m\n",
      " \u001b[90m [23fbe1c1] \u001b[39m\u001b[93m↑ Latexify v0.15.13 ⇒ v0.15.14\u001b[39m\n",
      " \u001b[90m [2ab3a3ac] \u001b[39m\u001b[93m↑ LogExpFunctions v0.3.10 ⇒ v0.3.12\u001b[39m\n",
      " \u001b[90m [b8f27783] \u001b[39m\u001b[93m↑ MathOptInterface v1.1.0 ⇒ v1.1.2\u001b[39m\n",
      " \u001b[90m [69de0a69] \u001b[39m\u001b[93m↑ Parsers v2.2.3 ⇒ v2.2.4\u001b[39m\n",
      " \u001b[90m [01d81517] \u001b[39m\u001b[93m↑ RecipesPipeline v0.5.1 ⇒ v0.5.2\u001b[39m\n",
      " \u001b[90m [90137ffa] \u001b[39m\u001b[93m↑ StaticArrays v1.4.2 ⇒ v1.4.3\u001b[39m\n",
      " \u001b[90m [82ae8749] \u001b[39m\u001b[93m↑ StatsAPI v1.2.1 ⇒ v1.2.2\u001b[39m\n",
      " \u001b[90m [2e619515] \u001b[39m\u001b[93m↑ Expat_jll v2.4.4+0 ⇒ v2.4.8+0\u001b[39m\n",
      " \u001b[90m [d2c73de3] \u001b[39m\u001b[93m↑ GR_jll v0.64.0+0 ⇒ v0.64.2+0\u001b[39m\n",
      "\u001b[32m\u001b[1m    Building\u001b[22m\u001b[39m GR → `C:\\Users\\Personal\\.julia\\scratchspaces\\44cfe95a-1eb2-52ea-b672-e2afdf69b78f\\af237c08bda486b74318c8070adb96efa6952530\\build.log`\n",
      "\u001b[32m\u001b[1mPrecompiling\u001b[22m\u001b[39m project...\n",
      "\u001b[32m  ✓ \u001b[39m\u001b[90mCompat\u001b[39m\n",
      "\u001b[32m  ✓ \u001b[39m\u001b[90mStatsAPI\u001b[39m\n",
      "\u001b[32m  ✓ \u001b[39m\u001b[90mLatexify\u001b[39m\n",
      "\u001b[32m  ✓ \u001b[39m\u001b[90mExpat_jll\u001b[39m\n",
      "\u001b[33m  ✓ \u001b[39m\u001b[90mParsers\u001b[39m\n",
      "\u001b[32m  ✓ \u001b[39m\u001b[90mChainRulesCore\u001b[39m\n",
      "\u001b[32m  ✓ \u001b[39m\u001b[90mRecipesPipeline\u001b[39m\n",
      "\u001b[32m  ✓ \u001b[39m\u001b[90mStaticArrays\u001b[39m\n",
      "\u001b[32m  ✓ \u001b[39m\u001b[90mWayland_jll\u001b[39m\n",
      "\u001b[32m  ✓ \u001b[39m\u001b[90mDataStructures\u001b[39m\n",
      "\u001b[32m  ✓ \u001b[39m\u001b[90mFontconfig_jll\u001b[39m\n",
      "\u001b[32m  ✓ \u001b[39m\u001b[90mChangesOfVariables\u001b[39m\n",
      "\u001b[32m  ✓ \u001b[39m\u001b[90mDiffResults\u001b[39m\n",
      "\u001b[32m  ✓ \u001b[39m\u001b[90mContour\u001b[39m\n",
      "\u001b[32m  ✓ \u001b[39m\u001b[90mxkbcommon_jll\u001b[39m\n",
      "\u001b[32m  ✓ \u001b[39m\u001b[90mStructArrays\u001b[39m\n",
      "\u001b[32m  ✓ \u001b[39m\u001b[90mSortingAlgorithms\u001b[39m\n",
      "\u001b[32m  ✓ \u001b[39m\u001b[90mQuadGK\u001b[39m\n",
      "\u001b[33m  ✓ \u001b[39m\u001b[90mJSON\u001b[39m\n",
      "\u001b[32m  ✓ \u001b[39m\u001b[90mCairo_jll\u001b[39m\n",
      "\u001b[32m  ✓ \u001b[39m\u001b[90mQt5Base_jll\u001b[39m\n",
      "\u001b[32m  ✓ \u001b[39m\u001b[90mLogExpFunctions\u001b[39m\n",
      "\u001b[33m  ✓ \u001b[39m\u001b[90mConda\u001b[39m\n",
      "\u001b[32m  ✓ \u001b[39m\u001b[90mBenchmarkTools\u001b[39m\n",
      "\u001b[32m  ✓ \u001b[39m\u001b[90mHarfBuzz_jll\u001b[39m\n",
      "\u001b[32m  ✓ \u001b[39m\u001b[90mStatsBase\u001b[39m\n",
      "\u001b[32m  ✓ \u001b[39m\u001b[90mGeometryBasics\u001b[39m\n",
      "\u001b[33m  ✓ \u001b[39mIJulia\n",
      "\u001b[32m  ✓ \u001b[39m\u001b[90mSpecialFunctions\u001b[39m\n",
      "\u001b[32m  ✓ \u001b[39m\u001b[90mDiffRules\u001b[39m\n",
      "\u001b[32m  ✓ \u001b[39m\u001b[90mlibass_jll\u001b[39m\n",
      "\u001b[32m  ✓ \u001b[39m\u001b[90mStatsFuns\u001b[39m\n",
      "\u001b[32m  ✓ \u001b[39m\u001b[90mFFMPEG_jll\u001b[39m\n",
      "\u001b[32m  ✓ \u001b[39m\u001b[90mForwardDiff\u001b[39m\n",
      "\u001b[32m  ✓ \u001b[39m\u001b[90mFFMPEG\u001b[39m\n",
      "\u001b[32m  ✓ \u001b[39m\u001b[90mGR_jll\u001b[39m\n",
      "\u001b[32m  ✓ \u001b[39mDistributions\n",
      "\u001b[32m  ✓ \u001b[39m\u001b[90mGR\u001b[39m\n",
      "\u001b[32m  ✓ \u001b[39m\u001b[90mMathOptInterface\u001b[39m\n",
      "\u001b[32m  ✓ \u001b[39mGurobi\n",
      "\u001b[32m  ✓ \u001b[39mGLPK\n",
      "\u001b[32m  ✓ \u001b[39mJuMP\n",
      "\u001b[32m  ✓ \u001b[39mPlots\n",
      "  43 dependencies successfully precompiled in 110 seconds (120 already precompiled)\n",
      "  \u001b[33m4\u001b[39m dependencies precompiled but different versions are currently loaded. Restart julia to access the new versions\n",
      "┌ Info: We haven't cleaned this depot up for a bit, running Pkg.gc()...\n",
      "└ @ Pkg C:\\buildbot\\worker\\package_win64\\build\\usr\\share\\julia\\stdlib\\v1.7\\Pkg\\src\\Pkg.jl:639\n",
      "\u001b[32m\u001b[1m      Active\u001b[22m\u001b[39m manifest files: 1 found\n",
      "\u001b[32m\u001b[1m      Active\u001b[22m\u001b[39m artifact files: 73 found\n",
      "\u001b[32m\u001b[1m      Active\u001b[22m\u001b[39m scratchspaces: 5 found\n",
      "\u001b[32m\u001b[1m     Deleted\u001b[22m\u001b[39m 3 package installations (3.611 MiB)\n"
     ]
    }
   ],
   "source": [
    "import Pkg\n",
    "Pkg.update(\"JuMP\")\n",
    "Pkg.status(\"JuMP\")"
   ]
  },
  {
   "cell_type": "code",
   "execution_count": 2,
   "metadata": {},
   "outputs": [
    {
     "name": "stdout",
     "output_type": "stream",
     "text": [
      "Set parameter Username\n",
      "Academic license - for non-commercial use only - expires 2023-03-09\n"
     ]
    },
    {
     "name": "stderr",
     "output_type": "stream",
     "text": [
      "┌ Info: Precompiling JuMP [4076af6c-e467-56ae-b986-b466b2749572]\n",
      "└ @ Base loading.jl:1423\n",
      "\u001b[33m\u001b[1m┌ \u001b[22m\u001b[39m\u001b[33m\u001b[1mWarning: \u001b[22m\u001b[39mModule JSON with build ID 20981288423301 is missing from the cache.\n",
      "\u001b[33m\u001b[1m│ \u001b[22m\u001b[39mThis may mean JSON [682c06a0-de6a-54ab-a142-c8b1cf79cde6] does not support precompilation but is imported by a module that does.\n",
      "\u001b[33m\u001b[1m└ \u001b[22m\u001b[39m\u001b[90m@ Base loading.jl:1107\u001b[39m\n",
      "\u001b[33m\u001b[1m┌ \u001b[22m\u001b[39m\u001b[33m\u001b[1mWarning: \u001b[22m\u001b[39mModule JSON with build ID 20981288423301 is missing from the cache.\n",
      "\u001b[33m\u001b[1m│ \u001b[22m\u001b[39mThis may mean JSON [682c06a0-de6a-54ab-a142-c8b1cf79cde6] does not support precompilation but is imported by a module that does.\n",
      "\u001b[33m\u001b[1m└ \u001b[22m\u001b[39m\u001b[90m@ Base loading.jl:1107\u001b[39m\n",
      "\u001b[33m\u001b[1m┌ \u001b[22m\u001b[39m\u001b[33m\u001b[1mWarning: \u001b[22m\u001b[39mModule JSON with build ID 20981288423301 is missing from the cache.\n",
      "\u001b[33m\u001b[1m│ \u001b[22m\u001b[39mThis may mean JSON [682c06a0-de6a-54ab-a142-c8b1cf79cde6] does not support precompilation but is imported by a module that does.\n",
      "\u001b[33m\u001b[1m└ \u001b[22m\u001b[39m\u001b[90m@ Base loading.jl:1107\u001b[39m\n",
      "\u001b[33m\u001b[1m┌ \u001b[22m\u001b[39m\u001b[33m\u001b[1mWarning: \u001b[22m\u001b[39mModule JSON with build ID 20981288423301 is missing from the cache.\n",
      "\u001b[33m\u001b[1m│ \u001b[22m\u001b[39mThis may mean JSON [682c06a0-de6a-54ab-a142-c8b1cf79cde6] does not support precompilation but is imported by a module that does.\n",
      "\u001b[33m\u001b[1m└ \u001b[22m\u001b[39m\u001b[90m@ Base loading.jl:1107\u001b[39m\n",
      "┌ Info: Skipping precompilation since __precompile__(false). Importing JuMP [4076af6c-e467-56ae-b986-b466b2749572].\n",
      "└ @ Base loading.jl:1124\n",
      "┌ Info: Precompiling MathOptInterface [b8f27783-ece8-5eb3-8dc8-9495eed66fee]\n",
      "└ @ Base loading.jl:1423\n",
      "\u001b[33m\u001b[1m┌ \u001b[22m\u001b[39m\u001b[33m\u001b[1mWarning: \u001b[22m\u001b[39mModule JSON with build ID 20981288423301 is missing from the cache.\n",
      "\u001b[33m\u001b[1m│ \u001b[22m\u001b[39mThis may mean JSON [682c06a0-de6a-54ab-a142-c8b1cf79cde6] does not support precompilation but is imported by a module that does.\n",
      "\u001b[33m\u001b[1m└ \u001b[22m\u001b[39m\u001b[90m@ Base loading.jl:1107\u001b[39m\n",
      "\u001b[33m\u001b[1m┌ \u001b[22m\u001b[39m\u001b[33m\u001b[1mWarning: \u001b[22m\u001b[39mModule JSON with build ID 20981288423301 is missing from the cache.\n",
      "\u001b[33m\u001b[1m│ \u001b[22m\u001b[39mThis may mean JSON [682c06a0-de6a-54ab-a142-c8b1cf79cde6] does not support precompilation but is imported by a module that does.\n",
      "\u001b[33m\u001b[1m└ \u001b[22m\u001b[39m\u001b[90m@ Base loading.jl:1107\u001b[39m\n",
      "┌ Info: Skipping precompilation since __precompile__(false). Importing MathOptInterface [b8f27783-ece8-5eb3-8dc8-9495eed66fee].\n",
      "└ @ Base loading.jl:1124\n",
      "┌ Info: Precompiling BenchmarkTools [6e4b80f9-dd63-53aa-95a3-0cdb28fa8baf]\n",
      "└ @ Base loading.jl:1423\n",
      "\u001b[33m\u001b[1m┌ \u001b[22m\u001b[39m\u001b[33m\u001b[1mWarning: \u001b[22m\u001b[39mModule JSON with build ID 20981288423301 is missing from the cache.\n",
      "\u001b[33m\u001b[1m│ \u001b[22m\u001b[39mThis may mean JSON [682c06a0-de6a-54ab-a142-c8b1cf79cde6] does not support precompilation but is imported by a module that does.\n",
      "\u001b[33m\u001b[1m└ \u001b[22m\u001b[39m\u001b[90m@ Base loading.jl:1107\u001b[39m\n",
      "┌ Info: Skipping precompilation since __precompile__(false). Importing BenchmarkTools [6e4b80f9-dd63-53aa-95a3-0cdb28fa8baf].\n",
      "└ @ Base loading.jl:1124\n",
      "┌ Info: Precompiling Gurobi [2e9cd046-0924-5485-92f1-d5272153d98b]\n",
      "└ @ Base loading.jl:1423\n",
      "\u001b[33m\u001b[1m┌ \u001b[22m\u001b[39m\u001b[33m\u001b[1mWarning: \u001b[22m\u001b[39mModule MathOptInterface with build ID 151073124896322 is missing from the cache.\n",
      "\u001b[33m\u001b[1m│ \u001b[22m\u001b[39mThis may mean MathOptInterface [b8f27783-ece8-5eb3-8dc8-9495eed66fee] does not support precompilation but is imported by a module that does.\n",
      "\u001b[33m\u001b[1m└ \u001b[22m\u001b[39m\u001b[90m@ Base loading.jl:1107\u001b[39m\n",
      "┌ Info: Skipping precompilation since __precompile__(false). Importing Gurobi [2e9cd046-0924-5485-92f1-d5272153d98b].\n",
      "└ @ Base loading.jl:1124\n"
     ]
    },
    {
     "data": {
      "text/plain": [
       "Gurobi.Env(Ptr{Nothing} @0x0000000051ddb650, false, 0)"
      ]
     },
     "execution_count": 2,
     "metadata": {},
     "output_type": "execute_result"
    }
   ],
   "source": [
    "using JuMP, Gurobi\n",
    "# Abrir un solo ambiente de Gurobi, Jupyter se marea si se crean demasiados modelos durante en una misma celda.\n",
    "const GUROBI_ENV = Gurobi.Env()"
   ]
  },
  {
   "cell_type": "markdown",
   "metadata": {},
   "source": [
    "# 2. Funciones Auxiliares\n",
    "\n",
    "Pueden obtener las instancias de prueba para sus programas gracias a las siguientes funciones:"
   ]
  },
  {
   "cell_type": "code",
   "execution_count": 55,
   "metadata": {},
   "outputs": [
    {
     "data": {
      "text/plain": [
       "crearColumnasIniciales (generic function with 1 method)"
      ]
     },
     "execution_count": 55,
     "metadata": {},
     "output_type": "execute_result"
    }
   ],
   "source": [
    "# Crea las instancias de prueba de la función resolverProblemaMaestro.\n",
    "function crearInstancias(j)\n",
    "    A = [[1 1 1 0 1 0 -1 0 1 -1; 0 -1 0 0 -1 -1 0 0 1 0; -1 1 0 -1 1 -1 1 1 -1 -1; 0 1 0 0 1 1 0 -1 1 1; -1 0 -1 1 -1 0 1 -1 -1 1], [1 0 0 -1 0 -1 -1 0 1 -1 1 1; -1 -1 0 1 1 0 1 -1 0 1 1 0; 0 1 0 1 -1 1 0 0 0 -1 -1 -1; 1 -1 1 1 -1 -1 1 1 1 1 -1 1; 1 -1 0 1 -1 -1 0 -1 1 -1 1 1; 1 1 1 -1 0 1 -1 1 1 -1 0 -1], [1 1 1 0 0 1 1 -1 0 0 0 -1 -1 0; 0 0 0 1 -1 1 0 1 0 0 -1 1 1 -1; 0 -1 0 -1 1 1 0 -1 0 0 -1 1 0 -1; 1 1 1 0 -1 0 0 -1 0 -1 0 -1 -1 -1; -1 0 0 1 1 0 -1 0 -1 1 0 1 1 0; 0 1 -1 1 1 -1 0 1 -1 0 0 0 0 -1; 0 0 0 1 0 1 1 -1 0 -1 0 0 0 1], [-1 1 -1 0 0 1 0 -1 0 0 -1 1 -1 1 -1 -1; -1 -1 1 0 -1 -1 0 0 0 1 1 -1 -1 -1 0 -1; -1 0 -1 1 0 0 0 -1 1 -1 -1 1 -1 -1 0 1; -1 -1 0 1 1 1 -1 -1 -1 -1 0 1 -1 -1 1 1; 1 0 -1 0 0 1 -1 0 0 1 -1 0 1 0 1 -1; 0 0 -1 0 0 -1 0 -1 0 1 0 0 -1 0 -1 1; -1 0 0 0 0 0 1 0 0 1 -1 0 -1 0 -1 1; 0 1 -1 1 0 1 0 0 1 -1 -1 -1 1 1 -1 -1], [-1 -1 0 -1 -1 0 1 1 1 -1 -1 1 1 -1 1 -1 -1 -1; 1 -1 0 0 -1 0 1 1 -1 -1 -1 0 0 -1 0 1 -1 -1; 1 -1 0 1 -1 1 -1 0 0 1 -1 -1 -1 1 1 0 0 0; 1 -1 -1 -1 -1 0 -1 -1 0 1 -1 0 0 1 -1 1 0 -1; -1 0 1 -1 -1 -1 -1 1 0 1 1 0 0 1 1 -1 0 -1; 0 -1 0 -1 0 1 0 -1 1 0 -1 -1 0 1 0 1 1 0; -1 0 1 -1 0 -1 0 -1 -1 0 -1 0 0 1 1 -1 -1 0; 0 0 1 -1 1 1 -1 -1 -1 -1 -1 0 1 -1 -1 -1 0 0; 1 -1 1 0 0 0 0 -1 -1 -1 -1 1 -1 1 1 0 1 1], [0 1 0 0 1 1 -1 1 0 0 1 0 0 -1 0 -1 1 0 0 -1; -1 1 1 1 0 0 1 1 0 0 0 1 0 -1 -1 -1 1 0 1 0; 1 -1 0 -1 1 1 -1 1 0 0 1 1 -1 0 -1 1 1 0 -1 1; 1 -1 0 1 -1 -1 1 0 1 1 -1 -1 1 -1 -1 0 0 1 1 -1; -1 1 -1 -1 -1 1 -1 -1 1 -1 1 1 0 -1 -1 -1 -1 0 0 0; 0 0 0 0 1 1 -1 1 1 1 1 -1 1 -1 1 -1 1 0 -1 -1; 1 -1 0 0 -1 -1 1 1 0 0 -1 0 1 1 -1 1 0 0 0 1; 0 0 -1 -1 1 0 -1 1 0 0 0 -1 1 0 0 1 -1 1 1 0; -1 -1 1 -1 1 -1 0 -1 1 0 -1 0 0 -1 0 -1 1 -1 1 1; 0 1 0 1 0 0 0 1 -1 1 -1 -1 1 -1 1 0 -1 -1 -1 -1], [0 -1 1 1 1 0 -1 -1 1 1 -1 1 0 0 1 0 1 0 -1 -1 0 0; -1 -1 -1 -1 -1 -1 -1 -1 1 -1 0 0 1 1 0 0 0 -1 1 0 -1 -1; 0 -1 0 0 0 0 1 0 -1 0 0 1 0 -1 1 1 -1 0 0 1 0 -1; 0 1 -1 1 1 -1 -1 1 0 1 1 -1 0 -1 1 -1 1 1 -1 1 1 1; 1 1 1 -1 -1 -1 -1 1 1 -1 -1 1 -1 1 1 1 0 0 -1 1 0 1; 1 -1 0 1 -1 -1 1 1 0 -1 0 0 0 -1 1 1 -1 -1 0 0 0 -1; 0 0 1 1 0 1 1 -1 -1 -1 1 -1 0 0 -1 -1 -1 1 0 0 1 0; 1 1 0 -1 1 -1 1 1 0 1 0 -1 -1 -1 1 0 -1 -1 0 -1 1 1; -1 1 -1 0 -1 -1 1 1 0 1 0 -1 0 1 1 -1 -1 0 -1 0 1 0; -1 0 0 -1 -1 0 -1 0 1 0 0 0 -1 -1 -1 0 -1 1 0 1 0 -1; -1 0 0 -1 1 1 -1 1 -1 1 0 -1 0 0 1 -1 1 0 0 0 1 -1], [0 0 0 0 1 1 1 -1 1 0 1 1 1 -1 -1 -1 1 1 1 -1 1 1 -1 0; -1 1 1 1 -1 0 1 1 1 1 1 -1 0 -1 0 1 -1 -1 -1 -1 -1 1 0 -1; -1 -1 0 1 1 1 -1 0 0 1 -1 1 -1 1 0 -1 -1 0 0 -1 0 -1 1 0; 0 -1 -1 0 0 1 0 0 1 -1 0 -1 -1 -1 0 1 -1 0 -1 0 -1 -1 0 -1; 1 1 0 0 -1 0 0 -1 0 0 -1 1 0 0 0 1 1 -1 -1 1 -1 0 -1 1; 0 1 1 0 0 1 1 -1 -1 1 -1 1 1 -1 0 1 1 -1 -1 -1 0 -1 0 1; -1 -1 0 0 -1 -1 -1 1 0 0 -1 -1 1 -1 0 -1 0 0 -1 -1 -1 1 0 -1; 1 -1 -1 1 1 1 -1 -1 0 -1 -1 -1 0 -1 -1 0 0 -1 -1 1 -1 0 -1 0; -1 1 0 -1 -1 1 -1 -1 1 0 -1 -1 0 1 -1 -1 0 0 1 0 1 1 -1 0; 0 -1 0 -1 1 -1 1 1 -1 0 1 -1 1 1 1 0 0 1 -1 -1 1 1 1 -1; 1 1 1 -1 -1 -1 -1 -1 0 1 -1 -1 1 0 -1 -1 1 0 0 1 1 0 0 0; 1 0 0 0 -1 -1 0 1 0 0 0 -1 -1 -1 -1 -1 1 1 1 1 -1 1 0 0], [0 -1 -1 1 1 0 0 0 -1 1 1 1 -1 -1 -1 -1 1 0 1 0 -1 0 0 1 -1 1; 0 0 1 -1 0 0 1 -1 1 0 1 -1 -1 1 0 -1 1 0 0 -1 0 -1 0 1 -1 -1; -1 -1 -1 -1 0 1 0 -1 0 0 1 -1 0 0 1 -1 0 0 -1 1 -1 0 0 -1 -1 1; 0 -1 -1 -1 -1 1 1 1 1 0 1 0 1 1 1 1 0 0 -1 -1 -1 1 0 0 1 0; 0 0 -1 0 -1 0 0 0 0 -1 1 1 -1 0 1 -1 1 -1 0 0 -1 -1 0 1 1 1; 1 -1 0 -1 0 -1 0 -1 1 0 0 1 -1 -1 0 -1 1 1 0 1 -1 1 0 0 -1 0; 0 -1 0 -1 1 0 0 1 1 0 -1 0 -1 0 0 0 0 -1 -1 1 -1 1 -1 -1 0 -1; 1 -1 -1 1 -1 0 1 0 0 -1 -1 -1 1 1 -1 0 0 -1 -1 1 0 1 0 1 -1 1; 0 0 -1 0 1 0 0 1 1 1 1 0 1 1 0 0 -1 -1 1 -1 0 -1 0 -1 1 1; -1 0 -1 -1 1 0 -1 1 1 -1 1 0 -1 0 -1 0 0 1 1 -1 1 -1 -1 1 -1 -1; 1 0 -1 0 0 0 -1 -1 -1 0 1 1 -1 -1 0 1 -1 -1 -1 0 0 1 1 0 1 1; -1 -1 0 0 1 1 1 0 1 1 0 0 -1 -1 0 0 -1 0 -1 1 0 0 -1 0 -1 1; 0 0 1 -1 1 1 -1 0 -1 1 1 -1 -1 1 0 0 1 -1 0 0 1 0 0 -1 -1 0], [-1 0 0 1 1 0 1 -1 0 1 -1 0 -1 -1 0 -1 1 1 0 0 -1 1 -1 -1 0 0 0 -1; 1 0 1 -1 1 1 1 -1 0 -1 1 1 1 0 0 -1 1 -1 1 1 1 1 0 0 0 0 -1 0; -1 1 0 1 0 0 -1 0 -1 1 0 1 1 -1 -1 -1 0 -1 1 1 -1 -1 0 1 1 -1 0 -1; -1 1 0 -1 -1 1 1 -1 -1 -1 0 1 1 -1 -1 0 -1 1 1 0 1 0 -1 -1 1 1 1 0; -1 1 -1 1 1 -1 -1 -1 1 1 0 -1 1 0 1 0 0 1 -1 0 -1 1 0 -1 1 0 0 1; 0 1 -1 0 0 0 -1 0 -1 0 -1 0 0 0 1 0 0 -1 -1 0 1 0 1 0 -1 1 -1 -1; 1 1 -1 1 1 -1 -1 0 -1 1 -1 -1 0 1 0 1 -1 1 -1 0 -1 -1 1 -1 1 1 -1 -1; 0 1 1 -1 1 0 0 -1 -1 1 0 0 0 0 -1 0 1 -1 1 0 1 -1 1 0 -1 1 0 -1; 0 -1 1 1 -1 0 1 -1 0 0 1 0 -1 1 -1 1 0 -1 1 -1 0 0 0 0 -1 0 -1 1; -1 0 0 0 -1 -1 -1 0 0 1 1 1 -1 0 -1 1 1 -1 -1 1 -1 -1 1 1 1 -1 1 0; 0 0 1 0 1 -1 -1 0 0 1 1 0 1 -1 0 1 -1 0 1 0 -1 -1 -1 -1 1 0 1 -1; 1 1 -1 0 1 -1 -1 -1 0 0 -1 0 1 -1 -1 -1 0 0 0 -1 1 -1 1 0 0 0 -1 1; -1 1 1 0 1 0 -1 0 1 -1 0 -1 1 0 0 1 0 1 -1 -1 1 1 0 0 0 1 -1 1; -1 0 -1 -1 1 1 1 0 1 0 1 -1 0 0 1 1 0 1 1 1 0 -1 1 -1 1 1 -1 -1], [1 1 0 1 0 1 -1 1 0 1 1 1 -1 0 0 0 0 1 0 -1 -1 0 1 -1 -1 0 -1 0 1 -1; -1 0 0 0 0 -1 -1 -1 -1 0 1 1 0 0 -1 0 1 -1 0 0 0 0 -1 1 0 0 -1 -1 1 1; 1 -1 1 0 0 1 -1 -1 0 1 1 -1 -1 1 0 1 0 0 0 0 -1 -1 1 1 0 0 0 0 -1 1; 1 0 0 -1 1 1 1 -1 0 -1 1 0 0 1 -1 0 1 0 1 -1 1 1 0 0 1 1 0 1 1 0; 1 0 1 -1 1 0 0 -1 0 -1 -1 0 0 -1 1 1 0 1 -1 1 0 1 -1 -1 1 1 0 1 1 1; -1 1 0 -1 1 -1 0 -1 -1 -1 -1 1 1 -1 0 -1 -1 1 0 -1 -1 1 1 0 1 0 0 0 -1 0; -1 0 -1 1 -1 0 0 1 0 1 1 1 1 1 0 -1 0 -1 0 0 -1 1 0 0 1 1 1 -1 -1 -1; -1 0 0 0 -1 -1 1 0 0 -1 0 -1 1 1 -1 1 1 1 0 -1 0 1 1 0 1 0 -1 1 0 -1; 1 1 0 -1 0 1 0 1 -1 0 -1 1 0 0 0 -1 1 1 1 1 1 1 0 0 1 0 0 1 1 1; -1 1 -1 -1 0 0 0 0 0 1 0 -1 -1 0 -1 0 0 -1 0 -1 1 1 0 0 -1 1 1 -1 -1 0; 1 0 1 1 -1 -1 0 -1 1 0 1 1 1 1 0 0 0 -1 1 1 0 1 1 1 -1 -1 -1 -1 0 1; 1 -1 -1 1 -1 1 -1 0 -1 0 0 0 -1 1 1 -1 0 1 -1 1 0 0 0 -1 0 1 0 1 0 0; 1 1 0 -1 0 1 0 0 -1 1 1 0 1 0 1 0 -1 0 0 -1 -1 1 0 1 -1 -1 1 0 1 -1; 1 0 1 -1 -1 -1 1 0 1 0 0 -1 -1 0 0 1 1 1 -1 -1 1 0 1 0 0 0 1 0 1 -1; 1 0 0 -1 0 1 0 -1 0 -1 0 -1 1 0 -1 0 1 0 -1 -1 0 -1 0 -1 -1 0 1 -1 0 0]]\n",
    "    g = [[-0.2, 0.0, 0.2, 0.2, 0.2], [0.5, 0.3333333333333333, -0.3333333333333333, 0.0, 0.6666666666666666, 0.16666666666666666], [0.14285714285714285, 0.14285714285714285, 0.14285714285714285, 0.14285714285714285, -0.2857142857142857, -0.2857142857142857, 0.0], [-0.5, -0.5, 0.0, -0.125, 0.125, -0.5, -0.5, -0.25], [0.1111111111111111, 0.3333333333333333, -0.4444444444444444, -0.2222222222222222, -0.2222222222222222, -0.7777777777777778, 0.0, 0.3333333333333333, -0.1111111111111111], [0.0, 0.0, 0.2, -0.2, 0.3, 0.0, 0.4, -0.3, 0.2, 0.1], [-0.09090909090909091, 0.0, -0.09090909090909091, -0.09090909090909091, 0.09090909090909091, 0.0, -0.18181818181818182, 0.5454545454545454, -0.2727272727272727, -0.2727272727272727, 0.36363636363636365], [0.0, 0.08333333333333333, -0.16666666666666666, -0.08333333333333333, 0.16666666666666666, -0.3333333333333333, 0.16666666666666666, -0.3333333333333333, 0.16666666666666666, -0.3333333333333333, -0.16666666666666666, -0.16666666666666666], [0.0, -0.46153846153846156, 0.23076923076923078, 0.07692307692307693, 0.3076923076923077, 0.5384615384615384, -0.46153846153846156, 0.0, 0.15384615384615385, -0.23076923076923078, -0.3076923076923077, -0.15384615384615385, -0.3076923076923077], [-0.2857142857142857, 0.0, 0.42857142857142855, -0.21428571428571427, -0.14285714285714285, 0.07142857142857142, 0.2857142857142857, -0.21428571428571427, 0.07142857142857142, 0.14285714285714285, 0.0, 0.21428571428571427, 0.2857142857142857, -0.2857142857142857], [0.3333333333333333, 0.06666666666666667, -0.13333333333333333, -0.06666666666666667, -0.2, 0.26666666666666666, 0.06666666666666667, -0.13333333333333333, 0.26666666666666666, -0.06666666666666667, -0.06666666666666667, 0.26666666666666666, 0.06666666666666667, 0.06666666666666667, 0.2]]\n",
    "    d = [[0.4, 0.0, -0.2, -0.2, 0.0], [-0.16666666666666666, 0.3333333333333333, -0.16666666666666666, 0.0, -0.3333333333333333, 0.16666666666666666], [0.2857142857142857, 0.42857142857142855, 0.42857142857142855, -0.2857142857142857, -0.14285714285714285, 0.14285714285714285, -0.42857142857142855], [0.0, 0.375, 0.25, -0.5, 0.125, 0.125, -0.125, 0.0], [-0.6666666666666666, -0.5555555555555556, 0.1111111111111111, -0.2222222222222222, -0.1111111111111111, 0.0, 0.3333333333333333, -0.1111111111111111, -0.3333333333333333], [0.0, -0.1, 0.1, 0.5, 0.2, -0.1, -0.6, -0.2, 0.0, -0.1], [0.0, -0.09090909090909091, -0.36363636363636365, 0.2727272727272727, 0.09090909090909091, -0.18181818181818182, -0.18181818181818182, -0.09090909090909091, 0.0, 0.18181818181818182, -0.18181818181818182], [0.0, 0.0, 0.16666666666666666, -0.16666666666666666, 0.16666666666666666, -0.3333333333333333, -0.3333333333333333, -0.16666666666666666, -0.08333333333333333, -0.16666666666666666, 0.25, -0.16666666666666666], [-0.5384615384615384, -0.38461538461538464, 0.23076923076923078, 0.0, 0.07692307692307693, 0.0, 0.07692307692307693, -0.23076923076923078, -0.3076923076923077, 0.07692307692307693, 0.07692307692307693, 0.07692307692307693, 0.3076923076923077], [0.5, 0.07142857142857142, -0.14285714285714285, -0.5, 0.2857142857142857, 0.0, -0.21428571428571427, 0.14285714285714285, 0.0, 0.07142857142857142, -0.21428571428571427, -0.2857142857142857, 0.2857142857142857, -0.21428571428571427], [0.2, -0.26666666666666666, 0.13333333333333333, -0.26666666666666666, 0.0, 0.06666666666666667, 0.26666666666666666, 0.0, 0.2, -0.26666666666666666, 0.4666666666666667, 0.0, 0.2, 0.0, 0.0]]\n",
    "    return A[j], g[j], d[j]\n",
    "end\n",
    "\n",
    "# Retorna la cantidad de vertices V, la cantidad de aristas del grafo bipartito m, y sus aristas E.\n",
    "function crearGrafoBipartito()\n",
    "    V = 20\n",
    "    m = 194\n",
    "    E = [[1, 2],[1, 4],[1, 6],[1, 8],[1, 10],[1, 12],[1, 14],[1, 16],[1, 18],[1, 20],[2, 3],[2, 5],[2, 7],[2, 9],[2, 11],[2, 13],[2, 15],[2, 17],[2, 19],[3, 4],[3, 6],[3, 8],[3, 10],[3, 12],[3, 14],[3, 16],[3, 18],[3, 20],[4, 5],[4, 7],[4, 9],[4, 11],[4, 13],[4, 15],[4, 17],[4, 19],[5, 6],[5, 8],[5, 10],[5, 12],[5, 14],[5, 16],[5, 18],[5, 20],[6, 7],[6, 9],[6, 11],[6, 13],[6, 15],[6, 17],[6, 19],[7, 8],[7, 10],[7, 12],[7, 16],[7, 18],[7, 20],[8, 9],[8, 11],[8, 13],[8, 15],[8, 17],[8, 19],[9, 10],[9, 14],[9, 16],[9, 18],[9, 20],[10, 11],[10, 13],[10, 17],[10, 19],[11, 12],[11, 14],[11, 16],[11, 18],[11, 20],[12, 13],[12, 15],[12, 17],[12, 19],[13, 14],[13, 16],[13, 18],[13, 20],[14, 15],[14, 17],[14, 19],[15, 16],[15, 18],[15, 20],[16, 17],[16, 19],[17, 18],[17, 20],[18, 19],[19, 20]]\n",
    "    return V, m, E\n",
    "end\n",
    "\n",
    "# Crea una instancia de prueba para resolverProblemaPricing.\n",
    "function crearTestY()\n",
    "    y = [0 1 0 0 0 0 0 0 0 0 0 0 0 0 0 0 0 0 0 1; 1 0 0 0 0 0 0 0 0 0 0 0 0 0 0 0 0 0 0 0; 0 0 0 1 0 0 0 0 0 0 0 0 0 0 0 0 0 0 0 0; 0 0 1 0 1 0 0 0 0 0 0 0 0 0 0 0 0 0 0 0; 0 0 0 1 0 1 0 0 0 0 0 0 0 0 0 0 0 0 0 0; 0 0 0 0 1 0 1 0 0 0 0 0 0 0 0 0 0 0 0 0; 0 0 0 0 0 1 0 1 0 0 0 0 0 0 0 0 0 0 0 0; 0 0 0 0 0 0 1 0 1 0 0 0 0 0 0 0 0 0 0 0; 0 0 0 0 0 0 0 1 0 1 0 0 0 0 0 0 0 0 0 0; 0 0 0 0 0 0 0 0 1 0 1 0 0 0 0 0 0 0 0 0; 0 0 0 0 0 0 0 0 0 1 0 1 0 0 0 0 0 0 0 0; 0 0 0 0 0 0 0 0 0 0 1 0 1 0 0 0 0 0 0 0; 0 0 0 0 0 0 0 0 0 0 0 1 0 1 0 0 0 0 0 0; 0 0 0 0 0 0 0 0 0 0 0 0 1 0 1 0 0 0 0 0; 0 0 0 0 0 0 0 0 0 0 0 0 0 1 0 1 0 0 0 0; 0 0 0 0 0 0 0 0 0 0 0 0 0 0 1 0 1 0 0 0; 0 0 0 0 0 0 0 0 0 0 0 0 0 0 0 1 0 1 0 0; 0 0 0 0 0 0 0 0 0 0 0 0 0 0 0 0 1 0 1 0; 0 0 0 0 0 0 0 0 0 0 0 0 0 0 0 0 0 1 0 1; 1 0 0 0 0 0 0 0 0 0 0 0 0 0 0 0 0 0 1 0]\n",
    "    return y\n",
    "end\n",
    "\n",
    "# Crea una instancia de prueba para resolverGeneracionColumnas.\n",
    "function crearParametros()\n",
    "    g = [0 1 2 3 4 5 6 7 8 9 10 11 12 13 14 15 16 17 18 19; 1 0 1 2 3 4 5 6 7 8 9 10 11 12 13 14 15 16 17 18; 2 1 0 1 2 3 4 5 6 7 8 9 10 11 12 13 14 15 16 17; 3 2 1 0 1 2 3 4 5 6 7 8 9 10 11 12 13 14 15 16; 4 3 2 1 0 1 2 3 4 5 6 7 8 9 10 11 12 13 14 15; 5 4 3 2 1 0 1 2 3 4 5 6 7 8 9 10 11 12 13 14; 6 5 4 3 2 1 0 1 2 3 4 5 6 7 8 9 10 11 12 13; 7 6 5 4 3 2 1 0 1 2 3 4 5 6 7 8 9 10 11 12; 8 7 6 5 4 3 2 1 0 1 2 3 4 5 6 7 8 9 10 11; 9 8 7 6 5 4 3 2 1 0 1 2 3 4 5 6 7 8 9 10; 10 9 8 7 6 5 4 3 2 1 0 1 2 3 4 5 6 7 8 9; 11 10 9 8 7 6 5 4 3 2 1 0 1 2 3 4 5 6 7 8; 12 11 10 9 8 7 6 5 4 3 2 1 0 1 2 3 4 5 6 7; 13 12 11 10 9 8 7 6 5 4 3 2 1 0 1 2 3 4 5 6; 14 13 12 11 10 9 8 7 6 5 4 3 2 1 0 1 2 3 4 5; 15 14 13 12 11 10 9 8 7 6 5 4 3 2 1 0 1 2 3 4; 16 15 14 13 12 11 10 9 8 7 6 5 4 3 2 1 0 1 2 3; 17 16 15 14 13 12 11 10 9 8 7 6 5 4 3 2 1 0 1 2; 18 17 16 15 14 13 12 11 10 9 8 7 6 5 4 3 2 1 0 1; 19 18 17 16 15 14 13 12 11 10 9 8 7 6 5 4 3 2 1 0]\n",
    "    d = [0.5 0.5 0.5 0.5 0.5 0.5 0.5 0.5 0.5 0.5 0.5 0.5 0.5 0.5 0.5 0.5 0.5 0.5 0.5 0.5; 0.5 0.5 0.5 0.5 0.5 0.5 0.5 0.5 0.5 0.5 0.5 0.5 0.5 0.5 0.5 0.5 0.5 0.5 0.5 0.5; 0.5 0.5 0.5 0.5 0.5 0.5 0.5 0.5 0.5 0.5 0.5 0.5 0.5 0.5 0.5 0.5 0.5 0.5 0.5 0.5; 0.5 0.5 0.5 0.5 0.5 0.5 0.5 0.5 0.5 0.5 0.5 0.5 0.5 0.5 0.5 0.5 0.5 0.5 0.5 0.5; 0.5 0.5 0.5 0.5 0.5 0.5 0.5 0.5 0.5 0.5 0.5 0.5 0.5 0.5 0.5 0.5 0.5 0.5 0.5 0.5; 0.5 0.5 0.5 0.5 0.5 0.5 0.5 0.5 0.5 0.5 0.5 0.5 0.5 0.5 0.5 0.5 0.5 0.5 0.5 0.5; 0.5 0.5 0.5 0.5 0.5 0.5 0.5 0.5 0.5 0.5 0.5 0.5 0.5 0.5 0.5 0.5 0.5 0.5 0.5 0.5; 0.5 0.5 0.5 0.5 0.5 0.5 0.5 0.5 0.5 0.5 0.5 0.5 0.5 0.5 0.5 0.5 0.5 0.5 0.5 0.5; 0.5 0.5 0.5 0.5 0.5 0.5 0.5 0.5 0.5 0.5 0.5 0.5 0.5 0.5 0.5 0.5 0.5 0.5 0.5 0.5; 0.5 0.5 0.5 0.5 0.5 0.5 0.5 0.5 0.5 0.5 0.5 0.5 0.5 0.5 0.5 0.5 0.5 0.5 0.5 0.5; 0.5 0.5 0.5 0.5 0.5 0.5 0.5 0.5 0.5 0.5 0.5 0.5 0.5 0.5 0.5 0.5 0.5 0.5 0.5 0.5; 0.5 0.5 0.5 0.5 0.5 0.5 0.5 0.5 0.5 0.5 0.5 0.5 0.5 0.5 0.5 0.5 0.5 0.5 0.5 0.5; 0.5 0.5 0.5 0.5 0.5 0.5 0.5 0.5 0.5 0.5 0.5 0.5 0.5 0.5 0.5 0.5 0.5 0.5 0.5 0.5; 0.5 0.5 0.5 0.5 0.5 0.5 0.5 0.5 0.5 0.5 0.5 0.5 0.5 0.5 0.5 0.5 0.5 0.5 0.5 0.5; 0.5 0.5 0.5 0.5 0.5 0.5 0.5 0.5 0.5 0.5 0.5 0.5 0.5 0.5 0.5 0.5 0.5 0.5 0.5 0.5; 0.5 0.5 0.5 0.5 0.5 0.5 0.5 0.5 0.5 0.5 0.5 0.5 0.5 0.5 0.5 0.5 0.5 0.5 0.5 0.5; 0.5 0.5 0.5 0.5 0.5 0.5 0.5 0.5 0.5 0.5 0.5 0.5 0.5 0.5 0.5 0.5 0.5 0.5 0.5 0.5; 0.5 0.5 0.5 0.5 0.5 0.5 0.5 0.5 0.5 0.5 0.5 0.5 0.5 0.5 0.5 0.5 0.5 0.5 0.5 0.5; 0.5 0.5 0.5 0.5 0.5 0.5 0.5 0.5 0.5 0.5 0.5 0.5 0.5 0.5 0.5 0.5 0.5 0.5 0.5 0.5; 0.5 0.5 0.5 0.5 0.5 0.5 0.5 0.5 0.5 0.5 0.5 0.5 0.5 0.5 0.5 0.5 0.5 0.5 0.5 0.5]\n",
    "    return g, d\n",
    "end\n",
    "\n",
    "# Crea un conjunto de columnas tales que (P^K_0) es factible.\n",
    "function crearColumnasIniciales()\n",
    "    M1 = [[1 20], [3 2], [5 4], [7 6], [9 8], [11 10], [13 12], [15 14], [17 16], [19 18]]\n",
    "    M2 = [[1 2], [3 4], [5 6], [7 8], [9 10], [11 12], [13 14], [15 16], [17 18], [19 20]]\n",
    "    K_0 = []\n",
    "    push!(K_0,M1)\n",
    "    push!(K_0,M2)\n",
    "    return K_0\n",
    "end"
   ]
  },
  {
   "cell_type": "markdown",
   "metadata": {},
   "source": [
    "# 3. Problemas\n",
    "\n",
    "Escriba sus respuestas aquí, tanto los códigos en Julia como respuestas a preguntas en Markdown.\n",
    "\n",
    "## Problema 1\n",
    "Implemente la función *resolverProblemaMaestro(m,A,g,d,K)* que crea un modelo para $(\\mathcal{P}^{k})$, lo resuelva y retorne el valor objetivo, las variables primales y duales en el óptimo. Es importante que $K$ sea un parámetro para que permita ir agregando columnas.\n",
    "\n",
    "*Indicación:* Puede apoyarse libremente en el siguiente template."
   ]
  },
  {
   "cell_type": "markdown",
   "metadata": {},
   "source": [
    "**Solución:**  El método es (usando el template entregado en el enunciado):"
   ]
  },
  {
   "cell_type": "code",
   "execution_count": 51,
   "metadata": {},
   "outputs": [
    {
     "data": {
      "text/plain": [
       "resolverProblemaMaestro (generic function with 1 method)"
      ]
     },
     "execution_count": 51,
     "metadata": {},
     "output_type": "execute_result"
    }
   ],
   "source": [
    "function resolverProblemaMaestro(m,A,g,d,K)\n",
    "    maestro = Model(optimizer_with_attributes(() -> Gurobi.Optimizer(GUROBI_ENV), \"Presolve\"=>0, \"Cuts\"=>0, \"Heuristics\"=>0, \"Threads\"=>1))\n",
    "    set_silent(maestro)\n",
    "    \n",
    "    n = size(K,1) #columnas\n",
    "    A_k = zeros(m, n)\n",
    "    for i in 1:n\n",
    "        A_k[:,i]=A[:,K[i]]\n",
    "    end    \n",
    "    \n",
    "    # Variables\n",
    "    @variable(maestro, x[1:n] >= 0)\n",
    "    \n",
    "    # Funcion Objetivo\n",
    "    @objective(maestro, Max, g' * A_k * x)\n",
    "    \n",
    "    # Restricciones \n",
    "    @constraint(maestro, primeraRestriccion, A_k * x .<= d)\n",
    "    @constraint(maestro, segundaRestriccion, sum(x[j] for j in 1:n) == 1)\n",
    "    \n",
    "    optimize!(maestro)\n",
    "    \n",
    "    optimo = (termination_status(maestro) == MOI.OPTIMAL)\n",
    "    if optimo\n",
    "        valor_objetivo = objective_value(maestro)\n",
    "        x = value.(maestro[:x])\n",
    "        y = dual.(maestro[:primeraRestriccion])\n",
    "        theta = dual.(maestro[:segundaRestriccion])\n",
    "\n",
    "    else\n",
    "        valor_objetivo, x, y, theta = \"No hay optimo\", 0, 0, 0\n",
    "    end\n",
    "    \n",
    "    return valor_objetivo, x, y, theta\n",
    "end"
   ]
  },
  {
   "cell_type": "markdown",
   "metadata": {},
   "source": [
    "## Problema 2\n",
    "Presente ordenadamente sus resultados."
   ]
  },
  {
   "cell_type": "code",
   "execution_count": 52,
   "metadata": {},
   "outputs": [
    {
     "name": "stdout",
     "output_type": "stream",
     "text": [
      "INSTANCIA 1\n",
      "Set parameter Presolve to value 0\n",
      "Set parameter Cuts to value 0\n",
      "Set parameter Heuristics to value 0\n",
      "Set parameter Threads to value 1\n",
      "No hay optimo\n",
      "INSTANCIA 2\n",
      "Set parameter Presolve to value 0\n",
      "Set parameter Cuts to value 0\n",
      "Set parameter Heuristics to value 0\n",
      "Set parameter Threads to value 1\n",
      "No hay optimo\n",
      "INSTANCIA 3\n",
      "Set parameter Presolve to value 0\n",
      "Set parameter Cuts to value 0\n",
      "Set parameter Heuristics to value 0\n",
      "Set parameter Threads to value 1\n",
      "No hay optimo\n",
      "INSTANCIA 4\n",
      "Set parameter Presolve to value 0\n",
      "Set parameter Cuts to value 0\n",
      "Set parameter Heuristics to value 0\n",
      "Set parameter Threads to value 1\n",
      "No hay optimo\n",
      "INSTANCIA 5\n",
      "Set parameter Presolve to value 0\n",
      "Set parameter Cuts to value 0\n",
      "Set parameter Heuristics to value 0\n",
      "Set parameter Threads to value 1\n",
      "Valor objetivo: 1.0246913580246912\n",
      "Variable primal:\n",
      "x = [0.8888888888888888, 0.1111111111111111, 0.0, 0.0]\n",
      "Variables duales:\n",
      "y =[-0.0, -0.0, -0.0, -0.0, -0.7777777777777777, -0.0, -0.0, -0.0, -0.0]\n",
      "theta = -1.1111111111111112\n",
      "INSTANCIA 6\n",
      "Set parameter Presolve to value 0\n",
      "Set parameter Cuts to value 0\n",
      "Set parameter Heuristics to value 0\n",
      "Set parameter Threads to value 1\n",
      "No hay optimo\n",
      "INSTANCIA 7\n",
      "Set parameter Presolve to value 0\n",
      "Set parameter Cuts to value 0\n",
      "Set parameter Heuristics to value 0\n",
      "Set parameter Threads to value 1\n",
      "No hay optimo\n",
      "INSTANCIA 8\n",
      "Set parameter Presolve to value 0\n",
      "Set parameter Cuts to value 0\n",
      "Set parameter Heuristics to value 0\n",
      "Set parameter Threads to value 1\n",
      "No hay optimo\n",
      "INSTANCIA 9\n",
      "Set parameter Presolve to value 0\n",
      "Set parameter Cuts to value 0\n",
      "Set parameter Heuristics to value 0\n",
      "Set parameter Threads to value 1\n",
      "No hay optimo\n",
      "INSTANCIA 10\n",
      "Set parameter Presolve to value 0\n",
      "Set parameter Cuts to value 0\n",
      "Set parameter Heuristics to value 0\n",
      "Set parameter Threads to value 1\n",
      "No hay optimo\n",
      "INSTANCIA 11\n",
      "Set parameter Presolve to value 0\n",
      "Set parameter Cuts to value 0\n",
      "Set parameter Heuristics to value 0\n",
      "Set parameter Threads to value 1\n",
      "No hay optimo\n"
     ]
    }
   ],
   "source": [
    "for j in 1:11\n",
    "    println(\"INSTANCIA \"* string(j))\n",
    "    A, g, d = crearInstancias(j)\n",
    "    i = size(A,1)\n",
    "    K = []\n",
    "    for m in 1:i\n",
    "        if m%2 == 0\n",
    "            push!(K,m)\n",
    "        end\n",
    "    end\n",
    "    #print(K)\n",
    "    \n",
    "    valor_objetivo, x, y, theta = resolverProblemaMaestro(i,A,g,d,K)\n",
    "    if valor_objetivo == \"No hay optimo\"\n",
    "        println(valor_objetivo)\n",
    "    else    \n",
    "        println(\"Valor objetivo: \",valor_objetivo)\n",
    "        println(\"Variable primal:\")\n",
    "        println(\"x = \",x)\n",
    "        println(\"Variables duales:\")\n",
    "        println(\"y =\", y)\n",
    "        println(\"theta = \", theta)\n",
    "    end\n",
    "    \n",
    "end"
   ]
  },
  {
   "cell_type": "markdown",
   "metadata": {},
   "source": []
  },
  {
   "cell_type": "code",
   "execution_count": 53,
   "metadata": {},
   "outputs": [
    {
     "name": "stdout",
     "output_type": "stream",
     "text": [
      "Set parameter Presolve to value 0\n",
      "Set parameter Cuts to value 0\n",
      "Set parameter Heuristics to value 0\n",
      "Set parameter Threads to value 1\n"
     ]
    },
    {
     "data": {
      "text/plain": [
       "(1.0246913580246912, [0.8888888888888888, 0.1111111111111111, 0.0, 0.0], [-0.0, -0.0, -0.0, -0.0, -0.7777777777777777, -0.0, -0.0, -0.0, -0.0], -1.1111111111111112)"
      ]
     },
     "execution_count": 53,
     "metadata": {},
     "output_type": "execute_result"
    }
   ],
   "source": [
    "A, g, d = crearInstancias(5)\n",
    "i = size(A,1)\n",
    "K = []\n",
    "for m in 1:i\n",
    "    if m%2 == 0\n",
    "        push!(K,m)\n",
    "    end\n",
    "end\n",
    "resolverProblemaMaestro(i,A,g,d,K)"
   ]
  },
  {
   "cell_type": "markdown",
   "metadata": {},
   "source": [
    "## P3\n",
    "Escriba y justifique su modelo lineal entero."
   ]
  },
  {
   "cell_type": "markdown",
   "metadata": {},
   "source": [
    "**Solución:** Sean $X$ e $Y$ dos conjuntos de cardinal $N$, luego podemos identificar cada emparejamiento maximal $M(X,Y)$ con una permutación $\\sigma:\\{1,\\dots,N\\}\\to\\{1,\\dots,N\\}$. Luego, sabemos que la cantidad de permutaciones posibles es $N!$.\n",
    "\n",
    "Luego sea $A$ una matriz tal que cada columna representa una configuración de emparejamiento posible sobre los conjuntos $X$ e $Y$, en cuyo caso, notemos que $A$ tiene $N^{2}$ filas pues es la cantidad de aristas que tiene un grafo bipartito completo, y tiene $N!$ columnas, pues cada columna representa un posible emparejamiento.\n",
    "\n",
    "Sea $(\\overline{y},\\overline{\\theta})$ la solución óptima de $(\\mathcal{D}^{K})$. Definimos $c := \\overline{y} - g$, luego estudiamos el problema \n",
    "\\begin{equation}\n",
    "    (\\mathcal{E})\\qquad \\min_{j\\in[n]} (A^{t}(\\overline{y} - g))j    \n",
    "\\end{equation}\n",
    "donde\n",
    "\\begin{equation}\n",
    "    (A^{t}c)_{j} = \\sum_{i=1}^{N^{2}} A_{ij} c_{i}, \n",
    "\\end{equation}\n",
    "entonces podemos escribir $A_{\\cdot j}$ es la indicatriz del emparejamiento $j$-ésimo y buscamos minimizar el costo de dicho emparejamiento dado por la *función de costos* $c$ definida antes.\n",
    "\n",
    "Planteamos el problema de optimización a resolver como:\n",
    "\\begin{eqnarray*}\n",
    "    (\\mathcal{E}') \\left\\{\n",
    "    \\begin{array}{rll}\n",
    "    \\min        & c^{t}x                                        &                         \\\\\n",
    "    \\text{s.a.} & \\displaystyle\\sum_{i=jN+1}^{(j+1)N} x_{i} = 1 & (\\forall j=0,\\dots,N-1) \\\\\n",
    "                & \\displaystyle\\sum_{j=0}^{N-1} x_{i+jN} = 1    & (\\forall i=1,\\dots,N)   \\\\\n",
    "                & x_{i+(j-1)N} \\leq 0,                          & (\\forall i,j=1,\\dots,N : ij \\not \\in E) \\\\\n",
    "                & x_{i}\\in\\{0,1\\}                               & (\\forall i=1,\\dots,N^2) \\\\\n",
    "    \\end{array}\\right.\n",
    "\\end{eqnarray*}\n",
    "\n"
   ]
  },
  {
   "cell_type": "markdown",
   "metadata": {},
   "source": [
    "## P4\n",
    "Puede apoyarse libremente en el siguiente template."
   ]
  },
  {
   "cell_type": "code",
   "execution_count": 79,
   "metadata": {},
   "outputs": [
    {
     "data": {
      "text/plain": [
       "resolverProblemaPricing (generic function with 1 method)"
      ]
     },
     "execution_count": 79,
     "metadata": {},
     "output_type": "execute_result"
    }
   ],
   "source": [
    "function resolverProblemaPricing(V,E,g,y)\n",
    "    pricing = Model(optimizer_with_attributes(() -> Gurobi.Optimizer(GUROBI_ENV), \"Presolve\"=>0, \"Cuts\"=>0, \"Heuristics\"=>0, \"Threads\"=>1))\n",
    "    set_silent(pricing)\n",
    "    \n",
    "#     @variable(pricing, variables con sus dominios)\n",
    "#     @objective(pricing, Min, expresion_de_la_funcion_objetivo)\n",
    "#     @constraints(pricing, begin\n",
    "#         primeraRestriccion ...\n",
    "#         segundaRestriccion ...\n",
    "#     end)\n",
    "    \n",
    "    m=size(E)[1]\n",
    "    \n",
    "    @variable(pricing,x[1:V^2],Bin)\n",
    "    for j=0:(V-1)\n",
    "        @constraint(pricing,sum(x[i]       for i= (j*V+1):(j*V+V)) == 1)\n",
    "        @constraint(pricing,sum(x[j+1+i*V] for i= 0:(V-1))         == 1)\n",
    "    end\n",
    "    \n",
    "    y2 = zeros(V^2)\n",
    "    g2 = zeros(V^2)\n",
    "    \n",
    "    #=\n",
    "    for i=1:V\n",
    "        for j=1:V\n",
    "            t=true\n",
    "            for k=1:m\n",
    "                if E[k] == [i,j]\n",
    "                    t=false\n",
    "                end\n",
    "            end\n",
    "            if t\n",
    "                @constraint(pricing,x[j + (i-1)*V] == 0)\n",
    "            end\n",
    "        end\n",
    "    end\n",
    "    =#\n",
    "    \n",
    "    for k=1:m\n",
    "        i,j=E[k]\n",
    "        y2[j + (i-1)*V] = y[k]\n",
    "        g2[j + (i-1)*V] = g[k]\n",
    "    end\n",
    "   \n",
    "    \n",
    "    \n",
    "    @objective(pricing, Min, (y2-g2)' * x)\n",
    "        \n",
    "    \n",
    "    optimize!(pricing)\n",
    "    \n",
    "    if termination_status(pricing) != MOI.OPTIMAL\n",
    "        @warn(\"No hay optimo\")\n",
    "    end\n",
    "    \n",
    "    valor_objetivo = objective_value(pricing)\n",
    "    equis = value.(pricing[:x])\n",
    "    \n",
    "    \n",
    "    # Dada esta solución, como la función de costos es igual a 0 en las coordenadas de x que no son aristas del grafo original,\n",
    "    # Se pueden cambiar a 0 si es necesario y la solución sigue siendo óptima para el problema original.\n",
    "    for i=1:V\n",
    "        for j=1:V\n",
    "            t=true\n",
    "            for k=1:m\n",
    "                if E[k] == [i,j]\n",
    "                    t=false\n",
    "                end\n",
    "            end\n",
    "            if t\n",
    "               equis[j + (i-1)*V] = 0\n",
    "            end\n",
    "        end\n",
    "    end\n",
    "    \n",
    "    \n",
    "    \n",
    "    return valor_objetivo, equis\n",
    "end"
   ]
  },
  {
   "cell_type": "markdown",
   "metadata": {},
   "source": [
    "## P5\n",
    "Presente ordenadamente la solución.\n",
    "\n"
   ]
  },
  {
   "cell_type": "code",
   "execution_count": 80,
   "metadata": {},
   "outputs": [
    {
     "name": "stdout",
     "output_type": "stream",
     "text": [
      "Set parameter Presolve to value 0\n",
      "Set parameter Cuts to value 0\n",
      "Set parameter Heuristics to value 0\n",
      "Set parameter Threads to value 1\n"
     ]
    },
    {
     "data": {
      "text/plain": [
       "(0.0, [0.0, 0.0, 0.0, -0.0, 0.0, -0.0, 0.0, -0.0, 0.0, -0.0  …  0.0, 0.0, 0.0, 0.0, 0.0, 0.0, 0.0, 0.0, 0.0, 0.0], 4.0)"
      ]
     },
     "execution_count": 80,
     "metadata": {},
     "output_type": "execute_result"
    }
   ],
   "source": [
    "V,m,E = crearGrafoBipartito()\n",
    "y = crearTestY()\n",
    "g = zeros(m)\n",
    "\n",
    "resolverProblemaPricing(V,E,g,y)\n"
   ]
  },
  {
   "cell_type": "markdown",
   "metadata": {},
   "source": [
    "## P6\n",
    "Puede apoyarse libremente en el siguiente template."
   ]
  },
  {
   "cell_type": "code",
   "execution_count": 56,
   "metadata": {},
   "outputs": [
    {
     "data": {
      "text/plain": [
       "resolverProblemaMaestro2 (generic function with 1 method)"
      ]
     },
     "execution_count": 56,
     "metadata": {},
     "output_type": "execute_result"
    }
   ],
   "source": [
    "function resolverProblemaMaestro2(V,g,d,K)\n",
    "    maestro = Model(optimizer_with_attributes(() -> Gurobi.Optimizer(GUROBI_ENV), \"Presolve\"=>0, \"Cuts\"=>0, \"Heuristics\"=>0, \"Threads\"=>1))\n",
    "    set_silent(maestro)\n",
    "    \n",
    "    n,m = size(K) #columnas\n",
    "    \n",
    "    A_k=zeros(V^2,factorial(V))\n",
    "    \n",
    "    for i=1:n\n",
    "        for j=1:m\n",
    "            a,b=K[i][j]\n",
    "            A[i,(a-1)*V + b] = 1\n",
    "        end\n",
    "    end\n",
    "    \n",
    "    # Variables\n",
    "    @variable(maestro, x[1:n] >= 0)\n",
    "    \n",
    "    # Funcion Objetivo\n",
    "    @objective(maestro, Max, g' * A_k * x)\n",
    "    \n",
    "    # Restricciones \n",
    "    @constraint(maestro, primeraRestriccion, A_k * x .<= d)\n",
    "    @constraint(maestro, segundaRestriccion, sum(x[j] for j in 1:n) == 1)\n",
    "    \n",
    "    optimize!(maestro)\n",
    "    \n",
    "    optimo = (termination_status(maestro) == MOI.OPTIMAL)\n",
    "    if optimo\n",
    "        valor_objetivo = objective_value(maestro)\n",
    "        x = value.(maestro[:x])\n",
    "        y = dual.(maestro[:primeraRestriccion])\n",
    "        theta = dual.(maestro[:segundaRestriccion])\n",
    "\n",
    "    else\n",
    "        valor_objetivo, x, y, theta = \"No hay optimo\", 0, 0, 0\n",
    "    end\n",
    "    \n",
    "    return valor_objetivo, x, y, theta\n",
    "end"
   ]
  },
  {
   "cell_type": "code",
   "execution_count": 6,
   "metadata": {},
   "outputs": [
    {
     "data": {
      "text/plain": [
       "resolverGeneracionColumnas (generic function with 1 method)"
      ]
     },
     "execution_count": 6,
     "metadata": {},
     "output_type": "execute_result"
    }
   ],
   "source": [
    "function resolverGeneracionColumnas(m,E,g,d,K_0)\n",
    "    K = K_0\n",
    "    \n",
    "    maxcols = 1000 # damos una cota en el número de columnas a usar.\n",
    "\n",
    "    while length(K) <= maxcols\n",
    "        # Paso 1. Resolver problema maestro (P^K)\n",
    "        valor_objetivo, x, y, theta = resolverProblemaMaestro2(m,g,d,K)\n",
    "        # Paso 2. Resolver Pricing (E)\n",
    "        valoreps, z = resolverProblemaPricing(m,E,g,y)\n",
    "        # Paso 3. Revisar si óptimo global o si se necesita una nueva columna\n",
    "        if optimo\n",
    "            println(\"Óptimo\")\n",
    "            return K, variable_primal, valor_objetivo\n",
    "        else\n",
    "            push!(K, nueva_columna)\n",
    "        end\n",
    "    end\n",
    "    \n",
    "    # Se alcanzó el número de iteraciones\n",
    "    println(\"Subóptimo\")\n",
    "    return K, variable_primal, valor_objetivo\n",
    "end"
   ]
  },
  {
   "cell_type": "markdown",
   "metadata": {},
   "source": [
    "## P7\n",
    "Presente ordenadamente la solución."
   ]
  }
 ],
 "metadata": {
  "kernelspec": {
   "display_name": "Julia 1.7.2",
   "language": "julia",
   "name": "julia-1.7"
  },
  "language_info": {
   "file_extension": ".jl",
   "mimetype": "application/julia",
   "name": "julia",
   "version": "1.7.2"
  }
 },
 "nbformat": 4,
 "nbformat_minor": 4
}
